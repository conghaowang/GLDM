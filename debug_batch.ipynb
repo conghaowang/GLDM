{
 "cells": [
  {
   "cell_type": "code",
   "execution_count": 12,
   "id": "b54d8918",
   "metadata": {},
   "outputs": [
    {
     "name": "stdout",
     "output_type": "stream",
     "text": [
      "The autoreload extension is already loaded. To reload it, use:\n",
      "  %reload_ext autoreload\n"
     ]
    }
   ],
   "source": [
    "%load_ext autoreload\n",
    "%autoreload 2\n",
    "\n",
    "from model import BaseModel\n",
    "from dataset import MolerDataset, MolerData\n",
    "from utils import pprint_pyg_obj\n",
    "from torch_geometric.loader import DataLoader\n",
    "import torch\n",
    "from model_utils import get_params\n",
    "\n",
    "\n",
    "\n",
    "dataset = MolerDataset(\n",
    "    root = '/data/ongh0068', \n",
    "    raw_moler_trace_dataset_parent_folder = '/data/ongh0068/guacamol/trace_dir',\n",
    "    output_pyg_trace_dataset_parent_folder = '/data/ongh0068/l1000/already_batched',\n",
    "    split = 'valid_0',\n",
    ")\n",
    "\n",
    "loader = DataLoader(dataset, batch_size=2, shuffle=False, follow_batch = [\n",
    "    'correct_edge_choices',\n",
    "    'correct_edge_types',\n",
    "    'valid_edge_choices',\n",
    "    'valid_attachment_point_choices',\n",
    "    'correct_attachment_point_choice',\n",
    "    'correct_node_type_choices',\n",
    "    'original_graph_x',\n",
    "    'correct_first_node_type_choices'\n",
    "])\n",
    "params = get_params(dataset)\n",
    "\n",
    "for batch in loader:\n",
    "#     batch.cuda()\n",
    "    break"
   ]
  },
  {
   "cell_type": "code",
   "execution_count": 13,
   "id": "ad574506",
   "metadata": {},
   "outputs": [
    {
     "name": "stdout",
     "output_type": "stream",
     "text": [
      "x: torch.Size([32405, 59])\n",
      "edge_index: torch.Size([2, 64086])\n",
      "original_graph_edge_features: torch.Size([126334])\n",
      "original_graph_node_categorical_features: torch.Size([58377])\n",
      "focus_node: torch.Size([2000])\n",
      "partial_graph_edge_features: torch.Size([64086])\n",
      "edge_features: torch.Size([15217, 3])\n",
      "correct_edge_choices: torch.Size([15217])\n",
      "correct_edge_choices_batch: torch.Size([15217])\n",
      "correct_edge_choices_ptr: torch.Size([2001])\n",
      "num_correct_edge_choices: torch.Size([2000])\n",
      "stop_node_label: torch.Size([2000])\n",
      "valid_edge_choices: torch.Size([15217, 2])\n",
      "valid_edge_choices_batch: torch.Size([15217])\n",
      "valid_edge_choices_ptr: torch.Size([2001])\n",
      "valid_edge_types: torch.Size([1028, 3])\n",
      "correct_edge_types: torch.Size([1028, 3])\n",
      "correct_edge_types_batch: torch.Size([1028])\n",
      "correct_edge_types_ptr: torch.Size([2001])\n",
      "partial_node_categorical_features: torch.Size([32405])\n",
      "correct_attachment_point_choice: torch.Size([89])\n",
      "correct_attachment_point_choice_batch: torch.Size([89])\n",
      "correct_attachment_point_choice_ptr: torch.Size([2001])\n",
      "correct_node_type_choices: torch.Size([957, 166])\n",
      "correct_node_type_choices_batch: torch.Size([957])\n",
      "correct_node_type_choices_ptr: torch.Size([2001])\n",
      "correct_first_node_type_choices: torch.Size([2000, 166])\n",
      "correct_first_node_type_choices_batch: torch.Size([2000])\n",
      "correct_first_node_type_choices_ptr: torch.Size([2001])\n",
      "sa_score: torch.Size([2000])\n",
      "clogp: torch.Size([2000])\n",
      "mol_weight: torch.Size([2000])\n",
      "qed: torch.Size([2000])\n",
      "bertz: torch.Size([2000])\n",
      "original_graph_edge_index: torch.Size([2, 126334])\n",
      "original_graph_x: torch.Size([58377, 59])\n",
      "original_graph_x_batch: torch.Size([58377])\n",
      "original_graph_x_ptr: torch.Size([2001])\n",
      "valid_attachment_point_choices: torch.Size([338])\n",
      "valid_attachment_point_choices_batch: torch.Size([338])\n",
      "valid_attachment_point_choices_ptr: torch.Size([2001])\n",
      "batch: torch.Size([32405])\n",
      "ptr: torch.Size([2001])\n"
     ]
    }
   ],
   "source": [
    "pprint_pyg_obj(batch)"
   ]
  },
  {
   "cell_type": "code",
   "execution_count": 22,
   "id": "c8b25c17",
   "metadata": {},
   "outputs": [
    {
     "data": {
      "text/plain": [
       "tensor([ 0.,  1.,  2.,  3.,  4.,  5.,  6.,  7.,  8.,  9., 10., 11., 12., 13.,\n",
       "        14., 15., 16., 17., 18., 19., 20., 21., 22., 23., 24., 25., 26.])"
      ]
     },
     "execution_count": 22,
     "metadata": {},
     "output_type": "execute_result"
    }
   ],
   "source": [
    "batch.edge_features.unique()"
   ]
  },
  {
   "cell_type": "code",
   "execution_count": 29,
   "id": "7b4edd2a",
   "metadata": {},
   "outputs": [
    {
     "data": {
      "text/plain": [
       "-9223372036854775807"
      ]
     },
     "execution_count": 29,
     "metadata": {},
     "output_type": "execute_result"
    }
   ],
   "source": [
    "import sys\n",
    "-sys.maxsize"
   ]
  },
  {
   "cell_type": "code",
   "execution_count": null,
   "id": "ba1411e6",
   "metadata": {},
   "outputs": [],
   "source": []
  }
 ],
 "metadata": {
  "kernelspec": {
   "display_name": "Python 3 (ipykernel)",
   "language": "python",
   "name": "python3"
  },
  "language_info": {
   "codemirror_mode": {
    "name": "ipython",
    "version": 3
   },
   "file_extension": ".py",
   "mimetype": "text/x-python",
   "name": "python",
   "nbconvert_exporter": "python",
   "pygments_lexer": "ipython3",
   "version": "3.9.15"
  }
 },
 "nbformat": 4,
 "nbformat_minor": 5
}
