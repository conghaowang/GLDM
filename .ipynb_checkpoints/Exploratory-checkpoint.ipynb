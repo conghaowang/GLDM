{
 "cells": [
  {
   "cell_type": "code",
   "execution_count": 2,
   "metadata": {},
   "outputs": [],
   "source": [
    "from torch.utils.data import DataLoader\n",
    "from torchdrug.datasets import ZINC250k, ZINC2m\n",
    "import pytorch_lightning as pl"
   ]
  },
  {
   "cell_type": "code",
   "execution_count": null,
   "metadata": {},
   "outputs": [],
   "source": [
    "from typing import Optional"
   ]
  },
  {
   "cell_type": "code",
   "execution_count": null,
   "metadata": {},
   "outputs": [],
   "source": [
    "dataset = ZINC250k(path = 'ZINC250K', \n",
    "                            lazy = True,\n",
    "                            transform = None,\n",
    "                            atom_feature = 'default',\n",
    "                            bond_feature = 'default',\n",
    "                            with_hydrogen = False,\n",
    "                            kekulize = False) #ZINC2M, MOSES\n",
    "class ZINCDataModule(pl.LightningDataModule):\n",
    "    def __init__(self, data_dir: str = \"/data/ongh0068/\", partial_dataset: bool = True, transforms: Optional[list] = None):\n",
    "        super().__init__()\n",
    "        self.data_dir = data_dir\n",
    "        self.partial_dataset = partial_dataset\n",
    "        self.transforms = transforms\n",
    "    def prepare_data(self):\n",
    "        # download\n",
    "        if self.partial_dataset:\n",
    "            ZINC250k(path = 'ZINC250K', \n",
    "                  lazy = True,\n",
    "                  transform = None,\n",
    "                  atom_feature = 'default',\n",
    "                  bond_feature = 'default',\n",
    "                  with_hydrogen = False,\n",
    "                  kekulize = False) #ZINC2M, MOSES\n",
    "        else:\n",
    "            ZINC2m(path = 'ZINC2m', \n",
    "                  lazy = True,\n",
    "                  transform = None,\n",
    "                  atom_feature = 'default',\n",
    "                  bond_feature = 'default',\n",
    "                  with_hydrogen = False,\n",
    "                  kekulize = False) #ZINC2M, MOSES\n",
    "    def setup(self, stage: Optional[str] = None):\n",
    "\n",
    "        \n",
    "        # Assign train/val datasets for use in dataloaders\n",
    "        if stage == \"fit\" or stage == \"test\" or stage is None:\n",
    "            dataset = ZINC250k(self.data_dir, transform=self.transforms) if self.partial_dataset else ZINC2m(self.data_dir, transform=self.transforms)\n",
    "            train_len, val_len = int(0.8*len(dataset)), int(0.1*len(dataset))\n",
    "            test_len = len(dataset) - train_len - val_len\n",
    "\n",
    "            self.train_set, self.valid_set, self.test_set = torch.utils.data.random_split(dataset, [train_len, val_len, test_len])\n",
    "\n",
    "        if stage == \"predict\":\n",
    "            self.predict_set = ZINC250k(self.data_dir) if self.partial_dataset else ZINC2m(self.data_dir)\n",
    "\n",
    "    def train_dataloader(self):\n",
    "        return DataLoader(self.train_set, batch_size=32)\n",
    "\n",
    "    def val_dataloader(self):\n",
    "        return DataLoader(self.valid_set, batch_size=32)\n",
    "\n",
    "    def test_dataloader(self):\n",
    "        return DataLoader(self.test_set, batch_size=32)\n",
    "\n",
    "    def predict_dataloader(self):\n",
    "        return DataLoader(self.predict_set, batch_size=32)"
   ]
  },
  {
   "cell_type": "code",
   "execution_count": null,
   "metadata": {},
   "outputs": [],
   "source": []
  },
  {
   "cell_type": "code",
   "execution_count": null,
   "metadata": {},
   "outputs": [],
   "source": []
  }
 ],
 "metadata": {
  "kernelspec": {
   "display_name": "Python 3 (ipykernel)",
   "language": "python",
   "name": "python3"
  },
  "language_info": {
   "codemirror_mode": {
    "name": "ipython",
    "version": 3
   },
   "file_extension": ".py",
   "mimetype": "text/x-python",
   "name": "python",
   "nbconvert_exporter": "python",
   "pygments_lexer": "ipython3",
   "version": "3.9.7"
  }
 },
 "nbformat": 4,
 "nbformat_minor": 2
}
