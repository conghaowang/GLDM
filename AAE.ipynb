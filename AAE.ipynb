{
 "cells": [
  {
   "cell_type": "code",
   "execution_count": null,
   "id": "a24a2f2e",
   "metadata": {},
   "outputs": [],
   "source": [
    "class AAE(LightningModule):\n",
    "    def __init__(self, params, dataset, num_train_batches=1, batch_size=1, other_lightning_module = None):\n",
    "        super(BaseModel, self).__init__(params, dataset, num_train_batches, batch_size)\n",
    "        self._gaussian_discriminator = GenericMLP(**params['gaussian_discriminator'])\n",
    "        # instantiate fcd model and use it in validation step to allow for model checkpoint to stop when fcd is best\n",
    "        if other_lightning_module is not None:\n",
    "            # if we are doing transfer learning\n",
    "            self._transfer_pretrained_modules(other_lightning_module)\n",
    "        # otherwise, instantiate the model as is\n",
    "    def _run_step(self, batch):\n",
    "        \n",
    "    def _transfer_pretrained_modules(self, other_lightning_module):\n",
    "        \"\"\"Setter method for taking pretrained components from another lightningmodule\"\"\"\n",
    "        \n",
    "    def configure_optimizers(self):\n",
    "        return []\n",
    "    def step()\n",
    "\n",
    "    def training_step()\n",
    "\n",
    "    def validation_step(self, batch, batch_idx):\n",
    "        pass # adverserial training doesn't require monitoring loss\n",
    "\n",
    "    def validation_epoch_end(self, outputs):\n",
    "        \n",
    "    # there is a need to write all the other methods as well anyways because\n",
    "    # the AAE requires 2 optimizers and it is not possible to easily exclude the discrinator from the other ones"
   ]
  },
  {
   "cell_type": "code",
   "execution_count": null,
   "id": "01aca05f",
   "metadata": {},
   "outputs": [],
   "source": []
  },
  {
   "cell_type": "code",
   "execution_count": null,
   "id": "bac578ad",
   "metadata": {},
   "outputs": [],
   "source": []
  },
  {
   "cell_type": "code",
   "execution_count": null,
   "id": "4f219fc2",
   "metadata": {},
   "outputs": [],
   "source": []
  },
  {
   "cell_type": "code",
   "execution_count": null,
   "id": "cba14943",
   "metadata": {},
   "outputs": [],
   "source": []
  }
 ],
 "metadata": {
  "kernelspec": {
   "display_name": "Python 3 (ipykernel)",
   "language": "python",
   "name": "python3"
  },
  "language_info": {
   "codemirror_mode": {
    "name": "ipython",
    "version": 3
   },
   "file_extension": ".py",
   "mimetype": "text/x-python",
   "name": "python",
   "nbconvert_exporter": "python",
   "pygments_lexer": "ipython3",
   "version": "3.9.15"
  }
 },
 "nbformat": 4,
 "nbformat_minor": 5
}
