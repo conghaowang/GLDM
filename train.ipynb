{
 "cells": [
  {
   "cell_type": "code",
   "execution_count": null,
   "id": "0846978e",
   "metadata": {},
   "outputs": [
    {
     "name": "stderr",
     "output_type": "stream",
     "text": [
      "2022-12-25 10:17:10.772730: I tensorflow/core/platform/cpu_feature_guard.cc:193] This TensorFlow binary is optimized with oneAPI Deep Neural Network Library (oneDNN) to use the following CPU instructions in performance-critical operations:  SSE4.1 SSE4.2 AVX AVX2 FMA\n",
      "To enable them in other operations, rebuild TensorFlow with the appropriate compiler flags.\n"
     ]
    }
   ],
   "source": [
    "from dataset import MolerDataset\n",
    "from torch_geometric.loader import DataLoader\n",
    "from model import BaseModel\n",
    "from model_utils import get_params\n",
    "from torch.utils.data import RandomSampler\n",
    "from sampler import DuplicatedIndicesSamplerWrapper\n",
    "import pandas as pd\n",
    "from pytorch_lightning import Trainer\n",
    "\n",
    "processed_file_metadata = (\n",
    "    \"/data/ongh0068/l1000/pyg_output_playground/train/processed_file_paths.csv\"\n",
    ")\n",
    "molecule_gen_steps_lengths = pd.read_csv(processed_file_metadata)[\n",
    "    \"molecule_gen_steps_length\"\n",
    "].tolist()\n",
    "\n",
    "\n",
    "\n",
    "train_dataset = MolerDataset(\n",
    "    root=\"/data/ongh0068\",\n",
    "    raw_moler_trace_dataset_parent_folder=\"/data/ongh0068/l1000/trace_playground\",\n",
    "    output_pyg_trace_dataset_parent_folder=\"/data/ongh0068/l1000/pyg_output_playground\",\n",
    "    split=\"train\",\n",
    ")\n",
    "\n",
    "random_sampler = RandomSampler(data_source=[i for i in range(len(train_dataset))])\n",
    "sampler = DuplicatedIndicesSamplerWrapper(\n",
    "    sampler=random_sampler,\n",
    "    frequency_mapping={\n",
    "        idx: length for idx, length in enumerate(molecule_gen_steps_lengths)\n",
    "    },\n",
    ")\n",
    "\n",
    "\n",
    "train_dataloader = DataLoader(\n",
    "    train_dataset,\n",
    "    batch_size=16,\n",
    "    shuffle=False,\n",
    "    sampler=sampler,\n",
    "    follow_batch=[\n",
    "        \"correct_edge_choices\",\n",
    "        \"correct_edge_types\",\n",
    "        \"valid_edge_choices\",\n",
    "        \"valid_attachment_point_choices\",\n",
    "        \"correct_attachment_point_choice\",\n",
    "        \"correct_node_type_choices\",\n",
    "        \"original_graph_x\",\n",
    "        'correct_first_node_type_choices'\n",
    "    ],\n",
    ")\n",
    "params = get_params()\n",
    "print('HERE')\n",
    "model = BaseModel(params, train_dataset).to(\"cuda:1\")\n",
    "\n",
    "\n",
    "# datamodule = LightningDataset(dataset)\n",
    "trainer = Trainer(accelerator = 'gpu', devices = 1)  # overfit_batches=1)\n"
   ]
  },
  {
   "cell_type": "code",
   "execution_count": null,
   "id": "35a93315",
   "metadata": {},
   "outputs": [],
   "source": [
    "model "
   ]
  },
  {
   "cell_type": "code",
   "execution_count": null,
   "id": "f01f2b02",
   "metadata": {},
   "outputs": [],
   "source": [
    "trainer.fit(model, train_dataloader, train_dataloader)\n"
   ]
  },
  {
   "cell_type": "code",
   "execution_count": 5,
   "id": "982a8e8f",
   "metadata": {},
   "outputs": [
    {
     "name": "stdout",
     "output_type": "stream",
     "text": [
      "MolerDataBatch(x=[4411, 32], edge_index=[2, 13381], original_graph_edge_type=[22916], original_graph_node_categorical_features=[7184], focus_node=[256], edge_type=[13381], edge_features=[1555, 3], correct_edge_choices=[1555], correct_edge_choices_batch=[1555], correct_edge_choices_ptr=[257], num_correct_edge_choices=[256], stop_node_label=[256], valid_edge_choices=[1555, 2], valid_edge_choices_batch=[1555], valid_edge_choices_ptr=[257], valid_edge_types=[117, 3], correct_edge_types=[117, 3], correct_edge_types_batch=[117], correct_edge_types_ptr=[257], partial_node_categorical_features=[4411], correct_attachment_point_choice=[28], correct_attachment_point_choice_batch=[28], correct_attachment_point_choice_ptr=[257], correct_node_type_choices=[118, 139], correct_node_type_choices_batch=[118], correct_node_type_choices_ptr=[257], correct_first_node_type_choices=[256, 139], correct_first_node_type_choices_batch=[256], correct_first_node_type_choices_ptr=[257], sa_score=[256], clogp=[256], mol_weight=[256], qed=[256], bertz=[256], original_graph_edge_index=[2, 22916], original_graph_x=[7184, 32], original_graph_x_batch=[7184], original_graph_x_ptr=[257], valid_attachment_point_choices=[98], valid_attachment_point_choices_batch=[98], valid_attachment_point_choices_ptr=[257], batch=[4411], ptr=[257])\n",
      "MolerDataBatch(x=[4351, 32], edge_index=[2, 13033], original_graph_edge_type=[22625], original_graph_node_categorical_features=[7123], focus_node=[256], edge_type=[13033], edge_features=[1489, 3], correct_edge_choices=[1489], correct_edge_choices_batch=[1489], correct_edge_choices_ptr=[257], num_correct_edge_choices=[256], stop_node_label=[256], valid_edge_choices=[1489, 2], valid_edge_choices_batch=[1489], valid_edge_choices_ptr=[257], valid_edge_types=[125, 3], correct_edge_types=[125, 3], correct_edge_types_batch=[125], correct_edge_types_ptr=[257], partial_node_categorical_features=[4351], correct_attachment_point_choice=[21], correct_attachment_point_choice_batch=[21], correct_attachment_point_choice_ptr=[257], correct_node_type_choices=[120, 139], correct_node_type_choices_batch=[120], correct_node_type_choices_ptr=[257], correct_first_node_type_choices=[256, 139], correct_first_node_type_choices_batch=[256], correct_first_node_type_choices_ptr=[257], sa_score=[256], clogp=[256], mol_weight=[256], qed=[256], bertz=[256], original_graph_edge_index=[2, 22625], original_graph_x=[7123, 32], original_graph_x_batch=[7123], original_graph_x_ptr=[257], valid_attachment_point_choices=[73], valid_attachment_point_choices_batch=[73], valid_attachment_point_choices_ptr=[257], batch=[4351], ptr=[257])\n",
      "MolerDataBatch(x=[4427, 32], edge_index=[2, 13291], original_graph_edge_type=[24916], original_graph_node_categorical_features=[7808], focus_node=[256], edge_type=[13291], edge_features=[1931, 3], correct_edge_choices=[1931], correct_edge_choices_batch=[1931], correct_edge_choices_ptr=[257], num_correct_edge_choices=[256], stop_node_label=[256], valid_edge_choices=[1931, 2], valid_edge_choices_batch=[1931], valid_edge_choices_ptr=[257], valid_edge_types=[137, 3], correct_edge_types=[137, 3], correct_edge_types_batch=[137], correct_edge_types_ptr=[257], partial_node_categorical_features=[4427], correct_attachment_point_choice=[14], correct_attachment_point_choice_batch=[14], correct_attachment_point_choice_ptr=[257], correct_node_type_choices=[119, 139], correct_node_type_choices_batch=[119], correct_node_type_choices_ptr=[257], correct_first_node_type_choices=[256, 139], correct_first_node_type_choices_batch=[256], correct_first_node_type_choices_ptr=[257], sa_score=[256], clogp=[256], mol_weight=[256], qed=[256], bertz=[256], original_graph_edge_index=[2, 24916], original_graph_x=[7808, 32], original_graph_x_batch=[7808], original_graph_x_ptr=[257], valid_attachment_point_choices=[50], valid_attachment_point_choices_batch=[50], valid_attachment_point_choices_ptr=[257], batch=[4427], ptr=[257])\n",
      "MolerDataBatch(x=[4884, 32], edge_index=[2, 14826], original_graph_edge_type=[24693], original_graph_node_categorical_features=[7693], focus_node=[256], edge_type=[14826], edge_features=[2378, 3], correct_edge_choices=[2378], correct_edge_choices_batch=[2378], correct_edge_choices_ptr=[257], num_correct_edge_choices=[256], stop_node_label=[256], valid_edge_choices=[2378, 2], valid_edge_choices_batch=[2378], valid_edge_choices_ptr=[257], valid_edge_types=[138, 3], correct_edge_types=[138, 3], correct_edge_types_batch=[138], correct_edge_types_ptr=[257], partial_node_categorical_features=[4884], correct_attachment_point_choice=[15], correct_attachment_point_choice_batch=[15], correct_attachment_point_choice_ptr=[257], correct_node_type_choices=[119, 139], correct_node_type_choices_batch=[119], correct_node_type_choices_ptr=[257], correct_first_node_type_choices=[256, 139], correct_first_node_type_choices_batch=[256], correct_first_node_type_choices_ptr=[257], sa_score=[256], clogp=[256], mol_weight=[256], qed=[256], bertz=[256], original_graph_edge_index=[2, 24693], original_graph_x=[7693, 32], original_graph_x_batch=[7693], original_graph_x_ptr=[257], valid_attachment_point_choices=[60], valid_attachment_point_choices_batch=[60], valid_attachment_point_choices_ptr=[257], batch=[4884], ptr=[257])\n",
      "MolerDataBatch(x=[4582, 32], edge_index=[2, 13962], original_graph_edge_type=[23620], original_graph_node_categorical_features=[7352], focus_node=[256], edge_type=[13962], edge_features=[2108, 3], correct_edge_choices=[2108], correct_edge_choices_batch=[2108], correct_edge_choices_ptr=[257], num_correct_edge_choices=[256], stop_node_label=[256], valid_edge_choices=[2108, 2], valid_edge_choices_batch=[2108], valid_edge_choices_ptr=[257], valid_edge_types=[134, 3], correct_edge_types=[134, 3], correct_edge_types_batch=[134], correct_edge_types_ptr=[257], partial_node_categorical_features=[4582], correct_attachment_point_choice=[17], correct_attachment_point_choice_batch=[17], correct_attachment_point_choice_ptr=[257], correct_node_type_choices=[119, 139], correct_node_type_choices_batch=[119], correct_node_type_choices_ptr=[257], correct_first_node_type_choices=[256, 139], correct_first_node_type_choices_batch=[256], correct_first_node_type_choices_ptr=[257], sa_score=[256], clogp=[256], mol_weight=[256], qed=[256], bertz=[256], original_graph_edge_index=[2, 23620], original_graph_x=[7352, 32], original_graph_x_batch=[7352], original_graph_x_ptr=[257], valid_attachment_point_choices=[80], valid_attachment_point_choices_batch=[80], valid_attachment_point_choices_ptr=[257], batch=[4582], ptr=[257])\n",
      "MolerDataBatch(x=[4848, 32], edge_index=[2, 14766], original_graph_edge_type=[26002], original_graph_node_categorical_features=[8070], focus_node=[256], edge_type=[14766], edge_features=[1719, 3], correct_edge_choices=[1719], correct_edge_choices_batch=[1719], correct_edge_choices_ptr=[257], num_correct_edge_choices=[256], stop_node_label=[256], valid_edge_choices=[1719, 2], valid_edge_choices_batch=[1719], valid_edge_choices_ptr=[257], valid_edge_types=[124, 3], correct_edge_types=[124, 3], correct_edge_types_batch=[124], correct_edge_types_ptr=[257], partial_node_categorical_features=[4848], correct_attachment_point_choice=[27], correct_attachment_point_choice_batch=[27], correct_attachment_point_choice_ptr=[257], correct_node_type_choices=[115, 139], correct_node_type_choices_batch=[115], correct_node_type_choices_ptr=[257], correct_first_node_type_choices=[256, 139], correct_first_node_type_choices_batch=[256], correct_first_node_type_choices_ptr=[257], sa_score=[256], clogp=[256], mol_weight=[256], qed=[256], bertz=[256], original_graph_edge_index=[2, 26002], original_graph_x=[8070, 32], original_graph_x_batch=[8070], original_graph_x_ptr=[257], valid_attachment_point_choices=[108], valid_attachment_point_choices_batch=[108], valid_attachment_point_choices_ptr=[257], batch=[4848], ptr=[257])\n",
      "MolerDataBatch(x=[4401, 32], edge_index=[2, 13291], original_graph_edge_type=[23374], original_graph_node_categorical_features=[7388], focus_node=[256], edge_type=[13291], edge_features=[1626, 3], correct_edge_choices=[1626], correct_edge_choices_batch=[1626], correct_edge_choices_ptr=[257], num_correct_edge_choices=[256], stop_node_label=[256], valid_edge_choices=[1626, 2], valid_edge_choices_batch=[1626], valid_edge_choices_ptr=[257], valid_edge_types=[124, 3], correct_edge_types=[124, 3], correct_edge_types_batch=[124], correct_edge_types_ptr=[257], partial_node_categorical_features=[4401], correct_attachment_point_choice=[25], correct_attachment_point_choice_batch=[25], correct_attachment_point_choice_ptr=[257], correct_node_type_choices=[117, 139], correct_node_type_choices_batch=[117], correct_node_type_choices_ptr=[257], correct_first_node_type_choices=[256, 139], correct_first_node_type_choices_batch=[256], correct_first_node_type_choices_ptr=[257], sa_score=[256], clogp=[256], mol_weight=[256], qed=[256], bertz=[256], original_graph_edge_index=[2, 23374], original_graph_x=[7388, 32], original_graph_x_batch=[7388], original_graph_x_ptr=[257], valid_attachment_point_choices=[87], valid_attachment_point_choices_batch=[87], valid_attachment_point_choices_ptr=[257], batch=[4401], ptr=[257])\n"
     ]
    },
    {
     "name": "stdout",
     "output_type": "stream",
     "text": [
      "MolerDataBatch(x=[4352, 32], edge_index=[2, 13038], original_graph_edge_type=[24491], original_graph_node_categorical_features=[7601], focus_node=[256], edge_type=[13038], edge_features=[2169, 3], correct_edge_choices=[2169], correct_edge_choices_batch=[2169], correct_edge_choices_ptr=[257], num_correct_edge_choices=[256], stop_node_label=[256], valid_edge_choices=[2169, 2], valid_edge_choices_batch=[2169], valid_edge_choices_ptr=[257], valid_edge_types=[142, 3], correct_edge_types=[142, 3], correct_edge_types_batch=[142], correct_edge_types_ptr=[257], partial_node_categorical_features=[4352], correct_attachment_point_choice=[9], correct_attachment_point_choice_batch=[9], correct_attachment_point_choice_ptr=[257], correct_node_type_choices=[121, 139], correct_node_type_choices_batch=[121], correct_node_type_choices_ptr=[257], correct_first_node_type_choices=[256, 139], correct_first_node_type_choices_batch=[256], correct_first_node_type_choices_ptr=[257], sa_score=[256], clogp=[256], mol_weight=[256], qed=[256], bertz=[256], original_graph_edge_index=[2, 24491], original_graph_x=[7601, 32], original_graph_x_batch=[7601], original_graph_x_ptr=[257], valid_attachment_point_choices=[32], valid_attachment_point_choices_batch=[32], valid_attachment_point_choices_ptr=[257], batch=[4352], ptr=[257])\n",
      "MolerDataBatch(x=[5133, 32], edge_index=[2, 15823], original_graph_edge_type=[28565], original_graph_node_categorical_features=[8783], focus_node=[256], edge_type=[15823], edge_features=[2241, 3], correct_edge_choices=[2241], correct_edge_choices_batch=[2241], correct_edge_choices_ptr=[257], num_correct_edge_choices=[256], stop_node_label=[256], valid_edge_choices=[2241, 2], valid_edge_choices_batch=[2241], valid_edge_choices_ptr=[257], valid_edge_types=[136, 3], correct_edge_types=[136, 3], correct_edge_types_batch=[136], correct_edge_types_ptr=[257], partial_node_categorical_features=[5133], correct_attachment_point_choice=[17], correct_attachment_point_choice_batch=[17], correct_attachment_point_choice_ptr=[257], correct_node_type_choices=[118, 139], correct_node_type_choices_batch=[118], correct_node_type_choices_ptr=[257], correct_first_node_type_choices=[256, 139], correct_first_node_type_choices_batch=[256], correct_first_node_type_choices_ptr=[257], sa_score=[256], clogp=[256], mol_weight=[256], qed=[256], bertz=[256], original_graph_edge_index=[2, 28565], original_graph_x=[8783, 32], original_graph_x_batch=[8783], original_graph_x_ptr=[257], valid_attachment_point_choices=[66], valid_attachment_point_choices_batch=[66], valid_attachment_point_choices_ptr=[257], batch=[5133], ptr=[257])\n",
      "MolerDataBatch(x=[1290, 32], edge_index=[2, 3836], original_graph_edge_type=[6217], original_graph_node_categorical_features=[1957], focus_node=[80], edge_type=[3836], edge_features=[492, 3], correct_edge_choices=[492], correct_edge_choices_batch=[492], correct_edge_choices_ptr=[81], num_correct_edge_choices=[80], stop_node_label=[80], valid_edge_choices=[492, 2], valid_edge_choices_batch=[492], valid_edge_choices_ptr=[81], valid_edge_types=[42, 3], correct_edge_types=[42, 3], correct_edge_types_batch=[42], correct_edge_types_ptr=[81], partial_node_categorical_features=[1290], correct_attachment_point_choice=[5], correct_attachment_point_choice_batch=[5], correct_attachment_point_choice_ptr=[81], correct_node_type_choices=[37, 139], correct_node_type_choices_batch=[37], correct_node_type_choices_ptr=[81], correct_first_node_type_choices=[80, 139], correct_first_node_type_choices_batch=[80], correct_first_node_type_choices_ptr=[81], sa_score=[80], clogp=[80], mol_weight=[80], qed=[80], bertz=[80], original_graph_edge_index=[2, 6217], original_graph_x=[1957, 32], original_graph_x_batch=[1957], original_graph_x_ptr=[81], valid_attachment_point_choices=[18], valid_attachment_point_choices_batch=[18], valid_attachment_point_choices_ptr=[81], batch=[1290], ptr=[81])\n"
     ]
    }
   ],
   "source": [
    "for batch in train_dataloader:\n",
    "    print(batch)\n",
    "    break"
   ]
  },
  {
   "cell_type": "code",
   "execution_count": null,
   "id": "0da56932",
   "metadata": {},
   "outputs": [],
   "source": []
  }
 ],
 "metadata": {
  "kernelspec": {
   "display_name": "Python 3 (ipykernel)",
   "language": "python",
   "name": "python3"
  },
  "language_info": {
   "codemirror_mode": {
    "name": "ipython",
    "version": 3
   },
   "file_extension": ".py",
   "mimetype": "text/x-python",
   "name": "python",
   "nbconvert_exporter": "python",
   "pygments_lexer": "ipython3",
   "version": "3.9.15"
  }
 },
 "nbformat": 4,
 "nbformat_minor": 5
}
