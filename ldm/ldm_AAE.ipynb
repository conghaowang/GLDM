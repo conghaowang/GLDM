{
 "cells": [
  {
   "cell_type": "code",
   "execution_count": 1,
   "id": "c33d7457",
   "metadata": {},
   "outputs": [
    {
     "name": "stderr",
     "output_type": "stream",
     "text": [
      "2023-05-05 22:14:55.875224: I tensorflow/core/platform/cpu_feature_guard.cc:193] This TensorFlow binary is optimized with oneAPI Deep Neural Network Library (oneDNN) to use the following CPU instructions in performance-critical operations:  SSE4.1 SSE4.2 AVX AVX2 FMA\n",
      "To enable them in other operations, rebuild TensorFlow with the appropriate compiler flags.\n"
     ]
    }
   ],
   "source": [
    "import sys \n",
    "sys.path.append('../')\n",
    "import numpy as np\n",
    "from dataset import LincsDataset\n",
    "from torch_geometric.loader import DataLoader\n",
    "import torch\n",
    "from omegaconf import OmegaConf\n",
    "from model_utils import get_params\n",
    "from pytorch_lightning.trainer import Trainer\n",
    "from pytorch_lightning.callbacks import ModelCheckpoint, EarlyStopping\n",
    "from pytorch_lightning.loggers import TensorBoardLogger\n",
    "from pytorch_lightning.callbacks import LearningRateMonitor\n",
    "from datetime import datetime\n",
    "from moler_ldm import LatentDiffusion"
   ]
  },
  {
   "cell_type": "code",
   "execution_count": 2,
   "id": "e88afc71",
   "metadata": {},
   "outputs": [],
   "source": [
    "batch_size = 1\n",
    "NUM_WORKERS = 4\n",
    "train_split1 = \"train_0\"\n",
    "valid_split = \"valid_0\""
   ]
  },
  {
   "cell_type": "code",
   "execution_count": 4,
   "id": "5374ac99",
   "metadata": {},
   "outputs": [],
   "source": [
    "raw_moler_trace_dataset_parent_folder = \"/data/ongh0068/guacamol/trace_dir\"\n",
    "output_pyg_trace_dataset_parent_folder = (\n",
    "    \"/data/ongh0068/l1000/already_batched\"\n",
    ")"
   ]
  },
  {
   "cell_type": "code",
   "execution_count": 8,
   "id": "c9343653",
   "metadata": {},
   "outputs": [
    {
     "data": {
      "text/plain": [
       "{'linear_start': 0.00085, 'linear_end': 0.012, 'num_timesteps_cond': 1, 'log_every_t': 50, 'timesteps': 200, 'first_stage_key': 'image', 'cond_stage_key': 'gene_expressions', 'image_size': 512, 'channels': 1, 'cond_stage_trainable': False, 'conditioning_key': 'crossattn', 'monitor': 'val/loss_simple_ema', 'scale_factor': 1, 'use_ema': False, 'parameterization': 'eps'}"
      ]
     },
     "execution_count": 8,
     "metadata": {},
     "output_type": "execute_result"
    }
   ],
   "source": [
    "config_file = 'config/ddim_aae_con.yml'\n",
    "config = OmegaConf.load(config_file)\n",
    "ldm_params = config['model']['params']\n",
    "ldm_params"
   ]
  },
  {
   "cell_type": "code",
   "execution_count": 9,
   "id": "d842be0a",
   "metadata": {},
   "outputs": [],
   "source": [
    "layer_type = \"FiLMConv\"\n",
    "model_architecture = 'aae'\n",
    "gradient_clip_val = 1.0\n",
    "max_lr = 1e-5\n",
    "gen_step_drop_probability = 0.95\n",
    "use_oclr_scheduler = True\n",
    "using_cyclical_anneal = False\n",
    "use_clamp_log_var = False"
   ]
  },
  {
   "cell_type": "code",
   "execution_count": 11,
   "id": "0569b55b",
   "metadata": {},
   "outputs": [
    {
     "name": "stdout",
     "output_type": "stream",
     "text": [
      "Loading controls gene expression...\n",
      "Loading tumour gene expression...\n",
      "Loading csv...\n"
     ]
    }
   ],
   "source": [
    "train_dataset = LincsDataset(\n",
    "    root=\"/data/ongh0068\",\n",
    "    raw_moler_trace_dataset_parent_folder=raw_moler_trace_dataset_parent_folder,  # \"/data/ongh0068/l1000/trace_playground\",\n",
    "    output_pyg_trace_dataset_parent_folder=output_pyg_trace_dataset_parent_folder,\n",
    "    gene_exp_controls_file_path=\"/data/ongh0068/l1000/lincs/robust_normalized_controls.npz\",\n",
    "    gene_exp_tumour_file_path=\"/data/ongh0068/l1000/lincs/robust_normalized_tumors.npz\",\n",
    "    lincs_csv_file_path=\"/data/ongh0068/l1000/lincs/experiments_filtered.csv\",\n",
    "    split=train_split1,\n",
    "    gen_step_drop_probability=gen_step_drop_probability,\n",
    ")"
   ]
  },
  {
   "cell_type": "code",
   "execution_count": 14,
   "id": "afd7ce92",
   "metadata": {},
   "outputs": [
    {
     "data": {
      "text/plain": [
       "0.95"
      ]
     },
     "execution_count": 14,
     "metadata": {},
     "output_type": "execute_result"
    }
   ],
   "source": [
    "train_dataset._gen_step_drop_probability"
   ]
  },
  {
   "cell_type": "code",
   "execution_count": null,
   "id": "ae2b0da5",
   "metadata": {},
   "outputs": [],
   "source": []
  }
 ],
 "metadata": {
  "kernelspec": {
   "display_name": "drug_gen",
   "language": "python",
   "name": "drug_gen"
  },
  "language_info": {
   "codemirror_mode": {
    "name": "ipython",
    "version": 3
   },
   "file_extension": ".py",
   "mimetype": "text/x-python",
   "name": "python",
   "nbconvert_exporter": "python",
   "pygments_lexer": "ipython3",
   "version": "3.9.15"
  }
 },
 "nbformat": 4,
 "nbformat_minor": 5
}
