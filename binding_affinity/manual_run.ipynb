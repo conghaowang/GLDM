{
 "cells": [
  {
   "cell_type": "code",
   "execution_count": 1,
   "id": "fb70c80d",
   "metadata": {},
   "outputs": [],
   "source": [
    "import re\n",
    "import subprocess"
   ]
  },
  {
   "cell_type": "code",
   "execution_count": 5,
   "id": "e02b5ce0",
   "metadata": {},
   "outputs": [
    {
     "data": {
      "text/plain": [
       "'gnina -r protein/AKT1.pdb -l ligand/aae/CN1CCC\\\\(c2c\\\\(O\\\\)cc\\\\(O\\\\)c3c\\\\(=O\\\\)cc\\\\(-c4ccccc4Cl\\\\)oc23\\\\)C\\\\(O\\\\)C1/CC\\\\(=O\\\\)Nc1ccc\\\\(Sc2ccc\\\\(-c3ccc\\\\(CCCCC\\\\(c4ccccc4\\\\)N4C\\\\(=O\\\\)Cc5ccccc54\\\\)cc3Sc3ccc\\\\(-c4ccc\\\\(-c5cccc\\\\(NC\\\\(C\\\\)=O\\\\)c5\\\\)cc4\\\\)cc3\\\\)cc2\\\\)cc1.sdf --autobox_ligand protein/AKT1.pdb -o poses/aae/AKT1/CN1CCC\\\\(c2c\\\\(O\\\\)cc\\\\(O\\\\)c3c\\\\(=O\\\\)cc\\\\(-c4ccccc4Cl\\\\)oc23\\\\)C\\\\(O\\\\)C1/CC\\\\(=O\\\\)Nc1ccc\\\\(Sc2ccc\\\\(-c3ccc\\\\(CCCCC\\\\(c4ccccc4\\\\)N4C\\\\(=O\\\\)Cc5ccccc54\\\\)cc3Sc3ccc\\\\(-c4ccc\\\\(-c5cccc\\\\(NC\\\\(C\\\\)=O\\\\)c5\\\\)cc4\\\\)cc3\\\\)cc2\\\\)cc1.sdf --exhaustiveness 16 --log logs/aae/AKT1/CN1CCC\\\\(c2c\\\\(O\\\\)cc\\\\(O\\\\)c3c\\\\(=O\\\\)cc\\\\(-c4ccccc4Cl\\\\)oc23\\\\)C\\\\(O\\\\)C1/CC\\\\(=O\\\\)Nc1ccc\\\\(Sc2ccc\\\\(-c3ccc\\\\(CCCCC\\\\(c4ccccc4\\\\)N4C\\\\(=O\\\\)Cc5ccccc54\\\\)cc3Sc3ccc\\\\(-c4ccc\\\\(-c5cccc\\\\(NC\\\\(C\\\\)=O\\\\)c5\\\\)cc4\\\\)cc3\\\\)cc2\\\\)cc1.log -q'"
      ]
     },
     "execution_count": 5,
     "metadata": {},
     "output_type": "execute_result"
    }
   ],
   "source": [
    "str = 'gnina -r protein/AKT1.pdb -l ligand/aae/CN1CCC(c2c(O)cc(O)c3c(=O)cc(-c4ccccc4Cl)oc23)C(O)C1/CC(=O)Nc1ccc(Sc2ccc(-c3ccc(CCCCC(c4ccccc4)N4C(=O)Cc5ccccc54)cc3Sc3ccc(-c4ccc(-c5cccc(NC(C)=O)c5)cc4)cc3)cc2)cc1.sdf --autobox_ligand protein/AKT1.pdb -o poses/aae/AKT1/CN1CCC(c2c(O)cc(O)c3c(=O)cc(-c4ccccc4Cl)oc23)C(O)C1/CC(=O)Nc1ccc(Sc2ccc(-c3ccc(CCCCC(c4ccccc4)N4C(=O)Cc5ccccc54)cc3Sc3ccc(-c4ccc(-c5cccc(NC(C)=O)c5)cc4)cc3)cc2)cc1.sdf --exhaustiveness 16 --log logs/aae/AKT1/CN1CCC(c2c(O)cc(O)c3c(=O)cc(-c4ccccc4Cl)oc23)C(O)C1/CC(=O)Nc1ccc(Sc2ccc(-c3ccc(CCCCC(c4ccccc4)N4C(=O)Cc5ccccc54)cc3Sc3ccc(-c4ccc(-c5cccc(NC(C)=O)c5)cc4)cc3)cc2)cc1.log -q'\n",
    "ss = re.sub(r'([()])', r'\\\\\\1', str)\n",
    "ss"
   ]
  },
  {
   "cell_type": "code",
   "execution_count": 14,
   "id": "d2aa7564",
   "metadata": {},
   "outputs": [
    {
     "data": {
      "text/plain": [
       "'CN1CCC\\\\(c2c\\\\(O\\\\)cc\\\\(O\\\\)c3c\\\\(=O\\\\)cc\\\\(-c4ccccc4Cl\\\\)oc23\\\\)C\\\\(O\\\\)C1'"
      ]
     },
     "execution_count": 14,
     "metadata": {},
     "output_type": "execute_result"
    }
   ],
   "source": [
    "re.sub(r'([()])', r'\\\\\\1', 'CN1CCC(c2c(O)cc(O)c3c(=O)cc(-c4ccccc4Cl)oc23)C(O)C1')"
   ]
  },
  {
   "cell_type": "code",
   "execution_count": 16,
   "id": "55a477f4",
   "metadata": {},
   "outputs": [
    {
     "name": "stderr",
     "output_type": "stream",
     "text": [
      "==============================\n",
      "*** Open Babel Warning  in PerceiveBondOrders\n",
      "  Failed to kekulize aromatic bonds in OBMol::PerceiveBondOrders\n",
      "\n",
      "==============================\n",
      "*** Open Babel Warning  in PerceiveBondOrders\n",
      "  Failed to kekulize aromatic bonds in OBMol::PerceiveBondOrders\n",
      "\n"
     ]
    },
    {
     "data": {
      "text/plain": [
       "CompletedProcess(args=['gnina', '-r', 'protein/AKT1.pdb', '-l', 'ligand/aae/CN1CCC(c2c(O)cc(O)c3c(=O)cc(-c4ccccc4Cl)oc23)C(O)C1/CC(=O)Nc1ccc(Sc2ccc(-c3ccc(CCCCC(c4ccccc4)N4C(=O)Cc5ccccc54)cc3Sc3ccc(-c4ccc(-c5cccc(NC(C)=O)c5)cc4)cc3)cc2)cc1.sdf', '--autobox_ligand', 'protein/AKT1.pdb', '-o', 'poses/aae/AKT1/CN1CCC(c2c(O)cc(O)c3c(=O)cc(-c4ccccc4Cl)oc23)C(O)C1/CC(=O)Nc1ccc(Sc2ccc(-c3ccc(CCCCC(c4ccccc4)N4C(=O)Cc5ccccc54)cc3Sc3ccc(-c4ccc(-c5cccc(NC(C)=O)c5)cc4)cc3)cc2)cc1.sdf', '--exhaustiveness', '16', '--log', 'logs/aae/AKT1/CN1CCC(c2c(O)cc(O)c3c(=O)cc(-c4ccccc4Cl)oc23)C(O)C1/CC(=O)Nc1ccc(Sc2ccc(-c3ccc(CCCCC(c4ccccc4)N4C(=O)Cc5ccccc54)cc3Sc3ccc(-c4ccc(-c5cccc(NC(C)=O)c5)cc4)cc3)cc2)cc1.log', '-q'], returncode=0)"
      ]
     },
     "execution_count": 16,
     "metadata": {},
     "output_type": "execute_result"
    }
   ],
   "source": [
    "subprocess.run(['gnina', '-r', 'protein/AKT1.pdb', \n",
    "                '-l', 'ligand/aae/CN1CCC(c2c(O)cc(O)c3c(=O)cc(-c4ccccc4Cl)oc23)C(O)C1/CC(=O)Nc1ccc(Sc2ccc(-c3ccc(CCCCC(c4ccccc4)N4C(=O)Cc5ccccc54)cc3Sc3ccc(-c4ccc(-c5cccc(NC(C)=O)c5)cc4)cc3)cc2)cc1.sdf', \n",
    "                '--autobox_ligand', 'protein/AKT1.pdb', '-o', 'poses/aae/AKT1/CN1CCC(c2c(O)cc(O)c3c(=O)cc(-c4ccccc4Cl)oc23)C(O)C1/CC(=O)Nc1ccc(Sc2ccc(-c3ccc(CCCCC(c4ccccc4)N4C(=O)Cc5ccccc54)cc3Sc3ccc(-c4ccc(-c5cccc(NC(C)=O)c5)cc4)cc3)cc2)cc1.sdf', \n",
    "                '--exhaustiveness', '16', \n",
    "                '--log', 'logs/aae/AKT1/CN1CCC(c2c(O)cc(O)c3c(=O)cc(-c4ccccc4Cl)oc23)C(O)C1/CC(=O)Nc1ccc(Sc2ccc(-c3ccc(CCCCC(c4ccccc4)N4C(=O)Cc5ccccc54)cc3Sc3ccc(-c4ccc(-c5cccc(NC(C)=O)c5)cc4)cc3)cc2)cc1.log', '-q'], stdout=subprocess.DEVNULL)\n"
   ]
  },
  {
   "cell_type": "code",
   "execution_count": 2,
   "id": "6016c0bd",
   "metadata": {},
   "outputs": [
    {
     "name": "stderr",
     "output_type": "stream",
     "text": [
      "==============================\n",
      "*** Open Babel Warning  in PerceiveBondOrders\n",
      "  Failed to kekulize aromatic bonds in OBMol::PerceiveBondOrders\n",
      "\n"
     ]
    },
    {
     "name": "stdout",
     "output_type": "stream",
     "text": [
      "\n",
      "0%   10   20   30   40   50   60   70   80   90   100%\n",
      "|----|----|----|----|----|----|----|----|----|----|\n",
      "***************************************************\n",
      " | pose 0 | initial pose not within box\n",
      " | pose 0 | ligand outside box\n",
      " | pose 0 | ligand outside box\n",
      " | pose 0 | ligand outside box\n",
      " | pose 0 | ligand outside box\n",
      " | pose 0 | ligand outside box\n",
      " | pose 0 | ligand outside box\n",
      " | pose 0 | ligand outside box\n",
      " | pose 0 | ligand outside box\n",
      " | pose 0 | ligand outside box\n",
      " | pose 0 | ligand outside box\n",
      " | pose 0 | ligand outside box\n",
      " | pose 0 | ligand outside box\n",
      " | pose 0 | ligand outside box\n",
      " | pose 0 | ligand outside box\n",
      " | pose 0 | ligand outside box\n",
      " | pose 0 | initial pose not within box\n",
      " | pose 0 | ligand outside box\n",
      " | pose 0 | ligand outside box\n",
      " | pose 0 | ligand outside box\n",
      " | pose 0 | ligand outside box\n",
      " | pose 0 | ligand outside box\n",
      " | pose 0 | initial pose not within box\n",
      " | pose 0 | ligand outside box\n",
      " | pose 0 | ligand outside box\n",
      " | pose 0 | ligand outside box\n",
      " | pose 0 | ligand outside box\n",
      " | pose 0 | ligand outside box\n",
      " | pose 0 | ligand outside box\n",
      " | pose 0 | ligand outside box\n",
      " | pose 0 | initial pose not within box\n",
      " | pose 0 | ligand outside box\n",
      " | pose 0 | ligand outside box\n",
      " | pose 0 | ligand outside box\n",
      " | pose 0 | ligand outside box\n",
      " | pose 0 | ligand outside box\n",
      " | pose 0 | ligand outside box\n",
      " | pose 0 | ligand outside box\n",
      " | pose 0 | ligand outside box\n",
      " | pose 0 | ligand outside box\n",
      " | pose 0 | ligand outside box\n",
      " | pose 0 | ligand outside box\n",
      " | pose 0 | ligand outside box\n",
      " | pose 0 | ligand outside box\n",
      " | pose 0 | ligand outside box\n",
      " | pose 0 | ligand outside box\n",
      " | pose 0 | ligand outside box\n",
      " | pose 0 | ligand outside box\n",
      " | pose 0 | ligand outside box\n",
      " | pose 0 | ligand outside box\n",
      " | pose 0 | ligand outside box\n",
      " | pose 0 | ligand outside box\n",
      " | pose 0 | initial pose not within box\n",
      " | pose 0 | ligand outside box\n",
      " | pose 0 | ligand outside box\n",
      " | pose 0 | ligand outside box\n",
      " | pose 0 | ligand outside box\n",
      " | pose 0 | ligand outside box\n",
      " | pose 0 | initial pose not within box\n",
      " | pose 0 | ligand outside box\n",
      " | pose 0 | ligand outside box\n",
      " | pose 0 | ligand outside box\n",
      " | pose 0 | ligand outside box\n",
      " | pose 0 | ligand outside box\n",
      " | pose 0 | ligand outside box\n",
      " | pose 0 | ligand outside box\n",
      " | pose 0 | ligand outside box\n",
      " | pose 0 | ligand outside box\n",
      " | pose 0 | ligand outside box\n",
      " | pose 0 | ligand outside box\n",
      " | pose 0 | ligand outside box\n",
      " | pose 0 | ligand outside box\n",
      " | pose 0 | ligand outside box\n",
      " | pose 0 | ligand outside box\n",
      " | pose 0 | ligand outside box\n",
      " | pose 0 | ligand outside box\n",
      " | pose 0 | ligand outside box\n",
      " | pose 0 | initial pose not within box\n",
      " | pose 0 | ligand outside box\n",
      " | pose 0 | ligand outside box\n",
      " | pose 0 | ligand outside box\n",
      " | pose 0 | ligand outside box\n",
      " | pose 0 | ligand outside box\n",
      " | pose 0 | ligand outside box\n",
      " | pose 0 | ligand outside box\n",
      " | pose 0 | ligand outside box\n",
      " | pose 0 | ligand outside box\n",
      " | pose 0 | ligand outside box\n",
      " | pose 0 | ligand outside box\n",
      " | pose 0 | ligand outside box\n",
      " | pose 0 | ligand outside box\n",
      " | pose 0 | initial pose not within box\n",
      " | pose 0 | ligand outside box\n",
      " | pose 0 | ligand outside box\n",
      " | pose 0 | ligand outside box\n",
      " | pose 0 | ligand outside box\n",
      " | pose 0 | ligand outside box\n",
      " | pose 0 | ligand outside box\n",
      " | pose 0 | ligand outside box\n",
      " | pose 0 | ligand outside box\n",
      " | pose 0 | initial pose not within box\n",
      " | pose 0 | ligand outside box\n",
      " | pose 0 | ligand outside box\n",
      " | pose 0 | ligand outside box\n"
     ]
    },
    {
     "data": {
      "text/plain": [
       "CompletedProcess(args=['gnina', '-r', 'protein/4lxz_B_protein.pdb', '-l', 'ligand/aae/O=C(CCCCCCC(=O)Nc1ccccc1)NO/CC(C)(C)CC(O)C1OC2C3CC4CC(C3)C3NCC4C3CC3OC(CCC3O)CC3OC4(C(O)C(O)CC(O)C(=O)O)OC3C3OC4C4OC3C3OC4C4OC3C2OC14.sdf', '--autobox_ligand', 'pocket/4lxz_B_pocket.pdb', '-o', 'poses/aae/4lxz_B/CC(C)(C)CC(O)C1OC2C3CC4CC(C3)C3NCC4C3CC3OC(CCC3O)CC3OC4(C(O)C(O)CC(O)C(=O)O)OC3C3OC4C4OC3C3OC4C4OC3C2OC14.sdf', '--exhaustiveness', '16', '--log', 'logs/aae/4lxz_B/CC(C)(C)CC(O)C1OC2C3CC4CC(C3)C3NCC4C3CC3OC(CCC3O)CC3OC4(C(O)C(O)CC(O)C(=O)O)OC3C3OC4C4OC3C3OC4C4OC3C2OC14.log', '-q'], returncode=0)"
      ]
     },
     "execution_count": 2,
     "metadata": {},
     "output_type": "execute_result"
    }
   ],
   "source": [
    "subprocess.run(['gnina', '-r', 'protein/4lxz_B_protein.pdb',\n",
    "                '-l', 'ligand/aae/O=C(CCCCCCC(=O)Nc1ccccc1)NO/CC(C)(C)CC(O)C1OC2C3CC4CC(C3)C3NCC4C3CC3OC(CCC3O)CC3OC4(C(O)C(O)CC(O)C(=O)O)OC3C3OC4C4OC3C3OC4C4OC3C2OC14.sdf',\n",
    "                '--autobox_ligand', 'pocket/4lxz_B_pocket.pdb', \n",
    "                '-o', 'poses/aae/4lxz_B/CC(C)(C)CC(O)C1OC2C3CC4CC(C3)C3NCC4C3CC3OC(CCC3O)CC3OC4(C(O)C(O)CC(O)C(=O)O)OC3C3OC4C4OC3C3OC4C4OC3C2OC14.sdf',\n",
    "                '--exhaustiveness', '16',\n",
    "                '--log', 'logs/aae/4lxz_B/CC(C)(C)CC(O)C1OC2C3CC4CC(C3)C3NCC4C3CC3OC(CCC3O)CC3OC4(C(O)C(O)CC(O)C(=O)O)OC3C3OC4C4OC3C3OC4C4OC3C2OC14.log',\n",
    "                '-q'])"
   ]
  },
  {
   "cell_type": "code",
   "execution_count": 4,
   "id": "c1eeeef4",
   "metadata": {},
   "outputs": [
    {
     "name": "stderr",
     "output_type": "stream",
     "text": [
      "==============================\n",
      "*** Open Babel Warning  in PerceiveBondOrders\n",
      "  Failed to kekulize aromatic bonds in OBMol::PerceiveBondOrders\n",
      "\n"
     ]
    },
    {
     "name": "stdout",
     "output_type": "stream",
     "text": [
      "\n",
      "0%   10   20   30   40   50   60   70   80   90   100%\n",
      "|----|----|----|----|----|----|----|----|----|----|\n",
      "***************************************************\n",
      " | pose 0 | initial pose not within box\n"
     ]
    },
    {
     "data": {
      "text/plain": [
       "CompletedProcess(args=['gnina', '-r', 'protein/6hsk_A_protein.pdb', '-l', 'ligand/biaae/Cn1cc(CNCC2CCN(c3ncc(C(=O)NO)cn3)CC2)c2ccccc21/CCN1C(=O)CN(CC2CC2)C1C(=O)c1cccc(C(=O)N(C)C)c1.sdf', '--autobox_ligand', 'pocket/6hsk_A_pocket.pdb', '-o', 'poses/biaae/6hsk_A/CCN1C(=O)CN(CC2CC2)C1C(=O)c1cccc(C(=O)N(C)C)c1.sdf', '--exhaustiveness', '16', '--log', 'logs/biaae/6hsk_A/CCN1C(=O)CN(CC2CC2)C1C(=O)c1cccc(C(=O)N(C)C)c1.log', '-q'], returncode=0)"
      ]
     },
     "execution_count": 4,
     "metadata": {},
     "output_type": "execute_result"
    }
   ],
   "source": [
    "subprocess.run(['gnina', '-r', 'protein/6hsk_A_protein.pdb',\n",
    "                '-l', 'ligand/biaae/Cn1cc(CNCC2CCN(c3ncc(C(=O)NO)cn3)CC2)c2ccccc21/CCN1C(=O)CN(CC2CC2)C1C(=O)c1cccc(C(=O)N(C)C)c1.sdf',\n",
    "                '--autobox_ligand', 'pocket/6hsk_A_pocket.pdb', \n",
    "                '-o', 'poses/biaae/6hsk_A/CCN1C(=O)CN(CC2CC2)C1C(=O)c1cccc(C(=O)N(C)C)c1.sdf',\n",
    "                '--exhaustiveness', '16',\n",
    "                '--log', 'logs/biaae/6hsk_A/CCN1C(=O)CN(CC2CC2)C1C(=O)c1cccc(C(=O)N(C)C)c1.log',\n",
    "                '-q'])"
   ]
  },
  {
   "cell_type": "code",
   "execution_count": 4,
   "id": "3b7945ed",
   "metadata": {},
   "outputs": [
    {
     "name": "stderr",
     "output_type": "stream",
     "text": [
      "==============================\n",
      "*** Open Babel Warning  in PerceiveBondOrders\n",
      "  Failed to kekulize aromatic bonds in OBMol::PerceiveBondOrders\n",
      "\n",
      "==============================\n",
      "*** Open Babel Warning  in PerceiveBondOrders\n",
      "  Failed to kekulize aromatic bonds in OBMol::PerceiveBondOrders\n",
      "\n"
     ]
    },
    {
     "name": "stdout",
     "output_type": "stream",
     "text": [
      "\n",
      "0%   10   20   30   40   50   60   70   80   90   100%\n",
      "|----|----|----|----|----|----|----|----|----|----|\n",
      "***************************************************\n",
      " | pose 0 | initial pose not within box\n"
     ]
    },
    {
     "data": {
      "text/plain": [
       "CompletedProcess(args=['gnina', '-r', 'protein/HDAC1.pdb', '-l', 'ligand/aae/Nc1ccccc1NC(=O)c1ccc(CNC(=O)OCc2cccnc2)cc1/CCCNC(=O)CCCCCCCCCCCCCCCCNc1ccc(-n2cc(N3CCN(CCCN4CCN(c5ccc(S(=S=S(=O)=S(=O)=O)C(C)C)cc5)CC4)CC3)c(C)n2)cc1C(=S)NO.sdf', '--autobox_ligand', 'protein/HDAC1.pdb', '-o', 'poses/aae/HDAC1/Nc1ccccc1NC(=O)c1ccc(CNC(=O)OCc2cccnc2)cc1/CCCNC(=O)CCCCCCCCCCCCCCCCNc1ccc(-n2cc(N3CCN(CCCN4CCN(c5ccc(S(=S=S(=O)=S(=O)=O)C(C)C)cc5)CC4)CC3)c(C)n2)cc1C(=S)NO.sdf', '--exhaustiveness', '16', '--log', 'logs/aae/HDAC1/Nc1ccccc1NC(=O)c1ccc(CNC(=O)OCc2cccnc2)cc1/CCCNC(=O)CCCCCCCCCCCCCCCCNc1ccc(-n2cc(N3CCN(CCCN4CCN(c5ccc(S(=S=S(=O)=S(=O)=O)C(C)C)cc5)CC4)CC3)c(C)n2)cc1C(=S)NO.log', '-q'], returncode=0)"
      ]
     },
     "execution_count": 4,
     "metadata": {},
     "output_type": "execute_result"
    }
   ],
   "source": [
    "\n",
    "subprocess.run(['gnina', '-r', 'protein/HDAC1.pdb', \n",
    "                '-l', 'ligand/aae/Nc1ccccc1NC(=O)c1ccc(CNC(=O)OCc2cccnc2)cc1/CCCNC(=O)CCCCCCCCCCCCCCCCNc1ccc(-n2cc(N3CCN(CCCN4CCN(c5ccc(S(=S=S(=O)=S(=O)=O)C(C)C)cc5)CC4)CC3)c(C)n2)cc1C(=S)NO.sdf', \n",
    "                '--autobox_ligand', 'protein/HDAC1.pdb', \n",
    "                '-o', 'poses/aae/HDAC1/Nc1ccccc1NC(=O)c1ccc(CNC(=O)OCc2cccnc2)cc1/CCCNC(=O)CCCCCCCCCCCCCCCCNc1ccc(-n2cc(N3CCN(CCCN4CCN(c5ccc(S(=S=S(=O)=S(=O)=O)C(C)C)cc5)CC4)CC3)c(C)n2)cc1C(=S)NO.sdf',\n",
    "                '--exhaustiveness', '16',\n",
    "                '--log', 'logs/aae/HDAC1/Nc1ccccc1NC(=O)c1ccc(CNC(=O)OCc2cccnc2)cc1/CCCNC(=O)CCCCCCCCCCCCCCCCNc1ccc(-n2cc(N3CCN(CCCN4CCN(c5ccc(S(=S=S(=O)=S(=O)=O)C(C)C)cc5)CC4)CC3)c(C)n2)cc1C(=S)NO.log',\n",
    "                '-q'])"
   ]
  },
  {
   "cell_type": "code",
   "execution_count": 2,
   "id": "9e79b56a",
   "metadata": {},
   "outputs": [
    {
     "data": {
      "text/html": [
       "<div>\n",
       "<style scoped>\n",
       "    .dataframe tbody tr th:only-of-type {\n",
       "        vertical-align: middle;\n",
       "    }\n",
       "\n",
       "    .dataframe tbody tr th {\n",
       "        vertical-align: top;\n",
       "    }\n",
       "\n",
       "    .dataframe thead th {\n",
       "        text-align: right;\n",
       "    }\n",
       "</style>\n",
       "<table border=\"1\" class=\"dataframe\">\n",
       "  <thead>\n",
       "    <tr style=\"text-align: right;\">\n",
       "      <th></th>\n",
       "      <th>protein</th>\n",
       "      <th>smiles</th>\n",
       "      <th>pdb</th>\n",
       "      <th>ligand</th>\n",
       "    </tr>\n",
       "  </thead>\n",
       "  <tbody>\n",
       "    <tr>\n",
       "      <th>0</th>\n",
       "      <td>AKT2</td>\n",
       "      <td>Cc1n[nH]c2ccc(-c3cncc(OCC(N)Cc4c[nH]c5ccccc45)...</td>\n",
       "      <td>2jdf</td>\n",
       "      <td>L20</td>\n",
       "    </tr>\n",
       "    <tr>\n",
       "      <th>1</th>\n",
       "      <td>EGFR</td>\n",
       "      <td>C#Cc1cccc(Nc2ncnc3cc(OCCOC)c(OCCOC)cc23)c1</td>\n",
       "      <td>4hjo</td>\n",
       "      <td>AQ4</td>\n",
       "    </tr>\n",
       "    <tr>\n",
       "      <th>2</th>\n",
       "      <td>EGFR</td>\n",
       "      <td>C#Cc1cccc(Nc2ncnc3cc(OCCOC)c(OCCOC)cc23)c1</td>\n",
       "      <td>1m17</td>\n",
       "      <td>AQ4</td>\n",
       "    </tr>\n",
       "    <tr>\n",
       "      <th>3</th>\n",
       "      <td>EGFR</td>\n",
       "      <td>COc1cc2ncnc(Nc3ccc(F)c(Cl)c3)c2cc1OCCCN1CCOCC1</td>\n",
       "      <td>2ito</td>\n",
       "      <td>IRE</td>\n",
       "    </tr>\n",
       "    <tr>\n",
       "      <th>4</th>\n",
       "      <td>EGFR</td>\n",
       "      <td>COc1cc2ncnc(Nc3ccc(F)c(Cl)c3)c2cc1OCCCN1CCOCC1</td>\n",
       "      <td>2ity</td>\n",
       "      <td>IRE</td>\n",
       "    </tr>\n",
       "    <tr>\n",
       "      <th>5</th>\n",
       "      <td>EGFR</td>\n",
       "      <td>COc1cc2ncnc(Nc3ccc(F)c(Cl)c3)c2cc1OCCCN1CCOCC1</td>\n",
       "      <td>2itz</td>\n",
       "      <td>IRE</td>\n",
       "    </tr>\n",
       "    <tr>\n",
       "      <th>6</th>\n",
       "      <td>EGFR</td>\n",
       "      <td>C=CC(=O)Nc1cccc(Oc2nc(Nc3ccc(N4CCN(C)CC4)cc3OC...</td>\n",
       "      <td>7zyn</td>\n",
       "      <td>0UN</td>\n",
       "    </tr>\n",
       "    <tr>\n",
       "      <th>7</th>\n",
       "      <td>EGFR</td>\n",
       "      <td>C=CC(=O)Nc1cccc(Oc2nc(Nc3ccc(N4CCN(C)CC4)cc3OC...</td>\n",
       "      <td>5x2k</td>\n",
       "      <td>0UN</td>\n",
       "    </tr>\n",
       "    <tr>\n",
       "      <th>8</th>\n",
       "      <td>EGFR</td>\n",
       "      <td>C=CC(=O)Nc1cccc(Oc2nc(Nc3ccc(N4CCN(C)CC4)cc3OC...</td>\n",
       "      <td>3ika</td>\n",
       "      <td>0UN</td>\n",
       "    </tr>\n",
       "    <tr>\n",
       "      <th>9</th>\n",
       "      <td>EGFR</td>\n",
       "      <td>C=CC(=O)N1CCCC(n2nc(-c3ccc(Oc4ccccc4)cc3)c3c(N...</td>\n",
       "      <td>5yu9</td>\n",
       "      <td>1E8</td>\n",
       "    </tr>\n",
       "    <tr>\n",
       "      <th>10</th>\n",
       "      <td>HDAC8</td>\n",
       "      <td>Cn1cc(CNCC2CCN(c3ncc(C(=O)NO)cn3)CC2)c2ccccc21</td>\n",
       "      <td>6hsk</td>\n",
       "      <td>GOK</td>\n",
       "    </tr>\n",
       "    <tr>\n",
       "      <th>11</th>\n",
       "      <td>HDAC2</td>\n",
       "      <td>O=C(CCCCCCC(=O)Nc1ccccc1)NO</td>\n",
       "      <td>4lxz</td>\n",
       "      <td>shh</td>\n",
       "    </tr>\n",
       "    <tr>\n",
       "      <th>12</th>\n",
       "      <td>HDAC2</td>\n",
       "      <td>O=C(CCCCCCC(=O)Nc1ccccc1)NO</td>\n",
       "      <td>7zzs</td>\n",
       "      <td>shh</td>\n",
       "    </tr>\n",
       "    <tr>\n",
       "      <th>13</th>\n",
       "      <td>HDAC2</td>\n",
       "      <td>CC(=O)Nc1ccc(C(=O)Nc2cc(-c3cccs3)ccc2N)cc1</td>\n",
       "      <td>4ly1</td>\n",
       "      <td>20y</td>\n",
       "    </tr>\n",
       "    <tr>\n",
       "      <th>14</th>\n",
       "      <td>HDAC10</td>\n",
       "      <td>CN1CCc2c(c3ccccc3n2Cc2ccc(C(=O)NO)cc2)C1</td>\n",
       "      <td>6wbq</td>\n",
       "      <td>N9W</td>\n",
       "    </tr>\n",
       "  </tbody>\n",
       "</table>\n",
       "</div>"
      ],
      "text/plain": [
       "   protein                                             smiles   pdb ligand\n",
       "0     AKT2  Cc1n[nH]c2ccc(-c3cncc(OCC(N)Cc4c[nH]c5ccccc45)...  2jdf    L20\n",
       "1     EGFR         C#Cc1cccc(Nc2ncnc3cc(OCCOC)c(OCCOC)cc23)c1  4hjo    AQ4\n",
       "2     EGFR         C#Cc1cccc(Nc2ncnc3cc(OCCOC)c(OCCOC)cc23)c1  1m17    AQ4\n",
       "3     EGFR     COc1cc2ncnc(Nc3ccc(F)c(Cl)c3)c2cc1OCCCN1CCOCC1  2ito    IRE\n",
       "4     EGFR     COc1cc2ncnc(Nc3ccc(F)c(Cl)c3)c2cc1OCCCN1CCOCC1  2ity    IRE\n",
       "5     EGFR     COc1cc2ncnc(Nc3ccc(F)c(Cl)c3)c2cc1OCCCN1CCOCC1  2itz    IRE\n",
       "6     EGFR  C=CC(=O)Nc1cccc(Oc2nc(Nc3ccc(N4CCN(C)CC4)cc3OC...  7zyn    0UN\n",
       "7     EGFR  C=CC(=O)Nc1cccc(Oc2nc(Nc3ccc(N4CCN(C)CC4)cc3OC...  5x2k    0UN\n",
       "8     EGFR  C=CC(=O)Nc1cccc(Oc2nc(Nc3ccc(N4CCN(C)CC4)cc3OC...  3ika    0UN\n",
       "9     EGFR  C=CC(=O)N1CCCC(n2nc(-c3ccc(Oc4ccccc4)cc3)c3c(N...  5yu9    1E8\n",
       "10   HDAC8     Cn1cc(CNCC2CCN(c3ncc(C(=O)NO)cn3)CC2)c2ccccc21  6hsk    GOK\n",
       "11   HDAC2                        O=C(CCCCCCC(=O)Nc1ccccc1)NO  4lxz    shh\n",
       "12   HDAC2                        O=C(CCCCCCC(=O)Nc1ccccc1)NO  7zzs    shh\n",
       "13   HDAC2         CC(=O)Nc1ccc(C(=O)Nc2cc(-c3cccs3)ccc2N)cc1  4ly1    20y\n",
       "14  HDAC10           CN1CCc2c(c3ccccc3n2Cc2ccc(C(=O)NO)cc2)C1  6wbq    N9W"
      ]
     },
     "execution_count": 2,
     "metadata": {},
     "output_type": "execute_result"
    }
   ],
   "source": [
    "import pandas as pd\n",
    "data = pd.read_csv('protein/metadata.csv', header=0)\n",
    "data"
   ]
  },
  {
   "cell_type": "code",
   "execution_count": null,
   "id": "31398732",
   "metadata": {},
   "outputs": [],
   "source": []
  }
 ],
 "metadata": {
  "kernelspec": {
   "display_name": "druggen",
   "language": "python",
   "name": "druggen"
  },
  "language_info": {
   "codemirror_mode": {
    "name": "ipython",
    "version": 3
   },
   "file_extension": ".py",
   "mimetype": "text/x-python",
   "name": "python",
   "nbconvert_exporter": "python",
   "pygments_lexer": "ipython3",
   "version": "3.9.15"
  }
 },
 "nbformat": 4,
 "nbformat_minor": 5
}
