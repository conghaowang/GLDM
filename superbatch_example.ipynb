{
 "cells": [
  {
   "cell_type": "code",
   "execution_count": 17,
   "id": "f8a9073a",
   "metadata": {},
   "outputs": [
    {
     "name": "stdout",
     "output_type": "stream",
     "text": [
      "The autoreload extension is already loaded. To reload it, use:\n",
      "  %reload_ext autoreload\n"
     ]
    }
   ],
   "source": [
    "%load_ext autoreload\n",
    "%autoreload 2\n",
    "from model import BaseModel\n",
    "from dataset import MolerDataset, MolerData\n",
    "from utils import pprint_pyg_obj\n",
    "from torch_geometric.loader import DataLoader\n",
    "import torch\n",
    "from model_utils import get_params\n",
    "\n",
    "dataset = MolerDataset(\n",
    "    root = '/data/ongh0068', \n",
    "    raw_moler_trace_dataset_parent_folder = '/data/ongh0068/guacamol/trace_dir',\n",
    "    output_pyg_trace_dataset_parent_folder = '/data/ongh0068/l1000/test_thread2',\n",
    "    split = 'valid_0',\n",
    ")\n",
    "loader = DataLoader(dataset, batch_size=2, shuffle=False, follow_batch = [\n",
    "    'correct_edge_choices',\n",
    "    'correct_edge_types',\n",
    "    'valid_edge_choices',\n",
    "    'valid_attachment_point_choices',\n",
    "    'correct_attachment_point_choice',\n",
    "    'correct_node_type_choices',\n",
    "    'original_graph_x',\n",
    "    'correct_first_node_type_choices',\n",
    "])"
   ]
  },
  {
   "cell_type": "code",
   "execution_count": 43,
   "id": "2acb71de",
   "metadata": {},
   "outputs": [],
   "source": [
    "for batch2 in loader:\n",
    "    break\n",
    "    "
   ]
  },
  {
   "cell_type": "code",
   "execution_count": 52,
   "id": "ce91f1a6",
   "metadata": {},
   "outputs": [
    {
     "data": {
      "text/plain": [
       "(tensor([   0,    0,    1,  ..., 1999, 1999, 1999]),\n",
       " tensor([0., 0., 0.,  ..., 0., 0., 1.]))"
      ]
     },
     "execution_count": 52,
     "metadata": {},
     "output_type": "execute_result"
    }
   ],
   "source": [
    "batch2.correct_edge_choices_batch, batch2.correct_edge_choices"
   ]
  },
  {
   "cell_type": "code",
   "execution_count": 51,
   "id": "36eb9eb1",
   "metadata": {},
   "outputs": [
    {
     "data": {
      "text/plain": [
       "tensor([[    7,     0],\n",
       "        [    7,     5],\n",
       "        [   16,     8],\n",
       "        ...,\n",
       "        [30841, 30834],\n",
       "        [30841, 30839],\n",
       "        [30841, 30840]], dtype=torch.int32)"
      ]
     },
     "execution_count": 51,
     "metadata": {},
     "output_type": "execute_result"
    }
   ],
   "source": [
    "batch2.valid_edge_choices"
   ]
  },
  {
   "cell_type": "code",
   "execution_count": 48,
   "id": "64adfc5c",
   "metadata": {},
   "outputs": [
    {
     "name": "stdout",
     "output_type": "stream",
     "text": [
      "x: torch.Size([30842, 59])\n",
      "edge_index: torch.Size([2, 91640])\n",
      "original_graph_edge_type: torch.Size([178022])\n",
      "original_graph_node_categorical_features: torch.Size([56264])\n",
      "focus_node: torch.Size([2000])\n",
      "edge_type: torch.Size([91640])\n",
      "edge_features: torch.Size([13461, 3])\n",
      "correct_edge_choices: torch.Size([13461])\n",
      "correct_edge_choices_batch: torch.Size([13461])\n",
      "correct_edge_choices_ptr: torch.Size([2001])\n",
      "num_correct_edge_choices: torch.Size([2000])\n",
      "stop_node_label: torch.Size([2000])\n",
      "valid_edge_choices: torch.Size([13461, 2])\n",
      "valid_edge_choices_batch: torch.Size([13461])\n",
      "valid_edge_choices_ptr: torch.Size([2001])\n",
      "valid_edge_types: torch.Size([1013, 3])\n",
      "correct_edge_types: torch.Size([1013, 3])\n",
      "correct_edge_types_batch: torch.Size([1013])\n",
      "correct_edge_types_ptr: torch.Size([2001])\n",
      "partial_node_categorical_features: torch.Size([30842])\n",
      "correct_attachment_point_choice: torch.Size([95])\n",
      "correct_attachment_point_choice_batch: torch.Size([95])\n",
      "correct_attachment_point_choice_ptr: torch.Size([2001])\n",
      "correct_node_type_choices: torch.Size([959, 166])\n",
      "correct_node_type_choices_batch: torch.Size([959])\n",
      "correct_node_type_choices_ptr: torch.Size([2001])\n",
      "correct_first_node_type_choices: torch.Size([2000, 166])\n",
      "correct_first_node_type_choices_batch: torch.Size([2000])\n",
      "correct_first_node_type_choices_ptr: torch.Size([2001])\n",
      "sa_score: torch.Size([2000])\n",
      "clogp: torch.Size([2000])\n",
      "mol_weight: torch.Size([2000])\n",
      "qed: torch.Size([2000])\n",
      "bertz: torch.Size([2000])\n",
      "original_graph_edge_index: torch.Size([2, 178022])\n",
      "original_graph_x: torch.Size([56264, 59])\n",
      "original_graph_x_batch: torch.Size([56264])\n",
      "original_graph_x_ptr: torch.Size([2001])\n",
      "valid_attachment_point_choices: torch.Size([341])\n",
      "valid_attachment_point_choices_batch: torch.Size([341])\n",
      "valid_attachment_point_choices_ptr: torch.Size([2001])\n",
      "batch: torch.Size([30842])\n",
      "ptr: torch.Size([2001])\n"
     ]
    }
   ],
   "source": [
    "pprint_pyg_obj(batch2)"
   ]
  },
  {
   "cell_type": "code",
   "execution_count": 9,
   "id": "196fc52d",
   "metadata": {},
   "outputs": [
    {
     "data": {
      "text/plain": [
       "1000"
      ]
     },
     "execution_count": 9,
     "metadata": {},
     "output_type": "execute_result"
    }
   ],
   "source": [
    "batch.sa_score.shape[0]"
   ]
  },
  {
   "cell_type": "code",
   "execution_count": 15,
   "id": "4a064868",
   "metadata": {},
   "outputs": [
    {
     "data": {
      "text/plain": [
       "tensor([15816, 15834, 15852, 15860, 15869, 15878])"
      ]
     },
     "execution_count": 15,
     "metadata": {},
     "output_type": "execute_result"
    }
   ],
   "source": [
    "torch.cat((batch.ptr, batch.ptr[1:]+batch.ptr[-1]))[998:1004]"
   ]
  },
  {
   "cell_type": "code",
   "execution_count": 16,
   "id": "c956e773",
   "metadata": {},
   "outputs": [
    {
     "data": {
      "text/plain": [
       "tensor([    0,     8,    17,  ..., 15816, 15834, 15852])"
      ]
     },
     "execution_count": 16,
     "metadata": {},
     "output_type": "execute_result"
    }
   ],
   "source": [
    "batch.ptr"
   ]
  },
  {
   "cell_type": "code",
   "execution_count": 4,
   "id": "5850a15f",
   "metadata": {},
   "outputs": [],
   "source": [
    "# for key in vars(batch)[\"_store\"].keys():\n",
    "#     if key.startswith(\"_\"):\n",
    "#         continue\n",
    "#     print((batch[key] == dataset[0][key]).all())"
   ]
  },
  {
   "cell_type": "code",
   "execution_count": 5,
   "id": "23372af7",
   "metadata": {},
   "outputs": [
    {
     "name": "stdout",
     "output_type": "stream",
     "text": [
      "x: torch.Size([15852, 59])\n",
      "edge_index: torch.Size([2, 47220])\n",
      "original_graph_edge_type: torch.Size([90598])\n",
      "original_graph_node_categorical_features: torch.Size([28616])\n",
      "focus_node: torch.Size([1000])\n",
      "edge_type: torch.Size([47220])\n",
      "edge_features: torch.Size([7104, 3])\n",
      "correct_edge_choices: torch.Size([7104])\n",
      "correct_edge_choices_batch: torch.Size([7104])\n",
      "correct_edge_choices_ptr: torch.Size([1001])\n",
      "num_correct_edge_choices: torch.Size([1000])\n",
      "stop_node_label: torch.Size([1000])\n",
      "valid_edge_choices: torch.Size([7104, 2])\n",
      "valid_edge_choices_batch: torch.Size([7104])\n",
      "valid_edge_choices_ptr: torch.Size([1001])\n",
      "valid_edge_types: torch.Size([510, 3])\n",
      "correct_edge_types: torch.Size([510, 3])\n",
      "correct_edge_types_batch: torch.Size([510])\n",
      "correct_edge_types_ptr: torch.Size([1001])\n",
      "partial_node_categorical_features: torch.Size([15852])\n",
      "correct_attachment_point_choice: torch.Size([42])\n",
      "correct_attachment_point_choice_batch: torch.Size([42])\n",
      "correct_attachment_point_choice_ptr: torch.Size([1001])\n",
      "correct_node_type_choices: torch.Size([482, 166])\n",
      "correct_node_type_choices_batch: torch.Size([482])\n",
      "correct_node_type_choices_ptr: torch.Size([1001])\n",
      "correct_first_node_type_choices: torch.Size([1000, 166])\n",
      "correct_first_node_type_choices_batch: torch.Size([1000])\n",
      "correct_first_node_type_choices_ptr: torch.Size([1001])\n",
      "sa_score: torch.Size([1000])\n",
      "clogp: torch.Size([1000])\n",
      "mol_weight: torch.Size([1000])\n",
      "qed: torch.Size([1000])\n",
      "bertz: torch.Size([1000])\n",
      "original_graph_edge_index: torch.Size([2, 90598])\n",
      "original_graph_x: torch.Size([28616, 59])\n",
      "original_graph_x_batch: torch.Size([28616])\n",
      "original_graph_x_ptr: torch.Size([1001])\n",
      "valid_attachment_point_choices: torch.Size([168])\n",
      "valid_attachment_point_choices_batch: torch.Size([168])\n",
      "valid_attachment_point_choices_ptr: torch.Size([1001])\n",
      "batch: torch.Size([15852])\n",
      "ptr: torch.Size([1001])\n"
     ]
    },
    {
     "data": {
      "text/plain": [
       "(None, tensor([ 999, 1000]))"
      ]
     },
     "execution_count": 5,
     "metadata": {},
     "output_type": "execute_result"
    }
   ],
   "source": [
    "pprint_pyg_obj(dataset[0]), dataset[0].correct_first_node_type_choices_ptr[999:1005]"
   ]
  },
  {
   "cell_type": "code",
   "execution_count": 6,
   "id": "11a7aac5",
   "metadata": {
    "scrolled": true
   },
   "outputs": [
    {
     "name": "stdout",
     "output_type": "stream",
     "text": [
      "x: torch.Size([15852, 59])\n",
      "edge_index: torch.Size([2, 47220])\n",
      "original_graph_edge_type: torch.Size([90598])\n",
      "original_graph_node_categorical_features: torch.Size([28616])\n",
      "focus_node: torch.Size([1000])\n",
      "edge_type: torch.Size([47220])\n",
      "edge_features: torch.Size([7104, 3])\n",
      "correct_edge_choices: torch.Size([7104])\n",
      "correct_edge_choices_batch: torch.Size([7104])\n",
      "correct_edge_choices_ptr: torch.Size([1001])\n",
      "num_correct_edge_choices: torch.Size([1000])\n",
      "stop_node_label: torch.Size([1000])\n",
      "valid_edge_choices: torch.Size([7104, 2])\n",
      "valid_edge_choices_batch: torch.Size([7104])\n",
      "valid_edge_choices_ptr: torch.Size([1001])\n",
      "valid_edge_types: torch.Size([510, 3])\n",
      "correct_edge_types: torch.Size([510, 3])\n",
      "correct_edge_types_batch: torch.Size([510])\n",
      "correct_edge_types_ptr: torch.Size([1001])\n",
      "partial_node_categorical_features: torch.Size([15852])\n",
      "correct_attachment_point_choice: torch.Size([42])\n",
      "correct_attachment_point_choice_batch: torch.Size([42])\n",
      "correct_attachment_point_choice_ptr: torch.Size([1001])\n",
      "correct_node_type_choices: torch.Size([482, 166])\n",
      "correct_node_type_choices_batch: torch.Size([482])\n",
      "correct_node_type_choices_ptr: torch.Size([1001])\n",
      "correct_first_node_type_choices: torch.Size([1000, 166])\n",
      "correct_first_node_type_choices_batch: torch.Size([1000])\n",
      "correct_first_node_type_choices_ptr: torch.Size([1001])\n",
      "sa_score: torch.Size([1000])\n",
      "clogp: torch.Size([1000])\n",
      "mol_weight: torch.Size([1000])\n",
      "qed: torch.Size([1000])\n",
      "bertz: torch.Size([1000])\n",
      "original_graph_edge_index: torch.Size([2, 90598])\n",
      "original_graph_x: torch.Size([28616, 59])\n",
      "original_graph_x_batch: torch.Size([28616])\n",
      "original_graph_x_ptr: torch.Size([1001])\n",
      "valid_attachment_point_choices: torch.Size([168])\n",
      "valid_attachment_point_choices_batch: torch.Size([168])\n",
      "valid_attachment_point_choices_ptr: torch.Size([1001])\n",
      "batch: torch.Size([15852])\n",
      "ptr: torch.Size([1001])\n"
     ]
    },
    {
     "data": {
      "text/plain": [
       "(None, tensor([ 999, 1000]))"
      ]
     },
     "execution_count": 6,
     "metadata": {},
     "output_type": "execute_result"
    }
   ],
   "source": [
    "pprint_pyg_obj(batch), batch.correct_first_node_type_choices_ptr[999:1005]"
   ]
  },
  {
   "cell_type": "code",
   "execution_count": 2,
   "id": "981a7f70",
   "metadata": {},
   "outputs": [],
   "source": [
    "import gzip\n",
    "import pickle\n",
    "file_path = '/data/ongh0068/l1000/test_thread2/valid_0/0_nsteps_1000.pkl.gz'\n",
    "with gzip.open(file_path, \"rb\") as f:\n",
    "    data = pickle.load(f)"
   ]
  },
  {
   "cell_type": "code",
   "execution_count": 3,
   "id": "aa4a6474",
   "metadata": {},
   "outputs": [
    {
     "data": {
      "text/plain": [
       "MolerDataBatch(x=[16553, 59], edge_index=[2, 49271], original_graph_edge_type=[94113], original_graph_node_categorical_features=[29761], focus_node=[1000], edge_type=[49271], edge_features=[8113, 3], correct_edge_choices=[8113], correct_edge_choices_batch=[8113], correct_edge_choices_ptr=[1001], num_correct_edge_choices=[1000], stop_node_label=[1000], valid_edge_choices=[8113, 2], valid_edge_choices_batch=[8113], valid_edge_choices_ptr=[1001], valid_edge_types=[518, 3], correct_edge_types=[518, 3], correct_edge_types_batch=[518], correct_edge_types_ptr=[1001], partial_node_categorical_features=[16553], correct_attachment_point_choice=[47], correct_attachment_point_choice_batch=[47], correct_attachment_point_choice_ptr=[1001], correct_node_type_choices=[475, 166], correct_node_type_choices_batch=[475], correct_node_type_choices_ptr=[1001], correct_first_node_type_choices=[1000, 166], correct_first_node_type_choices_batch=[1000], correct_first_node_type_choices_ptr=[1001], sa_score=[1000], clogp=[1000], mol_weight=[1000], qed=[1000], bertz=[1000], original_graph_edge_index=[2, 94113], original_graph_x=[29761, 59], original_graph_x_batch=[29761], original_graph_x_ptr=[1001], valid_attachment_point_choices=[170], valid_attachment_point_choices_batch=[170], valid_attachment_point_choices_ptr=[1001], batch=[16553], ptr=[1001])"
      ]
     },
     "execution_count": 3,
     "metadata": {},
     "output_type": "execute_result"
    }
   ],
   "source": [
    "data.to('cuda:1')"
   ]
  },
  {
   "cell_type": "code",
   "execution_count": 4,
   "id": "b6e8e1b1",
   "metadata": {},
   "outputs": [],
   "source": [
    "from model import BaseModel\n",
    "\n",
    "params = get_params(dataset)\n",
    "model = BaseModel(params, dataset).to('cuda:1')\n",
    "\n"
   ]
  },
  {
   "cell_type": "code",
   "execution_count": 5,
   "id": "95fd0436",
   "metadata": {},
   "outputs": [
    {
     "data": {
      "text/plain": [
       "BaseModel(\n",
       "  (_full_graph_encoder): GraphEncoder(\n",
       "    (_embed): Embedding(166, 64)\n",
       "    (_model): GenericGraphEncoder(\n",
       "      (_first_layer): GCNConv(123, 64)\n",
       "      (_encoder_layers): ModuleList(\n",
       "        (0): GCNConv(64, 64)\n",
       "        (1): GCNConv(64, 64)\n",
       "        (2): GCNConv(64, 64)\n",
       "        (3): GCNConv(64, 64)\n",
       "        (4): GCNConv(64, 64)\n",
       "        (5): GCNConv(64, 64)\n",
       "        (6): GCNConv(64, 64)\n",
       "        (7): GCNConv(64, 64)\n",
       "        (8): GCNConv(64, 64)\n",
       "        (9): GCNConv(64, 64)\n",
       "        (10): GCNConv(64, 64)\n",
       "        (11): GCNConv(64, 64)\n",
       "      )\n",
       "      (_softmax_aggr): SoftmaxAggregation(learn=True)\n",
       "    )\n",
       "  )\n",
       "  (_partial_graph_encoder): PartialGraphEncoder(\n",
       "    (_embed): Embedding(166, 64)\n",
       "    (_model): GenericGraphEncoder(\n",
       "      (_first_layer): GCNConv(124, 64)\n",
       "      (_encoder_layers): ModuleList(\n",
       "        (0): GCNConv(64, 64)\n",
       "        (1): GCNConv(64, 64)\n",
       "        (2): GCNConv(64, 64)\n",
       "        (3): GCNConv(64, 64)\n",
       "        (4): GCNConv(64, 64)\n",
       "        (5): GCNConv(64, 64)\n",
       "        (6): GCNConv(64, 64)\n",
       "        (7): GCNConv(64, 64)\n",
       "        (8): GCNConv(64, 64)\n",
       "        (9): GCNConv(64, 64)\n",
       "        (10): GCNConv(64, 64)\n",
       "        (11): GCNConv(64, 64)\n",
       "      )\n",
       "      (_softmax_aggr): SoftmaxAggregation(learn=True)\n",
       "    )\n",
       "  )\n",
       "  (_mean_log_var_mlp): GenericMLP(\n",
       "    (_first_layer): Linear(in_features=832, out_features=64, bias=True)\n",
       "    (_hidden_layers): ModuleList(\n",
       "      (0): LeakyReLU(negative_slope=0.01)\n",
       "      (1): Dropout(p=0.2, inplace=False)\n",
       "      (2): Linear(in_features=64, out_features=64, bias=True)\n",
       "    )\n",
       "    (_output_layer): Sequential(\n",
       "      (0): LeakyReLU(negative_slope=0.01)\n",
       "      (1): Dropout(p=0.2, inplace=False)\n",
       "      (2): Linear(in_features=64, out_features=1024, bias=True)\n",
       "    )\n",
       "  )\n",
       "  (_decoder): MLPDecoder(\n",
       "    (_first_node_type_selector): GenericMLP(\n",
       "      (_first_layer): Linear(in_features=512, out_features=64, bias=True)\n",
       "      (_hidden_layers): ModuleList(\n",
       "        (0): LeakyReLU(negative_slope=0.01)\n",
       "        (1): Dropout(p=0.2, inplace=False)\n",
       "        (2): Linear(in_features=64, out_features=64, bias=True)\n",
       "      )\n",
       "      (_output_layer): Sequential(\n",
       "        (0): LeakyReLU(negative_slope=0.01)\n",
       "        (1): Dropout(p=0.2, inplace=False)\n",
       "        (2): Linear(in_features=64, out_features=166, bias=True)\n",
       "      )\n",
       "    )\n",
       "    (_node_type_selector): GenericMLP(\n",
       "      (_first_layer): Linear(in_features=1344, out_features=64, bias=True)\n",
       "      (_hidden_layers): ModuleList(\n",
       "        (0): LeakyReLU(negative_slope=0.01)\n",
       "        (1): Dropout(p=0.2, inplace=False)\n",
       "        (2): Linear(in_features=64, out_features=64, bias=True)\n",
       "      )\n",
       "      (_output_layer): Sequential(\n",
       "        (0): LeakyReLU(negative_slope=0.01)\n",
       "        (1): Dropout(p=0.2, inplace=False)\n",
       "        (2): Linear(in_features=64, out_features=167, bias=True)\n",
       "      )\n",
       "    )\n",
       "    (_edge_candidate_scorer): GenericMLP(\n",
       "      (_first_layer): Linear(in_features=3011, out_features=64, bias=True)\n",
       "      (_hidden_layers): ModuleList(\n",
       "        (0): LeakyReLU(negative_slope=0.01)\n",
       "        (1): Dropout(p=0.2, inplace=False)\n",
       "        (2): Linear(in_features=64, out_features=64, bias=True)\n",
       "      )\n",
       "      (_output_layer): Sequential(\n",
       "        (0): LeakyReLU(negative_slope=0.01)\n",
       "        (1): Dropout(p=0.2, inplace=False)\n",
       "        (2): Linear(in_features=64, out_features=1, bias=True)\n",
       "      )\n",
       "    )\n",
       "    (_edge_type_selector): GenericMLP(\n",
       "      (_first_layer): Linear(in_features=3011, out_features=64, bias=True)\n",
       "      (_hidden_layers): ModuleList(\n",
       "        (0): LeakyReLU(negative_slope=0.01)\n",
       "        (1): Dropout(p=0.2, inplace=False)\n",
       "        (2): Linear(in_features=64, out_features=64, bias=True)\n",
       "      )\n",
       "      (_output_layer): Sequential(\n",
       "        (0): LeakyReLU(negative_slope=0.01)\n",
       "        (1): Dropout(p=0.2, inplace=False)\n",
       "        (2): Linear(in_features=64, out_features=3, bias=True)\n",
       "      )\n",
       "    )\n",
       "    (_cross_entropy_loss): CrossEntropyLoss()\n",
       "    (_distance_embedding_layer): Embedding(10, 1)\n",
       "    (_attachment_point_selector): GenericMLP(\n",
       "      (_first_layer): Linear(in_features=2176, out_features=64, bias=True)\n",
       "      (_hidden_layers): ModuleList(\n",
       "        (0): LeakyReLU(negative_slope=0.01)\n",
       "        (1): Dropout(p=0.2, inplace=False)\n",
       "        (2): Linear(in_features=64, out_features=64, bias=True)\n",
       "      )\n",
       "      (_output_layer): Sequential(\n",
       "        (0): LeakyReLU(negative_slope=0.01)\n",
       "        (1): Dropout(p=0.2, inplace=False)\n",
       "        (2): Linear(in_features=64, out_features=1, bias=True)\n",
       "      )\n",
       "    )\n",
       "  )\n",
       ")"
      ]
     },
     "execution_count": 5,
     "metadata": {},
     "output_type": "execute_result"
    }
   ],
   "source": [
    "model"
   ]
  },
  {
   "cell_type": "code",
   "execution_count": 7,
   "id": "b9c409d0",
   "metadata": {},
   "outputs": [],
   "source": [
    "moler_output = model._run_step(data)\n",
    "\n",
    "loss = model.compute_loss(moler_output, data)"
   ]
  },
  {
   "cell_type": "code",
   "execution_count": null,
   "id": "54e89849",
   "metadata": {},
   "outputs": [],
   "source": [
    "# tmp = []\n",
    "\n",
    "# for i, batch in enumerate(loader):\n",
    "#     tmp += [batch]\n",
    "#     if i == 6:\n",
    "#         break\n",
    "    "
   ]
  },
  {
   "cell_type": "code",
   "execution_count": null,
   "id": "790f9867",
   "metadata": {},
   "outputs": [],
   "source": [
    "from torch_geometric.data import Batch\n",
    "%load_ext autoreload\n",
    "%autoreload 2\n",
    "super_batch = Batch.from_data_list([i for i in tmp[3:6]], follow_batch = [\n",
    "    'correct_edge_choices',\n",
    "    'correct_edge_types',\n",
    "    'valid_edge_choices',\n",
    "    'valid_attachment_point_choices',\n",
    "    'correct_attachment_point_choice',\n",
    "    'correct_node_type_choices',\n",
    "    'original_graph_x',\n",
    "    'correct_first_node_type_choices',\n",
    "    # pick attachment points\n",
    "    'candidate_attachment_points',\n",
    "    # pick edge\n",
    "    'candidate_edge_targets'\n",
    "])\n",
    "\n",
    "\n",
    "super_loader = DataLoader(tmp, batch_size=4, shuffle=False, follow_batch = [\n",
    "    'correct_edge_choices',\n",
    "    'correct_edge_types',\n",
    "    'valid_edge_choices',\n",
    "    'valid_attachment_point_choices',\n",
    "    'correct_attachment_point_choice',\n",
    "    'correct_node_type_choices',\n",
    "    'original_graph_x',\n",
    "    'correct_first_node_type_choices'\n",
    "])\n",
    "\n",
    "\n",
    "for super_batch in super_loader:\n",
    "    break"
   ]
  },
  {
   "cell_type": "code",
   "execution_count": null,
   "id": "38360d1e",
   "metadata": {},
   "outputs": [],
   "source": [
    "super_batch.focus_node"
   ]
  },
  {
   "cell_type": "code",
   "execution_count": null,
   "id": "9ee73398",
   "metadata": {},
   "outputs": [],
   "source": []
  },
  {
   "cell_type": "code",
   "execution_count": 25,
   "id": "cc186371",
   "metadata": {},
   "outputs": [
    {
     "name": "stdout",
     "output_type": "stream",
     "text": [
      "<gzip _io.BufferedReader name='/data/ongh0068/l1000/test_thread2/valid_0/valid_0_nsteps_6022.pkl.gz' 0x7f1b3a1f2730>\n"
     ]
    }
   ],
   "source": [
    "file_path = '/data/ongh0068/l1000/test_thread2/valid_0/valid_0_nsteps_6022.pkl.gz'\n",
    "\n",
    "import gzip \n",
    "import pickle\n",
    "with gzip.open(file_path, \"rb\") as f:\n",
    "    print(f)\n",
    "    tmp = pickle.load(f)\n"
   ]
  },
  {
   "cell_type": "code",
   "execution_count": 26,
   "id": "175d30b9",
   "metadata": {},
   "outputs": [
    {
     "data": {
      "text/plain": [
       "MolerDataBatch(x=[98223, 59], edge_index=[2, 293253], original_graph_edge_type=[556981], original_graph_node_categorical_features=[175911], focus_node=[6022], edge_type=[293253], edge_features=[44973, 3], correct_edge_choices=[44973], correct_edge_choices_batch=[44973], correct_edge_choices_ptr=[6023], num_correct_edge_choices=[6022], stop_node_label=[6022], valid_edge_choices=[44973, 2], valid_edge_choices_batch=[44973], valid_edge_choices_ptr=[6023], valid_edge_types=[3093, 3], correct_edge_types=[3093, 3], correct_edge_types_batch=[3093], correct_edge_types_ptr=[6023], partial_node_categorical_features=[98223], correct_attachment_point_choice=[279], correct_attachment_point_choice_batch=[279], correct_attachment_point_choice_ptr=[6023], correct_node_type_choices=[2874, 166], correct_node_type_choices_batch=[2874], correct_node_type_choices_ptr=[6023], correct_first_node_type_choices=[6022, 166], correct_first_node_type_choices_batch=[6022], correct_first_node_type_choices_ptr=[6023], sa_score=[6022], clogp=[6022], mol_weight=[6022], qed=[6022], bertz=[6022], original_graph_edge_index=[2, 556981], original_graph_x=[175911, 59], original_graph_x_batch=[175911], original_graph_x_ptr=[6023], valid_attachment_point_choices=[999], valid_attachment_point_choices_batch=[999], valid_attachment_point_choices_ptr=[6023], batch=[98223], ptr=[6023])"
      ]
     },
     "execution_count": 26,
     "metadata": {},
     "output_type": "execute_result"
    }
   ],
   "source": [
    "tmp"
   ]
  },
  {
   "cell_type": "code",
   "execution_count": null,
   "id": "b7b53769",
   "metadata": {},
   "outputs": [],
   "source": []
  }
 ],
 "metadata": {
  "kernelspec": {
   "display_name": "Python 3 (ipykernel)",
   "language": "python",
   "name": "python3"
  },
  "language_info": {
   "codemirror_mode": {
    "name": "ipython",
    "version": 3
   },
   "file_extension": ".py",
   "mimetype": "text/x-python",
   "name": "python",
   "nbconvert_exporter": "python",
   "pygments_lexer": "ipython3",
   "version": "3.9.17"
  }
 },
 "nbformat": 4,
 "nbformat_minor": 5
}
