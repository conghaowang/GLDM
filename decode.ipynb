{
 "cells": [
  {
   "cell_type": "code",
   "execution_count": 1,
   "id": "cfaeb042",
   "metadata": {},
   "outputs": [
    {
     "name": "stderr",
     "output_type": "stream",
     "text": [
      "2022-12-24 09:22:07.836098: I tensorflow/core/platform/cpu_feature_guard.cc:193] This TensorFlow binary is optimized with oneAPI Deep Neural Network Library (oneDNN) to use the following CPU instructions in performance-critical operations:  SSE4.1 SSE4.2 AVX AVX2 FMA\n",
      "To enable them in other operations, rebuild TensorFlow with the appropriate compiler flags.\n"
     ]
    }
   ],
   "source": [
    "from dataset import MolerDataset, MolerData\n",
    "from utils import pprint_pyg_obj\n",
    "from torch_geometric.loader import DataLoader\n",
    "\n",
    "dataset = MolerDataset(\n",
    "    root = '/data/ongh0068', \n",
    "    raw_moler_trace_dataset_parent_folder = '/data/ongh0068/l1000/trace_playground',\n",
    "    output_pyg_trace_dataset_parent_folder = '/data/ongh0068/l1000/pyg_output_playground',\n",
    "    split = 'train',\n",
    ")\n",
    "\n",
    "loader = DataLoader(dataset, batch_size=16, shuffle=False, follow_batch = [\n",
    "    'correct_edge_choices',\n",
    "    'correct_edge_types',\n",
    "    'valid_edge_choices',\n",
    "    'valid_attachment_point_choices',\n",
    "    'correct_attachment_point_choice',\n",
    "    'correct_node_type_choices',\n",
    "    'original_graph_x',\n",
    "    'correct_first_node_type_choices'\n",
    "])"
   ]
  },
  {
   "cell_type": "code",
   "execution_count": 2,
   "id": "6f05d4b3",
   "metadata": {
    "scrolled": false
   },
   "outputs": [],
   "source": [
    "for batch in loader:\n",
    "    \n",
    "    break"
   ]
  },
  {
   "cell_type": "code",
   "execution_count": 8,
   "id": "31f33247",
   "metadata": {},
   "outputs": [],
   "source": [
    "import torch\n",
    "from model_utils import get_params\n",
    "params = get_params()"
   ]
  },
  {
   "cell_type": "code",
   "execution_count": 9,
   "id": "717a6241",
   "metadata": {},
   "outputs": [
    {
     "name": "stdout",
     "output_type": "stream",
     "text": [
      "The autoreload extension is already loaded. To reload it, use:\n",
      "  %reload_ext autoreload\n"
     ]
    }
   ],
   "source": [
    "%load_ext autoreload\n",
    "%autoreload 2\n",
    "from model import BaseModel\n"
   ]
  },
  {
   "cell_type": "code",
   "execution_count": 10,
   "id": "cdb51354",
   "metadata": {},
   "outputs": [
    {
     "data": {
      "text/plain": [
       "tensor(5.1451, dtype=torch.float64, grad_fn=<AddBackward0>)"
      ]
     },
     "execution_count": 10,
     "metadata": {},
     "output_type": "execute_result"
    }
   ],
   "source": [
    "model = BaseModel(params, dataset).eval()\n",
    "\n",
    "moler_output = model._run_step(batch)\n",
    "\n",
    "loss = model.compute_loss(moler_output, batch)\n",
    "\n",
    "loss"
   ]
  },
  {
   "cell_type": "code",
   "execution_count": 11,
   "id": "3ccb9fd1",
   "metadata": {},
   "outputs": [
    {
     "ename": "SyntaxError",
     "evalue": "invalid syntax (2536383891.py, line 9)",
     "output_type": "error",
     "traceback": [
      "\u001b[0;36m  Cell \u001b[0;32mIn [11], line 9\u001b[0;36m\u001b[0m\n\u001b[0;31m    )\u001b[0m\n\u001b[0m     ^\u001b[0m\n\u001b[0;31mSyntaxError\u001b[0m\u001b[0;31m:\u001b[0m invalid syntax\n"
     ]
    }
   ],
   "source": [
    "def decode(\n",
    "    graph_representations,\n",
    "    initial_molecules= None,\n",
    "    mol_ids = None,\n",
    "    store_generation_traces = False,\n",
    "    max_num_steps=120,\n",
    "    beam_size= 1,\n",
    "    sampling_mode = 'greedy',\n",
    ")"
   ]
  },
  {
   "cell_type": "code",
   "execution_count": 13,
   "id": "dd97f721",
   "metadata": {},
   "outputs": [],
   "source": [
    "with torch.no_grad():\n",
    "    input_molecule_representations = model._full_graph_encoder(\n",
    "        original_graph_node_categorical_features=batch.original_graph_node_categorical_features,\n",
    "        node_features=batch.original_graph_x.float(),\n",
    "        edge_index=batch.original_graph_edge_index,\n",
    "        edge_type=batch.original_graph_edge_type.int(),\n",
    "        batch_index=batch.original_graph_x_batch,\n",
    "    )\n",
    "\n",
    "\n",
    "    partial_graph_representions, node_representations = model._partial_graph_encoder(\n",
    "        partial_graph_node_categorical_features = batch.partial_node_categorical_features,\n",
    "        node_features = batch.x,\n",
    "        edge_index = batch.edge_index.long(), \n",
    "        edge_type = batch.edge_type, \n",
    "        graph_to_focus_node_map = batch.focus_node,\n",
    "        candidate_attachment_points = batch.valid_attachment_point_choices,\n",
    "        batch_index = batch.batch\n",
    "    )\n",
    "    # Apply latent sampling strategy\n",
    "    p, q, latent_representations = model.sample_from_latent_repr(\n",
    "        input_molecule_representations\n",
    "    )"
   ]
  },
  {
   "cell_type": "code",
   "execution_count": 8,
   "id": "2e37dcc4",
   "metadata": {},
   "outputs": [
    {
     "data": {
      "text/plain": [
       "torch.Size([16, 512])"
      ]
     },
     "execution_count": 8,
     "metadata": {},
     "output_type": "execute_result"
    }
   ],
   "source": [
    "latent_representations.shape"
   ]
  },
  {
   "cell_type": "markdown",
   "id": "1840d01f",
   "metadata": {},
   "source": [
    "# Preprocessing before algorithm"
   ]
  },
  {
   "cell_type": "code",
   "execution_count": 14,
   "id": "4f8d3065",
   "metadata": {},
   "outputs": [],
   "source": [
    "from rdkit import Chem\n",
    "from molecule_generation.chem.molecule_dataset_utils import BOND_DICT\n",
    "from molecule_generation.chem.motif_utils import (\n",
    "    find_motifs_from_vocabulary,\n",
    ")\n",
    "uses_motifs = True\n",
    "initial_molecules = None\n",
    "mol_ids = None\n",
    "store_generation_traces = False\n",
    "\n",
    "graph_representations = latent_representations\n",
    "\n",
    "if initial_molecules is None:\n",
    "    initial_molecules = [None] * len(graph_representations)\n",
    "\n",
    "# Replace `None` in initial_molecules with empty molecules.\n",
    "initial_molecules = [\n",
    "    Chem.Mol() if initMol is None else initMol for initMol in initial_molecules\n",
    "]\n",
    "if mol_ids is None:\n",
    "    mol_ids = range(len(graph_representations))"
   ]
  },
  {
   "cell_type": "code",
   "execution_count": 15,
   "id": "48231d8b",
   "metadata": {},
   "outputs": [],
   "source": [
    "from molecule_generation.utils.moler_decoding_utils import (\n",
    "    DecoderSamplingMode,\n",
    "    sample_indices_from_logprobs,\n",
    "    restrict_to_beam_size_per_mol,\n",
    "    MoLeRDecoderState,\n",
    "    MoleculeGenerationAtomChoiceInfo,\n",
    "    MoleculeGenerationAttachmentPointChoiceInfo,\n",
    "    MoleculeGenerationEdgeChoiceInfo,\n",
    "    MoleculeGenerationEdgeCandidateInfo,\n",
    ")"
   ]
  },
  {
   "cell_type": "code",
   "execution_count": 16,
   "id": "842578d9",
   "metadata": {},
   "outputs": [],
   "source": [
    "decoder_states = []\n",
    "\n",
    "\n",
    "# preprocessing for when a scaffold is given\n",
    "for graph_repr, init_mol, mol_id in zip(graph_representations, initial_molecules, mol_ids):\n",
    "    num_free_bond_slots = [0] * len(init_mol.GetAtoms())\n",
    "\n",
    "    atom_ids_to_remove = []\n",
    "    atom_ids_to_keep = []\n",
    "\n",
    "    for atom in init_mol.GetAtoms():\n",
    "        if atom.GetAtomicNum() == 0:\n",
    "            # Atomic number 0 means a placeholder atom that signifies an attachment point.\n",
    "            bonds = atom.GetBonds()\n",
    "\n",
    "            if len(bonds) > 1:\n",
    "                scaffold = Chem.MolToSmiles(init_mol)\n",
    "                raise ValueError(\n",
    "                    f\"Scaffold {scaffold} contains a [*] atom with at least two bonds.\"\n",
    "                )\n",
    "\n",
    "            if not bonds:\n",
    "                # This is a very odd case: either the scaffold we got is disconnected, or\n",
    "                # it consists of just a single * atom.\n",
    "                scaffold = Chem.MolToSmiles(init_mol)\n",
    "                raise ValueError(f\"Scaffold {scaffold} contains a [*] atom with no bonds.\")\n",
    "\n",
    "            [bond] = bonds\n",
    "            begin_idx = bond.GetBeginAtomIdx()\n",
    "            end_idx = bond.GetEndAtomIdx()\n",
    "\n",
    "            neighbour_idx = begin_idx if begin_idx != atom.GetIdx() else end_idx\n",
    "            num_free_bond_slots[neighbour_idx] += 1\n",
    "\n",
    "            atom_ids_to_remove.append(atom.GetIdx())\n",
    "        else:\n",
    "            atom_ids_to_keep.append(atom.GetIdx())\n",
    "\n",
    "    if not atom_ids_to_remove:\n",
    "        # No explicit attachment points, so assume we can connect anywhere.\n",
    "        num_free_bond_slots = None\n",
    "    else:\n",
    "        num_free_bond_slots = [num_free_bond_slots[idx] for idx in atom_ids_to_keep]\n",
    "        init_mol = Chem.RWMol(init_mol)\n",
    "\n",
    "        # Remove atoms starting from largest index, so that we don't have to account for\n",
    "        # indices shifting during removal.\n",
    "        for atom_idx in reversed(atom_ids_to_remove):\n",
    "            init_mol.RemoveAtom(atom_idx)\n",
    "\n",
    "        # Determine how the scaffold atoms will get reordered when we canonicalize it, so we can\n",
    "        # permute `num_free_bond_slots` appropriately.\n",
    "        canonical_ordering = compute_canonical_atom_order(init_mol)\n",
    "        num_free_bond_slots = [num_free_bond_slots[idx] for idx in canonical_ordering]\n",
    "\n",
    "    # Now canonicalize, which renumbers all the atoms, but we've applied the same\n",
    "    # renumbering to `num_free_bond_slots` earlier.\n",
    "    init_mol = Chem.MolFromSmiles(Chem.MolToSmiles(init_mol))\n",
    "\n",
    "    # Clear aromatic flags in the scaffold, since partial graphs during training never have\n",
    "    # them set (however we _do_ run `AtomIsAromaticFeatureExtractor`, it just always returns\n",
    "    # 0 for partial graphs during training).\n",
    "    # TODO(kmaziarz): Consider fixing this.\n",
    "    Chem.Kekulize(init_mol, clearAromaticFlags=True)\n",
    "\n",
    "    init_atom_types = []\n",
    "    # TODO(kmaziarz): We need to be more careful in how the initial molecule looks like, to\n",
    "    # make sure that `init_mol`s have correct atom features (e.g. charges).\n",
    "    for atom in init_mol.GetAtoms():\n",
    "        init_atom_types.append(get_atom_symbol(atom))\n",
    "    adjacency_lists = [[] for _ in range(len(BOND_DICT))]\n",
    "    for bond in init_mol.GetBonds():\n",
    "        bond_type_idx = BOND_DICT[str(bond.GetBondType())]\n",
    "        adjacency_lists[bond_type_idx].append(\n",
    "            (bond.GetBeginAtomIdx(), bond.GetEndAtomIdx())\n",
    "        )\n",
    "        adjacency_lists[bond_type_idx].append(\n",
    "            (bond.GetEndAtomIdx(), bond.GetBeginAtomIdx())\n",
    "        )\n",
    "\n",
    "    if uses_motifs:\n",
    "        init_mol_motifs = find_motifs_from_vocabulary(\n",
    "            molecule=init_mol, motif_vocabulary=dataset._motif_vocabulary\n",
    "        )\n",
    "    else:\n",
    "        init_mol_motifs = []\n",
    "\n",
    "    decoder_states.append(\n",
    "        MoLeRDecoderState(\n",
    "            molecule_representation=graph_repr,\n",
    "            molecule_id=mol_id,\n",
    "            molecule=init_mol,\n",
    "            atom_types=init_atom_types,\n",
    "            adjacency_lists=adjacency_lists,\n",
    "            visited_atoms=[atom.GetIdx() for atom in init_mol.GetAtoms()],\n",
    "            atoms_to_visit=[],\n",
    "            focus_atom=None,\n",
    "            # Pseudo-randomly pick last atom from input:\n",
    "            prior_focus_atom=len(init_atom_types) - 1,\n",
    "            generation_steps=[] if store_generation_traces else None,\n",
    "            motifs=init_mol_motifs,\n",
    "            num_free_bond_slots=num_free_bond_slots,\n",
    "        )\n",
    "    )\n",
    "\n",
    "decoder_states_empty = []\n",
    "decoder_states_non_empty = []\n",
    "\n",
    "for decoder_state in decoder_states:\n",
    "    if decoder_state.molecule.GetNumAtoms() == 0:\n",
    "        decoder_states_empty.append(decoder_state)\n",
    "    else:\n",
    "        decoder_states_non_empty.append(decoder_state)\n"
   ]
  },
  {
   "cell_type": "markdown",
   "id": "7cc99555",
   "metadata": {},
   "source": [
    "# _decoder_pick_first_atom_types\n"
   ]
  },
  {
   "cell_type": "code",
   "execution_count": 17,
   "id": "e84e4348",
   "metadata": {},
   "outputs": [],
   "source": [
    "from decoding_utils import sample_indices_from_logprobs\n",
    "import numpy as np\n",
    "\n",
    "\n",
    "num_samples = 1\n",
    "decoder_states = decoder_states_empty\n",
    "sampling_mode =  'greedy'\n",
    "index_to_node_type_map=dataset.node_type_index_to_string\n",
    "\n",
    "with torch.no_grad():\n",
    "    # We only need the molecule representations.\n",
    "    molecule_representations = torch.stack(\n",
    "        [state.molecule_representation for state in decoder_states]\n",
    "    )\n",
    "\n",
    "    first_node_type_logits = model.decoder.pick_first_node_type(\n",
    "        latent_representations=latent_representations\n",
    "    )  # Shape [G, NT + 1]\n",
    "\n",
    "    first_atom_type_logprobs = torch.nn.functional.log_softmax(\n",
    "        first_node_type_logits[:, 1:], dim=-1 # because index 0 corresponds to UNK\n",
    "    )  # Shape [G, NT]\n",
    "\n",
    "    first_atom_type_pick_results = []\n",
    "\n",
    "\n",
    "    # Iterate over each of the rows independently, sampling for each input state:\n",
    "    for state_first_atom_type_logprobs in first_atom_type_logprobs:\n",
    "        picked_atom_type_indices = sample_indices_from_logprobs(\n",
    "            num_samples, sampling_mode, state_first_atom_type_logprobs\n",
    "        )\n",
    "\n",
    "        this_state_results = []\n",
    "\n",
    "        for picked_atom_type_idx in picked_atom_type_indices:\n",
    "            pick_logprob = state_first_atom_type_logprobs[picked_atom_type_idx]\n",
    "            picked_atom_type_idx += 1  # Revert the stripping out of the UNK (index 0) type\n",
    "\n",
    "            this_state_results.append(\n",
    "                (index_to_node_type_map[picked_atom_type_idx.item()], pick_logprob)\n",
    "            )\n",
    "\n",
    "        first_atom_type_pick_results.append(\n",
    "            (this_state_results, state_first_atom_type_logprobs)\n",
    "        )\n"
   ]
  },
  {
   "cell_type": "code",
   "execution_count": 18,
   "id": "63dc3113",
   "metadata": {},
   "outputs": [],
   "source": [
    "# # def view_mol(,)\n",
    "# from rdkit.Chem import Draw\n",
    "# Draw.MolsToGridImage([Chem.MolFromSmiles(first_atom_type_pick_results[i][0][0][0]) for i in range(len(first_atom_type_pick_results))], subImgSize=(250,250))\n",
    "# Chem.MolFromSmiles(), Chem.MolFromSmiles(first_atom_type_pick_results[1][0][0][0])"
   ]
  },
  {
   "cell_type": "code",
   "execution_count": 19,
   "id": "ffd63e2a",
   "metadata": {},
   "outputs": [],
   "source": [
    "first_node_pick_results = first_atom_type_pick_results"
   ]
  },
  {
   "cell_type": "code",
   "execution_count": 20,
   "id": "2c5be96d",
   "metadata": {},
   "outputs": [],
   "source": [
    "# set(atom_type_featuriser.index_to_atom_type_map.values())\n",
    "\n",
    "_atom_types = set(dataset._atom_type_featuriser.index_to_atom_type_map.values())"
   ]
  },
  {
   "cell_type": "code",
   "execution_count": 21,
   "id": "c3d344ab",
   "metadata": {},
   "outputs": [],
   "source": [
    "def _is_atom_type( node_type):\n",
    "    if not uses_motifs:\n",
    "        return True\n",
    "    else:\n",
    "        return node_type in _atom_types\n",
    "    \n",
    "def _add_atom_or_motif(\n",
    "    decoder_state,\n",
    "    node_type,\n",
    "    logprob,\n",
    "    choice_info,\n",
    "):\n",
    "    # If we are running with motifs, we need to check whether `node_type` is an atom or a motif.\n",
    "    if _is_atom_type(node_type):\n",
    "        # print(I {decoder_state.molecule_id} {decoder_state.logprob:12f}: Adding new atom {node_type} - p={logprob:5f}\")\n",
    "        return (\n",
    "            MoLeRDecoderState.new_with_added_atom(\n",
    "                decoder_state,\n",
    "                node_type,\n",
    "                atom_logprob=logprob,\n",
    "                atom_choice_info=choice_info,\n",
    "            ),\n",
    "            False,\n",
    "        )\n",
    "    else:\n",
    "        # print(I {decoder_state.molecule_id} {decoder_state.logprob:12f}: Adding motif {node_type} - p={logprob:5f}\")\n",
    "        return (\n",
    "            MoLeRDecoderState.new_with_added_motif(\n",
    "                decoder_state,\n",
    "                node_type,\n",
    "                motif_logprob=logprob,\n",
    "                atom_choice_info=choice_info,\n",
    "            ),\n",
    "            True,\n",
    "        )"
   ]
  },
  {
   "cell_type": "code",
   "execution_count": 22,
   "id": "6ffa7cf1",
   "metadata": {},
   "outputs": [],
   "source": [
    "\n",
    "decoder_states = decoder_states_non_empty\n",
    "\n",
    "for decoder_state, (first_node_type_picks, first_node_type_logprobs) in zip(\n",
    "    decoder_states_empty, first_node_pick_results\n",
    "):\n",
    "    for first_node_type_pick, first_node_type_logprob in first_node_type_picks:\n",
    "        # Set up generation trace storing variables, populating if needed.\n",
    "        atom_choice_info = None\n",
    "        if store_generation_traces:\n",
    "            atom_choice_info = MoleculeGenerationAtomChoiceInfo(\n",
    "                node_idx=0,\n",
    "                true_type_idx=None,\n",
    "                type_idx_to_prob=np.exp(first_node_type_logprobs),\n",
    "            )\n",
    "\n",
    "        new_decoder_state, added_motif = _add_atom_or_motif(\n",
    "            decoder_state,\n",
    "            first_node_type_pick,\n",
    "            logprob=first_node_type_logprob,\n",
    "            choice_info=atom_choice_info,\n",
    "        )\n",
    "\n",
    "        last_atom_id = new_decoder_state.molecule.GetNumAtoms() - 1\n",
    "\n",
    "        if added_motif:\n",
    "            # To make all asserts happy, pretend we chose an attachment point.\n",
    "            new_decoder_state._focus_atom = last_atom_id\n",
    "\n",
    "        # Mark all initial nodes as visited.\n",
    "        new_decoder_state = MoLeRDecoderState.new_with_focus_marked_as_visited(\n",
    "            old_state=new_decoder_state, focus_node_finished_logprob=0.0\n",
    "        )\n",
    "\n",
    "        # Set the prior focus atom similarly to the start-from-scaffold case.\n",
    "        new_decoder_state._prior_focus_atom = last_atom_id\n",
    "\n",
    "        decoder_states.append(new_decoder_state)"
   ]
  },
  {
   "cell_type": "code",
   "execution_count": 67,
   "id": "c097c08a",
   "metadata": {},
   "outputs": [
    {
     "data": {
      "image/png": "[encoded data removed]",
      "text/plain": [
       "<rdkit.Chem.rdchem.RWMol at 0x7faeca654810>"
      ]
     },
     "execution_count": 67,
     "metadata": {},
     "output_type": "execute_result"
    }
   ],
   "source": [
    "decoder_states[0].molecule"
   ]
  },
  {
   "cell_type": "code",
   "execution_count": 68,
   "id": "e191d853",
   "metadata": {},
   "outputs": [
    {
     "data": {
      "image/png": "[encoded data removed]",
      "text/plain": [
       "<IPython.core.display.Image object>"
      ]
     },
     "execution_count": 68,
     "metadata": {},
     "output_type": "execute_result"
    }
   ],
   "source": [
    "\n",
    "\n",
    "Draw.MolsToGridImage([decoder_states[i].molecule for i in range(len(decoder_states))], subImgSize=(250,250))\n"
   ]
  },
  {
   "cell_type": "code",
   "execution_count": 23,
   "id": "ae8b1724",
   "metadata": {},
   "outputs": [],
   "source": [
    "from torch_geometric.data import Batch\n",
    "\n",
    "batch = Batch.from_data_list([dataset[0], dataset[1]], follow_batch = [\n",
    "    'correct_edge_choices',\n",
    "    'correct_edge_types',\n",
    "    'valid_edge_choices',\n",
    "    'valid_attachment_point_choices',\n",
    "    'correct_attachment_point_choice',\n",
    "    'correct_node_type_choices',\n",
    "    'original_graph_x',\n",
    "    'correct_first_node_type_choices'\n",
    "])"
   ]
  },
  {
   "cell_type": "code",
   "execution_count": 24,
   "id": "10e877d6",
   "metadata": {},
   "outputs": [],
   "source": [
    "\n",
    "atom_featurisers =dataset._metadata['feature_extractors']\n",
    "motif_vocabulary=dataset._motif_vocabulary\n",
    "\n",
    "\n",
    "for decoder_state in decoder_states:\n",
    "    node_features, node_categorical_features = decoder_state.get_node_features(\n",
    "        atom_featurisers, motif_vocabulary\n",
    "    )\n",
    "    mol_num_nodes = node_features.shape[0]"
   ]
  },
  {
   "cell_type": "code",
   "execution_count": 86,
   "id": "26da3a33",
   "metadata": {},
   "outputs": [
    {
     "data": {
      "text/plain": [
       "3"
      ]
     },
     "execution_count": 86,
     "metadata": {},
     "output_type": "execute_result"
    }
   ],
   "source": [
    "decoder_states[0].prior_focus_atom"
   ]
  },
  {
   "cell_type": "code",
   "execution_count": 43,
   "id": "564939f4",
   "metadata": {},
   "outputs": [],
   "source": [
    "def _to_tensor_moler(decoder_state_features, ignore = []):\n",
    "    for k, v in decoder_state_features.items():\n",
    "        if k in ignore:\n",
    "            continue\n",
    "        decoder_state_features[k] = torch.tensor(decoder_state_features[k])\n",
    "    return decoder_state_features\n",
    "\n",
    "\n",
    "\n",
    "def batch_decoder_states(\n",
    "    batch_size,\n",
    "    atom_featurisers, #=dataset._metadata['feature_extractors'] ,\n",
    "    motif_vocabulary,#=dataset._motif_vocabulary , \n",
    "    uses_categorical_features, #= True,\n",
    "    decoder_states,#=decoder_states,\n",
    "#     init_batch_callback=init_atom_choice_batch,\n",
    "#     add_state_to_batch_callback=add_state_to_atom_choice_batch,\n",
    "):\n",
    "    current_batch = []\n",
    "    for decoder_state in decoder_states:\n",
    "        node_features, node_categorical_features = decoder_state.get_node_features(\n",
    "            atom_featurisers, motif_vocabulary\n",
    "        )\n",
    "        mol_num_nodes = node_features.shape[0]\n",
    "        \n",
    "        decoder_state_features = {\n",
    "            'latent_representation':decoder_state.molecule_representation, \n",
    "            'x': node_features,\n",
    "            'node_categorical_features': node_categorical_features,\n",
    "        }\n",
    "        \n",
    "        edge_indexes = []\n",
    "        edge_types = []\n",
    "        for edge_type_idx, adj_list in enumerate(decoder_state.adjacency_lists):\n",
    "            if len(adj_list) > 0:\n",
    "                edge_index = np.array(adj_list, dtype=np.int32).T\n",
    "                edge_indexes += [edge_index]\n",
    "                \"\"\" \n",
    "                edge types: \n",
    "                single bond => 0\n",
    "                double bond => 1\n",
    "                triple bond => 2\n",
    "                self loop => 3\n",
    "                \"\"\"\n",
    "                edge_types += [edge_type_idx] * len(adj_list)\n",
    "#         print(edge_indexes)\n",
    "        decoder_state_features[\"edge_index\"] = (\n",
    "            np.concatenate(edge_indexes, 1)\n",
    "            if len(edge_indexes) > 0\n",
    "            else np.array(edge_indexes)\n",
    "        )\n",
    "        decoder_state_features[\"edge_type\"] = np.array(edge_types)\n",
    "        \n",
    "        ### pick_attachment_points\n",
    "        decoder_state_features['candidate_attachment_points'] = decoder_state.candidate_attachment_points,\n",
    "        ### pick_attachment_points\n",
    "        \n",
    "        \n",
    "        ### pick_new_nodes\n",
    "        \n",
    "        ### pick_new_nodes\n",
    "        \n",
    "        \n",
    "        ### pick_edge\n",
    "        \n",
    "        \n",
    "        ### pick_edge\n",
    "        \n",
    "        \n",
    "        \n",
    "        \n",
    "        decoder_state_features = _to_tensor_moler(decoder_state_features, ignore = ['latent_representation'])\n",
    "#         print(decoder_state_features)\n",
    "        current_batch += [(MolerData(**decoder_state_features), decoder_state)]\n",
    "        if len(current_batch) == batch_size:\n",
    "            tmp = current_batch\n",
    "            current_batch = []\n",
    "            yield (Batch.from_data_list([i[0] for i in tmp], follow_batch = [\n",
    "                'correct_edge_choices',\n",
    "                'correct_edge_types',\n",
    "                'valid_edge_choices',\n",
    "                'valid_attachment_point_choices',\n",
    "                'correct_attachment_point_choice',\n",
    "                'correct_node_type_choices',\n",
    "                'original_graph_x',\n",
    "                'correct_first_node_type_choices',\n",
    "                'candidate_attachment_points'\n",
    "            ]), [i[1] for i in tmp])\n",
    "    if len(current_batch) > 0:\n",
    "        yield Batch.from_data_list(current_batch, follow_batch = [\n",
    "            'correct_edge_choices',\n",
    "            'correct_edge_types',\n",
    "            'valid_edge_choices',\n",
    "            'valid_attachment_point_choices',\n",
    "            'correct_attachment_point_choice',\n",
    "            'correct_node_type_choices',\n",
    "            'original_graph_x',\n",
    "            'correct_first_node_type_choices',\n",
    "            'candidate_attachment_points'\n",
    "        ])\n",
    "        \n"
   ]
  },
  {
   "cell_type": "code",
   "execution_count": 44,
   "id": "5ac779c2",
   "metadata": {},
   "outputs": [],
   "source": [
    "dataloader = batch_decoder_states(\n",
    "    batch_size = 16,\n",
    "    atom_featurisers =dataset._metadata['feature_extractors'] ,\n",
    "    motif_vocabulary=dataset._motif_vocabulary , \n",
    "    uses_categorical_features = True,\n",
    "    decoder_states=decoder_states,\n",
    ")"
   ]
  },
  {
   "cell_type": "code",
   "execution_count": 45,
   "id": "e2bf9623",
   "metadata": {},
   "outputs": [
    {
     "name": "stdout",
     "output_type": "stream",
     "text": [
      "(MolerDataBatch(x=[104, 32], edge_index=[2, 180], latent_representation=[16, 512], candidate_attachment_points=[57], candidate_attachment_points_batch=[57], candidate_attachment_points_ptr=[17], node_categorical_features=[104], edge_type=[180], batch=[104], ptr=[17]), [<molecule_generation.utils.moler_decoding_utils.MoLeRDecoderState object at 0x7fa78ec3f0d0>, <molecule_generation.utils.moler_decoding_utils.MoLeRDecoderState object at 0x7fa78ec3f610>, <molecule_generation.utils.moler_decoding_utils.MoLeRDecoderState object at 0x7fa78ef62dc0>, <molecule_generation.utils.moler_decoding_utils.MoLeRDecoderState object at 0x7fa78ef62130>, <molecule_generation.utils.moler_decoding_utils.MoLeRDecoderState object at 0x7fa78ef62460>, <molecule_generation.utils.moler_decoding_utils.MoLeRDecoderState object at 0x7fa78ef62790>, <molecule_generation.utils.moler_decoding_utils.MoLeRDecoderState object at 0x7fa78ef62cd0>, <molecule_generation.utils.moler_decoding_utils.MoLeRDecoderState object at 0x7fa77c0fd940>, <molecule_generation.utils.moler_decoding_utils.MoLeRDecoderState object at 0x7fa77c0fdfd0>, <molecule_generation.utils.moler_decoding_utils.MoLeRDecoderState object at 0x7fa77c0fd220>, <molecule_generation.utils.moler_decoding_utils.MoLeRDecoderState object at 0x7fa77c0fdac0>, <molecule_generation.utils.moler_decoding_utils.MoLeRDecoderState object at 0x7fa77c0fd160>, <molecule_generation.utils.moler_decoding_utils.MoLeRDecoderState object at 0x7fa77c0fdc10>, <molecule_generation.utils.moler_decoding_utils.MoLeRDecoderState object at 0x7fa77c0fd640>, <molecule_generation.utils.moler_decoding_utils.MoLeRDecoderState object at 0x7fa77c0fd190>, <molecule_generation.utils.moler_decoding_utils.MoLeRDecoderState object at 0x7fa77c0fd7c0>])\n"
     ]
    }
   ],
   "source": [
    "for batch2 in dataloader:\n",
    "    print(batch2)\n",
    "#     break"
   ]
  },
  {
   "cell_type": "code",
   "execution_count": 46,
   "id": "497e8dd2",
   "metadata": {},
   "outputs": [],
   "source": [
    "batch = batch2"
   ]
  },
  {
   "cell_type": "code",
   "execution_count": 51,
   "id": "563c83a7",
   "metadata": {},
   "outputs": [],
   "source": [
    "initial_focus_atom_idx = batch[0].candidate_attachment_points_ptr[:-1]"
   ]
  },
  {
   "cell_type": "code",
   "execution_count": 52,
   "id": "7db862ee",
   "metadata": {},
   "outputs": [
    {
     "data": {
      "text/plain": [
       "tensor([ 0,  1,  2,  3,  4,  5,  6,  7,  8,  9, 10, 11, 12, 13, 14, 15])"
      ]
     },
     "execution_count": 52,
     "metadata": {},
     "output_type": "execute_result"
    }
   ],
   "source": [
    "batch[0].candidate_attachment_points_batch[initial_focus_atom_idx]"
   ]
  },
  {
   "cell_type": "code",
   "execution_count": 53,
   "id": "3076be91",
   "metadata": {},
   "outputs": [
    {
     "data": {
      "text/plain": [
       "tensor([ 0,  4, 14, 20, 31, 37, 41, 47, 53, 59, 65, 76, 82, 86, 92, 98])"
      ]
     },
     "execution_count": 53,
     "metadata": {},
     "output_type": "execute_result"
    }
   ],
   "source": [
    "initial_focus_atoms = batch[0].candidate_attachment_points[initial_focus_atom_idx]"
   ]
  },
  {
   "cell_type": "code",
   "execution_count": 33,
   "id": "0b858918",
   "metadata": {},
   "outputs": [
    {
     "ename": "IndexError",
     "evalue": "invalid index of a 0-dim tensor. Use `tensor.item()` in Python or `tensor.item<T>()` in C++ to convert a 0-dim tensor to a number",
     "output_type": "error",
     "traceback": [
      "\u001b[0;31m---------------------------------------------------------------------------\u001b[0m",
      "\u001b[0;31mIndexError\u001b[0m                                Traceback (most recent call last)",
      "Cell \u001b[0;32mIn [33], line 2\u001b[0m\n\u001b[1;32m      1\u001b[0m focus_atoms \u001b[38;5;241m=\u001b[39m np\u001b[38;5;241m.\u001b[39marray(\n\u001b[0;32m----> 2\u001b[0m     [attachment_points[\u001b[38;5;241m0\u001b[39m] \u001b[38;5;28;01mfor\u001b[39;00m attachment_points \u001b[38;5;129;01min\u001b[39;00m batch[\u001b[38;5;241m0\u001b[39m]\u001b[38;5;241m.\u001b[39mcandidate_attachment_points]\n\u001b[1;32m      3\u001b[0m )\n",
      "Cell \u001b[0;32mIn [33], line 2\u001b[0m, in \u001b[0;36m<listcomp>\u001b[0;34m(.0)\u001b[0m\n\u001b[1;32m      1\u001b[0m focus_atoms \u001b[38;5;241m=\u001b[39m np\u001b[38;5;241m.\u001b[39marray(\n\u001b[0;32m----> 2\u001b[0m     [\u001b[43mattachment_points\u001b[49m\u001b[43m[\u001b[49m\u001b[38;5;241;43m0\u001b[39;49m\u001b[43m]\u001b[49m \u001b[38;5;28;01mfor\u001b[39;00m attachment_points \u001b[38;5;129;01min\u001b[39;00m batch[\u001b[38;5;241m0\u001b[39m]\u001b[38;5;241m.\u001b[39mcandidate_attachment_points]\n\u001b[1;32m      3\u001b[0m )\n",
      "\u001b[0;31mIndexError\u001b[0m: invalid index of a 0-dim tensor. Use `tensor.item()` in Python or `tensor.item<T>()` in C++ to convert a 0-dim tensor to a number"
     ]
    }
   ],
   "source": [
    "focus_atoms = np.array(\n",
    "    [attachment_points[0] for attachment_points in batch[0].candidate_attachment_points]\n",
    ")"
   ]
  },
  {
   "cell_type": "markdown",
   "id": "886f5a4c",
   "metadata": {},
   "source": [
    "# Design\n",
    "\n",
    "Instead of the decoder housing all these functions, the lightning module will house it instead. All the functions required for actually decoding the latent vector into a molecule will be in the lightning module because further down the road, when we use diffusion, this additional function has to be accessible outside of the decoder since it is agnostic of the decoder\n",
    "\n",
    "# TODO\n",
    "\n",
    "separate out the processing related to picking edges, picking nodes and picking attachment points into different call back functions to reduce time taken for batching"
   ]
  },
  {
   "cell_type": "code",
   "execution_count": 76,
   "id": "a7ebe8fd",
   "metadata": {},
   "outputs": [],
   "source": [
    "def _pick_attachment_points_for_batch(\n",
    "    batch,\n",
    "    decoder_states,\n",
    "    num_samples=1,\n",
    "    sampling_mode='greedy',\n",
    "):\n",
    "    \n",
    "    initial_focus_atom_idx = batch.candidate_attachment_points_ptr[:-1]\n",
    "    \n",
    "    initial_focus_atoms = batch.candidate_attachment_points[initial_focus_atom_idx]\n",
    "    \n",
    "    candidate_attachment_points = batch.candidate_attachment_points\n",
    "    \n",
    "    graph_representations, node_representations = model._partial_graph_encoder(\n",
    "        node_features=batch.x,\n",
    "        partial_graph_node_categorical_features=batch.node_categorical_features,\n",
    "        edge_index=batch.edge_index,\n",
    "        edge_type = batch.edge_type, \n",
    "        # Here we choose an arbitrary attachment point as a focus atom; this does not matter\n",
    "        # since later all candidate attachment points are marked with the in-focus bit.\n",
    "        graph_to_focus_node_map=initial_focus_atoms,\n",
    "        candidate_attachment_points=candidate_attachment_points,\n",
    "        batch_index = batch.batch\n",
    "    )\n",
    "\n",
    "    attachment_point_selection_logits = model.decoder.pick_attachment_point(\n",
    "        input_molecule_representations=batch.latent_representation,\n",
    "        partial_graph_representations=graph_representations,\n",
    "        node_representations=node_representations,\n",
    "        node_to_graph_map=batch.batch,\n",
    "        candidate_attachment_points=candidate_attachment_points,\n",
    "\n",
    "    )  # Shape: [CA]\n",
    "\n",
    "    attachment_point_to_graph_map = batch.batch[candidate_attachment_points]\n",
    "\n",
    "    # TODO(krmaziar): Consider tensorizing the code below. For that, we need some equivalent of\n",
    "    # `unsorted_segment_argmax`.\n",
    "    logits_by_graph = [[] for _ in range(len(decoder_states))]\n",
    "\n",
    "    for logit, graph_id in zip(\n",
    "        attachment_point_selection_logits, attachment_point_to_graph_map\n",
    "    ):\n",
    "        logits_by_graph[graph_id].append(logit)\n",
    "    attachment_point_pick_results  = []\n",
    "    for old_decoder_state, attachment_point_logits in zip(decoder_states, logits_by_graph):\n",
    "        \n",
    "        attachment_point_logprobs = torch.nn.functional.log_softmax(torch.tensor(attachment_point_logits), dim = 0).numpy()\n",
    "        picked_att_point_indices = sample_indices_from_logprobs(\n",
    "            num_samples, sampling_mode, attachment_point_logprobs\n",
    "        )\n",
    "\n",
    "        this_state_results = []\n",
    "        for attachment_point_pick_idx in picked_att_point_indices:\n",
    "            attachment_point_pick = old_decoder_state.candidate_attachment_points[\n",
    "                attachment_point_pick_idx\n",
    "            ]\n",
    "            attachment_point_logprob = attachment_point_logprobs[attachment_point_pick_idx]\n",
    "\n",
    "            this_state_results.append((attachment_point_pick, attachment_point_logprob))\n",
    "        attachment_point_pick_results.append(this_state_results)\n",
    "\n",
    "    return attachment_point_pick_results, logits_by_graph"
   ]
  },
  {
   "cell_type": "code",
   "execution_count": 78,
   "id": "e67fbb72",
   "metadata": {},
   "outputs": [
    {
     "name": "stdout",
     "output_type": "stream",
     "text": [
      "[[(3, -1.0853355)], [(0, -1.3852327)], [(4, -1.0755115)], [(9, -1.9072008)], [(4, -1.0691093)], [(3, -1.0841299)], [(4, -1.0730668)], [(4, -1.0718259)], [(4, -1.0646057)], [(4, -1.0517763)], [(8, -1.9261926)], [(4, -1.0610905)], [(3, -1.0832046)], [(0, -1.0773962)], [(4, -1.0640314)], [(4, -1.0762551)]]\n"
     ]
    }
   ],
   "source": [
    "with torch.no_grad():\n",
    "    results = _pick_attachment_points_for_batch(\n",
    "        batch = batch[0],\n",
    "        decoder_states = batch[1],\n",
    "    )\n",
    "print(results[0])"
   ]
  },
  {
   "cell_type": "code",
   "execution_count": 82,
   "id": "60ce9378",
   "metadata": {},
   "outputs": [],
   "source": [
    "def _decoder_pick_attachment_points(\n",
    "    decoder_states,\n",
    "    sampling_mode = 'greedy',\n",
    "    num_samples = 1\n",
    "):\n",
    "    if len(decoder_states) == 0:\n",
    "        return [], np.zeros(shape=(0,))\n",
    "    \n",
    "    # We first need to create a minibatch of all of our partial graphs here:\n",
    "#     def init_attachment_point_choice_batch(batch):\n",
    "#         batch[\"candidate_attachment_points\"] = []\n",
    "\n",
    "#     def add_state_to_attachment_point_choice_batch(\n",
    "#         batch, \n",
    "#         decoder_state\n",
    "#     ):\n",
    "#         batch[\"candidate_attachment_points\"].append(\n",
    "#             np.array(decoder_state.candidate_attachment_points) + batch[\"nodes_in_batch\"]\n",
    "#         )\n",
    "\n",
    "    attachment_point_pick_results = []\n",
    "    logits_by_graph = []\n",
    "\n",
    "    for batch, decoder_states_batch in batch_decoder_states(\n",
    "        decoder_states=decoder_states,\n",
    "        batch_size = 16,\n",
    "        atom_featurisers =dataset._metadata['feature_extractors'] ,\n",
    "        motif_vocabulary=dataset._motif_vocabulary , \n",
    "        uses_categorical_features = True,  \n",
    "    ):\n",
    "        with torch.no_grad():\n",
    "            pick_results_for_batch, logits_for_batch = _pick_attachment_points_for_batch(\n",
    "                batch=batch,\n",
    "                decoder_states=decoder_states_batch,\n",
    "                num_samples=num_samples,\n",
    "                sampling_mode=sampling_mode,\n",
    "            )\n",
    "            attachment_point_pick_results.extend(pick_results_for_batch)\n",
    "            logits_by_graph.extend(logits_for_batch)\n",
    "        \n",
    "    return attachment_point_pick_results, logits_by_graph"
   ]
  },
  {
   "cell_type": "code",
   "execution_count": 84,
   "id": "dfe8df37",
   "metadata": {},
   "outputs": [
    {
     "data": {
      "text/plain": [
       "([[(3, -1.0853355)],\n",
       "  [(0, -1.3852327)],\n",
       "  [(4, -1.0755115)],\n",
       "  [(9, -1.9072008)],\n",
       "  [(4, -1.0691093)],\n",
       "  [(3, -1.0841299)],\n",
       "  [(4, -1.0730668)],\n",
       "  [(4, -1.0718259)],\n",
       "  [(4, -1.0646057)],\n",
       "  [(4, -1.0517763)],\n",
       "  [(8, -1.9261926)],\n",
       "  [(4, -1.0610905)],\n",
       "  [(3, -1.0832046)],\n",
       "  [(0, -1.0773962)],\n",
       "  [(4, -1.0640314)],\n",
       "  [(4, -1.0762551)]],\n",
       " [[tensor(-0.1889), tensor(-0.1634), tensor(-0.1561)],\n",
       "  [tensor(0.0179), tensor(0.0158), tensor(0.0165), tensor(0.0173)],\n",
       "  [tensor(-0.1041), tensor(-0.1329), tensor(-0.0835)],\n",
       "  [tensor(-0.1214),\n",
       "   tensor(-0.1025),\n",
       "   tensor(-0.0946),\n",
       "   tensor(-0.0447),\n",
       "   tensor(-0.0847),\n",
       "   tensor(-0.0911),\n",
       "   tensor(-0.0443)],\n",
       "  [tensor(0.0017), tensor(-0.0175), tensor(0.0367)],\n",
       "  [tensor(-0.0952), tensor(-0.0618), tensor(-0.0566)],\n",
       "  [tensor(-0.1166), tensor(-0.1378), tensor(-0.0886)],\n",
       "  [tensor(-0.0651), tensor(-0.0527), tensor(-0.0184)],\n",
       "  [tensor(-0.0341), tensor(-0.0825), tensor(-0.0065)],\n",
       "  [tensor(-0.1302), tensor(-0.1575), tensor(-0.0726)],\n",
       "  [tensor(-0.1034),\n",
       "   tensor(-0.0727),\n",
       "   tensor(-0.0436),\n",
       "   tensor(-0.0601),\n",
       "   tensor(-0.0520),\n",
       "   tensor(-0.0427),\n",
       "   tensor(-0.0641)],\n",
       "  [tensor(-0.1102), tensor(-0.1223), tensor(-0.0594)],\n",
       "  [tensor(-0.1554), tensor(-0.1259), tensor(-0.1173)],\n",
       "  [tensor(-0.0146), tensor(-0.0732), tensor(-0.0206)],\n",
       "  [tensor(-0.0724), tensor(-0.0956), tensor(-0.0316)],\n",
       "  [tensor(-0.0862), tensor(-0.1012), tensor(-0.0599)]])"
      ]
     },
     "execution_count": 84,
     "metadata": {},
     "output_type": "execute_result"
    }
   ],
   "source": [
    "_decoder_pick_attachment_points(decoder_states)"
   ]
  },
  {
   "cell_type": "code",
   "execution_count": null,
   "id": "69ea1944",
   "metadata": {},
   "outputs": [],
   "source": [
    "\n",
    "num_steps = 0\n",
    "while num_steps < max_num_steps:\n",
    "    # This will hold the results after this decoding step, grouped by input mol id:\n",
    "    new_decoder_states: List[MoLeRDecoderState] = []\n",
    "    num_steps += 1\n",
    "    # Step 1: Split decoder states into subsets, dependent on what they need next:\n",
    "    require_atom_states, require_bond_states, require_attachment_point_states = [], [], []\n",
    "    for decoder_state in decoder_states:\n",
    "        # No focus atom => needs a new atom\n",
    "        if decoder_state.focus_atom is None:\n",
    "            require_atom_states.append(decoder_state)\n",
    "        # Focus atom has invalid index => decoding finished, just push forward unchanged:\n",
    "        elif decoder_state.focus_atom < 0:\n",
    "            new_decoder_states.append(decoder_state)\n",
    "        else:\n",
    "            require_bond_states.append(decoder_state)\n",
    "\n",
    "    # Check if we are done:\n",
    "    if (len(require_atom_states) + len(require_bond_states)) == 0:\n",
    "        # print(\"I: Decoding finished\")\n",
    "        break\n",
    "\n",
    "    # Step 2: For states that require a new atom, try to pick one:\n",
    "    node_pick_results = self._decoder_pick_new_atom_types(\n",
    "        decoder_states=require_atom_states,\n",
    "        num_samples=beam_size,\n",
    "        sampling_mode=sampling_mode,\n",
    "    )\n",
    "\n",
    "    for decoder_state, (node_type_picks, node_type_logprobs) in zip(\n",
    "        require_atom_states, node_pick_results\n",
    "    ):\n",
    "        for node_type_pick, node_type_logprob in node_type_picks:\n",
    "            # Set up generation trace storing variables, populating if needed.\n",
    "            atom_choice_info = None\n",
    "            if store_generation_traces:\n",
    "                atom_choice_info = MoleculeGenerationAtomChoiceInfo(\n",
    "                    node_idx=decoder_state.prior_focus_atom + 1,\n",
    "                    true_type_idx=None,\n",
    "                    type_idx_to_prob=np.exp(node_type_logprobs),\n",
    "                )\n",
    "\n",
    "            # If the decoder says we need no new atoms anymore, we are finished. Otherwise,\n",
    "            # start adding more bonds:\n",
    "            if node_type_pick is None:\n",
    "                # print(I {decoder_state.molecule_id} {decoder_state.logprob:12f}: Finished decoding - p={node_type_logprob:5f}\")\n",
    "                new_decoder_states.append(\n",
    "                    MoLeRDecoderState.new_for_finished_decoding(\n",
    "                        old_state=decoder_state,\n",
    "                        finish_logprob=node_type_logprob,\n",
    "                        atom_choice_info=atom_choice_info,\n",
    "                    )\n",
    "                )\n",
    "            else:\n",
    "                new_decoder_state, added_motif = self._add_atom_or_motif(\n",
    "                    decoder_state,\n",
    "                    node_type_pick,\n",
    "                    logprob=node_type_logprob,\n",
    "                    choice_info=atom_choice_info,\n",
    "                )\n",
    "\n",
    "                if added_motif:\n",
    "                    require_attachment_point_states.append(new_decoder_state)\n",
    "                else:\n",
    "                    require_bond_states.append(new_decoder_state)\n",
    "\n",
    "    if self.uses_motifs:\n",
    "        # Step 2': For states that require picking an attachment point, pick one:\n",
    "        require_attachment_point_states = restrict_to_beam_size_per_mol(\n",
    "            require_attachment_point_states, beam_size\n",
    "        )\n",
    "        (\n",
    "            attachment_pick_results,\n",
    "            attachment_pick_logits,\n",
    "        ) = self._decoder_pick_attachment_points(\n",
    "            decoder_states=require_attachment_point_states, sampling_mode=sampling_mode\n",
    "        )\n",
    "\n",
    "        for decoder_state, attachment_point_picks, attachment_point_logits in zip(\n",
    "            require_attachment_point_states,\n",
    "            attachment_pick_results,\n",
    "            attachment_pick_logits,\n",
    "        ):\n",
    "            for (attachment_point_pick, attachment_point_logprob) in attachment_point_picks:\n",
    "                attachment_point_choice_info = None\n",
    "                if store_generation_traces:\n",
    "                    attachment_point_choice_info = MoleculeGenerationAttachmentPointChoiceInfo(\n",
    "                        partial_molecule_adjacency_lists=decoder_state.adjacency_lists,\n",
    "                        motif_nodes=decoder_state.atoms_to_mark_as_visited,\n",
    "                        candidate_attachment_points=decoder_state.candidate_attachment_points,\n",
    "                        candidate_idx_to_prob=tf.nn.softmax(attachment_point_logits),\n",
    "                        correct_attachment_point_idx=None,\n",
    "                    )\n",
    "\n",
    "                # print(I {decoder_state.molecule_id} {decoder_state.logprob:12f}: Picked attachment point {attachment_point_pick} - p={attachment_point_logprob:5f}\")\n",
    "                require_bond_states.append(\n",
    "                    MoLeRDecoderState.new_with_focus_on_attachment_point(\n",
    "                        decoder_state,\n",
    "                        attachment_point_pick,\n",
    "                        focus_atom_logprob=attachment_point_logprob,\n",
    "                        attachment_point_choice_info=attachment_point_choice_info,\n",
    "                    )\n",
    "                )\n",
    "    else:\n",
    "        assert not require_attachment_point_states\n",
    "\n",
    "    # Step 3: Pick fresh bonds and populate the next round of decoding steps:\n",
    "    require_bond_states = restrict_to_beam_size_per_mol(require_bond_states, beam_size)\n",
    "    bond_pick_results = self._decoder_pick_new_bond_types(\n",
    "        decoder_states=require_bond_states,\n",
    "        store_generation_traces=store_generation_traces,\n",
    "        sampling_mode=sampling_mode,\n",
    "    )\n",
    "    for (decoder_state, (bond_picks, edge_choice_info)) in zip(\n",
    "        require_bond_states, bond_pick_results\n",
    "    ):\n",
    "        if len(bond_picks) == 0:\n",
    "            # There were no valid options for this bonds, so we treat this as if\n",
    "            # predicting no more bonds with probability 1.0:\n",
    "            # print(I {decoder_state.molecule_id} {decoder_state.logprob:12f}: No more allowed bonds to node {decoder_state.focus_atom}\")\n",
    "            new_decoder_states.append(\n",
    "                MoLeRDecoderState.new_with_focus_marked_as_visited(\n",
    "                    decoder_state,\n",
    "                    focus_node_finished_logprob=0,\n",
    "                    edge_choice_info=edge_choice_info,\n",
    "                )\n",
    "            )\n",
    "            continue\n",
    "\n",
    "        for (bond_pick, bond_pick_logprob) in bond_picks:\n",
    "            # If the decoder says we need no more bonds for the current focus node,\n",
    "            # we mark this and put the decoder state back for the next expansion round:\n",
    "            if bond_pick is None:\n",
    "                # print(I {decoder_state.molecule_id} {decoder_state.logprob:12f}: Finished connecting bonds to node {decoder_state.focus_atom} - p={bond_pick_logprob:5f}\")\n",
    "                new_decoder_states.append(\n",
    "                    MoLeRDecoderState.new_with_focus_marked_as_visited(\n",
    "                        decoder_state,\n",
    "                        focus_node_finished_logprob=bond_pick_logprob,\n",
    "                        edge_choice_info=edge_choice_info,\n",
    "                    )\n",
    "                )\n",
    "            else:\n",
    "                (picked_bond_target, picked_bond_type) = bond_pick\n",
    "\n",
    "                # print(I {decoder_state.molecule_id} {decoder_state.logprob:12f}: Adding {decoder_state.focus_atom}-{picked_bond_type}->{picked_bond_target} - p={bond_pick_logprob:5f}\")\n",
    "                new_decoder_states.append(\n",
    "                    MoLeRDecoderState.new_with_added_bond(\n",
    "                        old_state=decoder_state,\n",
    "                        target_atom_idx=int(\n",
    "                            picked_bond_target\n",
    "                        ),  # Go from np.int32 to pyInt\n",
    "                        bond_type_idx=picked_bond_type,\n",
    "                        bond_logprob=bond_pick_logprob,\n",
    "                        edge_choice_info=edge_choice_info,\n",
    "                    )\n",
    "                )\n",
    "\n",
    "    # Everything is done, restrict to the beam width, and go back to the loop start:\n",
    "    decoder_states = restrict_to_beam_size_per_mol(new_decoder_states, beam_size)"
   ]
  },
  {
   "cell_type": "code",
   "execution_count": null,
   "id": "591095d9",
   "metadata": {},
   "outputs": [],
   "source": []
  },
  {
   "cell_type": "code",
   "execution_count": null,
   "id": "89ff5ca4",
   "metadata": {},
   "outputs": [],
   "source": []
  }
 ],
 "metadata": {
  "kernelspec": {
   "display_name": "Python 3 (ipykernel)",
   "language": "python",
   "name": "python3"
  },
  "language_info": {
   "codemirror_mode": {
    "name": "ipython",
    "version": 3
   },
   "file_extension": ".py",
   "mimetype": "text/x-python",
   "name": "python",
   "nbconvert_exporter": "python",
   "pygments_lexer": "ipython3",
   "version": "3.9.15"
  }
 },
 "nbformat": 4,
 "nbformat_minor": 5
}
