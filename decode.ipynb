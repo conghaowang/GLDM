{
 "cells": [
  {
   "cell_type": "code",
   "execution_count": 1,
   "id": "cfaeb042",
   "metadata": {},
   "outputs": [
    {
     "name": "stderr",
     "output_type": "stream",
     "text": [
      "2022-12-24 15:42:05.508063: I tensorflow/core/platform/cpu_feature_guard.cc:193] This TensorFlow binary is optimized with oneAPI Deep Neural Network Library (oneDNN) to use the following CPU instructions in performance-critical operations:  SSE4.1 SSE4.2 AVX AVX2 FMA\n",
      "To enable them in other operations, rebuild TensorFlow with the appropriate compiler flags.\n"
     ]
    }
   ],
   "source": [
    "from dataset import MolerDataset, MolerData\n",
    "from utils import pprint_pyg_obj\n",
    "from torch_geometric.loader import DataLoader\n",
    "\n",
    "dataset = MolerDataset(\n",
    "    root = '/data/ongh0068', \n",
    "    raw_moler_trace_dataset_parent_folder = '/data/ongh0068/l1000/trace_playground',\n",
    "    output_pyg_trace_dataset_parent_folder = '/data/ongh0068/l1000/pyg_output_playground',\n",
    "    split = 'train',\n",
    ")\n",
    "\n",
    "loader = DataLoader(dataset, batch_size=16, shuffle=False, follow_batch = [\n",
    "    'correct_edge_choices',\n",
    "    'correct_edge_types',\n",
    "    'valid_edge_choices',\n",
    "    'valid_attachment_point_choices',\n",
    "    'correct_attachment_point_choice',\n",
    "    'correct_node_type_choices',\n",
    "    'original_graph_x',\n",
    "    'correct_first_node_type_choices'\n",
    "])"
   ]
  },
  {
   "cell_type": "code",
   "execution_count": 2,
   "id": "6f05d4b3",
   "metadata": {
    "scrolled": false
   },
   "outputs": [],
   "source": [
    "for batch in loader:\n",
    "    \n",
    "    break"
   ]
  },
  {
   "cell_type": "code",
   "execution_count": 3,
   "id": "31f33247",
   "metadata": {},
   "outputs": [],
   "source": [
    "import torch\n",
    "from model_utils import get_params\n",
    "params = get_params()"
   ]
  },
  {
   "cell_type": "code",
   "execution_count": 4,
   "id": "717a6241",
   "metadata": {},
   "outputs": [],
   "source": [
    "%load_ext autoreload\n",
    "%autoreload 2\n",
    "from model import BaseModel\n"
   ]
  },
  {
   "cell_type": "code",
   "execution_count": 5,
   "id": "cdb51354",
   "metadata": {},
   "outputs": [
    {
     "data": {
      "text/plain": [
       "tensor(5.1784, dtype=torch.float64, grad_fn=<AddBackward0>)"
      ]
     },
     "execution_count": 5,
     "metadata": {},
     "output_type": "execute_result"
    }
   ],
   "source": [
    "model = BaseModel(params, dataset).eval()\n",
    "\n",
    "moler_output = model._run_step(batch)\n",
    "\n",
    "loss = model.compute_loss(moler_output, batch)\n",
    "\n",
    "loss"
   ]
  },
  {
   "cell_type": "code",
   "execution_count": 11,
   "id": "3ccb9fd1",
   "metadata": {},
   "outputs": [
    {
     "ename": "SyntaxError",
     "evalue": "invalid syntax (2536383891.py, line 9)",
     "output_type": "error",
     "traceback": [
      "\u001b[0;36m  Cell \u001b[0;32mIn [11], line 9\u001b[0;36m\u001b[0m\n\u001b[0;31m    )\u001b[0m\n\u001b[0m     ^\u001b[0m\n\u001b[0;31mSyntaxError\u001b[0m\u001b[0;31m:\u001b[0m invalid syntax\n"
     ]
    }
   ],
   "source": [
    "def decode(\n",
    "    graph_representations,\n",
    "    initial_molecules= None,\n",
    "    mol_ids = None,\n",
    "    store_generation_traces = False,\n",
    "    max_num_steps=120,\n",
    "    beam_size= 1,\n",
    "    sampling_mode = 'greedy',\n",
    ")"
   ]
  },
  {
   "cell_type": "code",
   "execution_count": 6,
   "id": "dd97f721",
   "metadata": {},
   "outputs": [],
   "source": [
    "with torch.no_grad():\n",
    "    input_molecule_representations = model._full_graph_encoder(\n",
    "        original_graph_node_categorical_features=batch.original_graph_node_categorical_features,\n",
    "        node_features=batch.original_graph_x.float(),\n",
    "        edge_index=batch.original_graph_edge_index,\n",
    "        edge_type=batch.original_graph_edge_type.int(),\n",
    "        batch_index=batch.original_graph_x_batch,\n",
    "    )\n",
    "\n",
    "\n",
    "    partial_graph_representions, node_representations = model._partial_graph_encoder(\n",
    "        partial_graph_node_categorical_features = batch.partial_node_categorical_features,\n",
    "        node_features = batch.x,\n",
    "        edge_index = batch.edge_index.long(), \n",
    "        edge_type = batch.edge_type, \n",
    "        graph_to_focus_node_map = batch.focus_node,\n",
    "        candidate_attachment_points = batch.valid_attachment_point_choices,\n",
    "        batch_index = batch.batch\n",
    "    )\n",
    "    # Apply latent sampling strategy\n",
    "    p, q, latent_representations = model.sample_from_latent_repr(\n",
    "        input_molecule_representations\n",
    "    )"
   ]
  },
  {
   "cell_type": "code",
   "execution_count": 8,
   "id": "2e37dcc4",
   "metadata": {},
   "outputs": [
    {
     "data": {
      "text/plain": [
       "torch.Size([16, 512])"
      ]
     },
     "execution_count": 8,
     "metadata": {},
     "output_type": "execute_result"
    }
   ],
   "source": [
    "latent_representations.shape"
   ]
  },
  {
   "cell_type": "markdown",
   "id": "1840d01f",
   "metadata": {},
   "source": [
    "# Preprocessing before algorithm"
   ]
  },
  {
   "cell_type": "code",
   "execution_count": 185,
   "id": "4f8d3065",
   "metadata": {},
   "outputs": [],
   "source": [
    "from rdkit import Chem\n",
    "from molecule_generation.chem.molecule_dataset_utils import BOND_DICT\n",
    "from molecule_generation.chem.motif_utils import (\n",
    "    find_motifs_from_vocabulary,\n",
    ")\n",
    "uses_motifs = True\n",
    "initial_molecules = None\n",
    "mol_ids = None\n",
    "store_generation_traces = False\n",
    "\n",
    "graph_representations = latent_representations\n",
    "\n",
    "if initial_molecules is None:\n",
    "    initial_molecules = [None] * len(graph_representations)\n",
    "\n",
    "# Replace `None` in initial_molecules with empty molecules.\n",
    "initial_molecules = [\n",
    "    Chem.Mol() if initMol is None else initMol for initMol in initial_molecules\n",
    "]\n",
    "if mol_ids is None:\n",
    "    mol_ids = range(len(graph_representations))"
   ]
  },
  {
   "cell_type": "code",
   "execution_count": 186,
   "id": "48231d8b",
   "metadata": {},
   "outputs": [],
   "source": [
    "from molecule_generation.utils.moler_decoding_utils import (\n",
    "    DecoderSamplingMode,\n",
    "    sample_indices_from_logprobs,\n",
    "    restrict_to_beam_size_per_mol,\n",
    "    MoLeRDecoderState,\n",
    "    MoleculeGenerationAtomChoiceInfo,\n",
    "    MoleculeGenerationAttachmentPointChoiceInfo,\n",
    "    MoleculeGenerationEdgeChoiceInfo,\n",
    "    MoleculeGenerationEdgeCandidateInfo,\n",
    ")"
   ]
  },
  {
   "cell_type": "code",
   "execution_count": 187,
   "id": "842578d9",
   "metadata": {},
   "outputs": [],
   "source": [
    "decoder_states = []\n",
    "\n",
    "\n",
    "# preprocessing for when a scaffold is given\n",
    "for graph_repr, init_mol, mol_id in zip(graph_representations, initial_molecules, mol_ids):\n",
    "    num_free_bond_slots = [0] * len(init_mol.GetAtoms())\n",
    "\n",
    "    atom_ids_to_remove = []\n",
    "    atom_ids_to_keep = []\n",
    "\n",
    "    for atom in init_mol.GetAtoms():\n",
    "        if atom.GetAtomicNum() == 0:\n",
    "            # Atomic number 0 means a placeholder atom that signifies an attachment point.\n",
    "            bonds = atom.GetBonds()\n",
    "\n",
    "            if len(bonds) > 1:\n",
    "                scaffold = Chem.MolToSmiles(init_mol)\n",
    "                raise ValueError(\n",
    "                    f\"Scaffold {scaffold} contains a [*] atom with at least two bonds.\"\n",
    "                )\n",
    "\n",
    "            if not bonds:\n",
    "                # This is a very odd case: either the scaffold we got is disconnected, or\n",
    "                # it consists of just a single * atom.\n",
    "                scaffold = Chem.MolToSmiles(init_mol)\n",
    "                raise ValueError(f\"Scaffold {scaffold} contains a [*] atom with no bonds.\")\n",
    "\n",
    "            [bond] = bonds\n",
    "            begin_idx = bond.GetBeginAtomIdx()\n",
    "            end_idx = bond.GetEndAtomIdx()\n",
    "\n",
    "            neighbour_idx = begin_idx if begin_idx != atom.GetIdx() else end_idx\n",
    "            num_free_bond_slots[neighbour_idx] += 1\n",
    "\n",
    "            atom_ids_to_remove.append(atom.GetIdx())\n",
    "        else:\n",
    "            atom_ids_to_keep.append(atom.GetIdx())\n",
    "\n",
    "    if not atom_ids_to_remove:\n",
    "        # No explicit attachment points, so assume we can connect anywhere.\n",
    "        num_free_bond_slots = None\n",
    "    else:\n",
    "        num_free_bond_slots = [num_free_bond_slots[idx] for idx in atom_ids_to_keep]\n",
    "        init_mol = Chem.RWMol(init_mol)\n",
    "\n",
    "        # Remove atoms starting from largest index, so that we don't have to account for\n",
    "        # indices shifting during removal.\n",
    "        for atom_idx in reversed(atom_ids_to_remove):\n",
    "            init_mol.RemoveAtom(atom_idx)\n",
    "\n",
    "        # Determine how the scaffold atoms will get reordered when we canonicalize it, so we can\n",
    "        # permute `num_free_bond_slots` appropriately.\n",
    "        canonical_ordering = compute_canonical_atom_order(init_mol)\n",
    "        num_free_bond_slots = [num_free_bond_slots[idx] for idx in canonical_ordering]\n",
    "\n",
    "    # Now canonicalize, which renumbers all the atoms, but we've applied the same\n",
    "    # renumbering to `num_free_bond_slots` earlier.\n",
    "    init_mol = Chem.MolFromSmiles(Chem.MolToSmiles(init_mol))\n",
    "\n",
    "    # Clear aromatic flags in the scaffold, since partial graphs during training never have\n",
    "    # them set (however we _do_ run `AtomIsAromaticFeatureExtractor`, it just always returns\n",
    "    # 0 for partial graphs during training).\n",
    "    # TODO(kmaziarz): Consider fixing this.\n",
    "    Chem.Kekulize(init_mol, clearAromaticFlags=True)\n",
    "\n",
    "    init_atom_types = []\n",
    "    # TODO(kmaziarz): We need to be more careful in how the initial molecule looks like, to\n",
    "    # make sure that `init_mol`s have correct atom features (e.g. charges).\n",
    "    for atom in init_mol.GetAtoms():\n",
    "        init_atom_types.append(get_atom_symbol(atom))\n",
    "    adjacency_lists = [[] for _ in range(len(BOND_DICT))]\n",
    "    for bond in init_mol.GetBonds():\n",
    "        bond_type_idx = BOND_DICT[str(bond.GetBondType())]\n",
    "        adjacency_lists[bond_type_idx].append(\n",
    "            (bond.GetBeginAtomIdx(), bond.GetEndAtomIdx())\n",
    "        )\n",
    "        adjacency_lists[bond_type_idx].append(\n",
    "            (bond.GetEndAtomIdx(), bond.GetBeginAtomIdx())\n",
    "        )\n",
    "\n",
    "    if uses_motifs:\n",
    "        init_mol_motifs = find_motifs_from_vocabulary(\n",
    "            molecule=init_mol, motif_vocabulary=dataset._motif_vocabulary\n",
    "        )\n",
    "    else:\n",
    "        init_mol_motifs = []\n",
    "\n",
    "    decoder_states.append(\n",
    "        MoLeRDecoderState(\n",
    "            molecule_representation=graph_repr,\n",
    "            molecule_id=mol_id,\n",
    "            molecule=init_mol,\n",
    "            atom_types=init_atom_types,\n",
    "            adjacency_lists=adjacency_lists,\n",
    "            visited_atoms=[atom.GetIdx() for atom in init_mol.GetAtoms()],\n",
    "            atoms_to_visit=[],\n",
    "            focus_atom=None,\n",
    "            # Pseudo-randomly pick last atom from input:\n",
    "            prior_focus_atom=len(init_atom_types) - 1,\n",
    "            generation_steps=[] if store_generation_traces else None,\n",
    "            motifs=init_mol_motifs,\n",
    "            num_free_bond_slots=num_free_bond_slots,\n",
    "        )\n",
    "    )\n",
    "\n",
    "decoder_states_empty = []\n",
    "decoder_states_non_empty = []\n",
    "\n",
    "for decoder_state in decoder_states:\n",
    "    if decoder_state.molecule.GetNumAtoms() == 0:\n",
    "        decoder_states_empty.append(decoder_state)\n",
    "    else:\n",
    "        decoder_states_non_empty.append(decoder_state)\n"
   ]
  },
  {
   "cell_type": "markdown",
   "id": "7cc99555",
   "metadata": {},
   "source": [
    "# _decoder_pick_first_atom_types\n"
   ]
  },
  {
   "cell_type": "code",
   "execution_count": 188,
   "id": "e84e4348",
   "metadata": {},
   "outputs": [],
   "source": [
    "from decoding_utils import sample_indices_from_logprobs\n",
    "import numpy as np\n",
    "\n",
    "\n",
    "num_samples = 1\n",
    "decoder_states = decoder_states_empty\n",
    "sampling_mode =  'greedy'\n",
    "index_to_node_type_map=dataset.node_type_index_to_string\n",
    "\n",
    "with torch.no_grad():\n",
    "    # We only need the molecule representations.\n",
    "    molecule_representations = torch.stack(\n",
    "        [state.molecule_representation for state in decoder_states]\n",
    "    )\n",
    "\n",
    "    first_node_type_logits = model.decoder.pick_first_node_type(\n",
    "        latent_representations=latent_representations\n",
    "    )  # Shape [G, NT + 1]\n",
    "\n",
    "    first_atom_type_logprobs = torch.nn.functional.log_softmax(\n",
    "        first_node_type_logits[:, 1:], dim=-1 # because index 0 corresponds to UNK\n",
    "    )  # Shape [G, NT]\n",
    "\n",
    "    first_atom_type_pick_results = []\n",
    "\n",
    "\n",
    "    # Iterate over each of the rows independently, sampling for each input state:\n",
    "    for state_first_atom_type_logprobs in first_atom_type_logprobs:\n",
    "        picked_atom_type_indices = sample_indices_from_logprobs(\n",
    "            num_samples, sampling_mode, state_first_atom_type_logprobs\n",
    "        )\n",
    "\n",
    "        this_state_results = []\n",
    "\n",
    "        for picked_atom_type_idx in picked_atom_type_indices:\n",
    "            pick_logprob = state_first_atom_type_logprobs[picked_atom_type_idx]\n",
    "            picked_atom_type_idx += 1  # Revert the stripping out of the UNK (index 0) type\n",
    "\n",
    "            this_state_results.append(\n",
    "                (index_to_node_type_map[picked_atom_type_idx.item()], pick_logprob)\n",
    "            )\n",
    "\n",
    "        first_atom_type_pick_results.append(\n",
    "            (this_state_results, state_first_atom_type_logprobs)\n",
    "        )\n"
   ]
  },
  {
   "cell_type": "code",
   "execution_count": 189,
   "id": "63dc3113",
   "metadata": {},
   "outputs": [],
   "source": [
    "# # def view_mol(,)\n",
    "# from rdkit.Chem import Draw\n",
    "# Draw.MolsToGridImage([Chem.MolFromSmiles(first_atom_type_pick_results[i][0][0][0]) for i in range(len(first_atom_type_pick_results))], subImgSize=(250,250))\n",
    "# Chem.MolFromSmiles(), Chem.MolFromSmiles(first_atom_type_pick_results[1][0][0][0])"
   ]
  },
  {
   "cell_type": "code",
   "execution_count": 190,
   "id": "ffd63e2a",
   "metadata": {},
   "outputs": [],
   "source": [
    "first_node_pick_results = first_atom_type_pick_results"
   ]
  },
  {
   "cell_type": "code",
   "execution_count": 191,
   "id": "2c5be96d",
   "metadata": {},
   "outputs": [],
   "source": [
    "# set(atom_type_featuriser.index_to_atom_type_map.values())\n",
    "\n",
    "_atom_types = set(dataset._atom_type_featuriser.index_to_atom_type_map.values())"
   ]
  },
  {
   "cell_type": "code",
   "execution_count": 192,
   "id": "c3d344ab",
   "metadata": {},
   "outputs": [],
   "source": [
    "def _is_atom_type( node_type):\n",
    "    if not uses_motifs:\n",
    "        return True\n",
    "    else:\n",
    "        return node_type in _atom_types\n",
    "    \n",
    "def _add_atom_or_motif(\n",
    "    decoder_state,\n",
    "    node_type,\n",
    "    logprob,\n",
    "    choice_info,\n",
    "):\n",
    "    # If we are running with motifs, we need to check whether `node_type` is an atom or a motif.\n",
    "    if _is_atom_type(node_type):\n",
    "        # print(I {decoder_state.molecule_id} {decoder_state.logprob:12f}: Adding new atom {node_type} - p={logprob:5f}\")\n",
    "        return (\n",
    "            MoLeRDecoderState.new_with_added_atom(\n",
    "                decoder_state,\n",
    "                node_type,\n",
    "                atom_logprob=logprob,\n",
    "                atom_choice_info=choice_info,\n",
    "            ),\n",
    "            False,\n",
    "        )\n",
    "    else:\n",
    "        # print(I {decoder_state.molecule_id} {decoder_state.logprob:12f}: Adding motif {node_type} - p={logprob:5f}\")\n",
    "        return (\n",
    "            MoLeRDecoderState.new_with_added_motif(\n",
    "                decoder_state,\n",
    "                node_type,\n",
    "                motif_logprob=logprob,\n",
    "                atom_choice_info=choice_info,\n",
    "            ),\n",
    "            True,\n",
    "        )"
   ]
  },
  {
   "cell_type": "code",
   "execution_count": 193,
   "id": "6ffa7cf1",
   "metadata": {},
   "outputs": [],
   "source": [
    "\n",
    "decoder_states = decoder_states_non_empty\n",
    "\n",
    "for decoder_state, (first_node_type_picks, first_node_type_logprobs) in zip(\n",
    "    decoder_states_empty, first_node_pick_results\n",
    "):\n",
    "    for first_node_type_pick, first_node_type_logprob in first_node_type_picks:\n",
    "        # Set up generation trace storing variables, populating if needed.\n",
    "        atom_choice_info = None\n",
    "        if store_generation_traces:\n",
    "            atom_choice_info = MoleculeGenerationAtomChoiceInfo(\n",
    "                node_idx=0,\n",
    "                true_type_idx=None,\n",
    "                type_idx_to_prob=np.exp(first_node_type_logprobs),\n",
    "            )\n",
    "\n",
    "        new_decoder_state, added_motif = _add_atom_or_motif(\n",
    "            decoder_state,\n",
    "            first_node_type_pick,\n",
    "            logprob=first_node_type_logprob,\n",
    "            choice_info=atom_choice_info,\n",
    "        )\n",
    "\n",
    "        last_atom_id = new_decoder_state.molecule.GetNumAtoms() - 1\n",
    "\n",
    "        if added_motif:\n",
    "            # To make all asserts happy, pretend we chose an attachment point.\n",
    "            new_decoder_state._focus_atom = last_atom_id\n",
    "\n",
    "        # Mark all initial nodes as visited.\n",
    "        new_decoder_state = MoLeRDecoderState.new_with_focus_marked_as_visited(\n",
    "            old_state=new_decoder_state, focus_node_finished_logprob=0.0\n",
    "        )\n",
    "\n",
    "        # Set the prior focus atom similarly to the start-from-scaffold case.\n",
    "        new_decoder_state._prior_focus_atom = last_atom_id\n",
    "\n",
    "        decoder_states.append(new_decoder_state)"
   ]
  },
  {
   "cell_type": "code",
   "execution_count": 153,
   "id": "c097c08a",
   "metadata": {},
   "outputs": [
    {
     "data": {
      "image/png": "[encoded data removed]",
      "text/plain": [
       "<rdkit.Chem.rdchem.RWMol at 0x7f9f74269450>"
      ]
     },
     "execution_count": 153,
     "metadata": {},
     "output_type": "execute_result"
    }
   ],
   "source": [
    "decoder_states[0].molecule"
   ]
  },
  {
   "cell_type": "code",
   "execution_count": 68,
   "id": "e191d853",
   "metadata": {},
   "outputs": [
    {
     "data": {
      "image/png": "[encoded data removed]",
      "text/plain": [
       "<IPython.core.display.Image object>"
      ]
     },
     "execution_count": 68,
     "metadata": {},
     "output_type": "execute_result"
    }
   ],
   "source": [
    "\n",
    "\n",
    "Draw.MolsToGridImage([decoder_states[i].molecule for i in range(len(decoder_states))], subImgSize=(250,250))\n"
   ]
  },
  {
   "cell_type": "code",
   "execution_count": 194,
   "id": "ae8b1724",
   "metadata": {},
   "outputs": [],
   "source": [
    "from torch_geometric.data import Batch\n",
    "\n",
    "batch = Batch.from_data_list([dataset[0], dataset[1]], follow_batch = [\n",
    "    'correct_edge_choices',\n",
    "    'correct_edge_types',\n",
    "    'valid_edge_choices',\n",
    "    'valid_attachment_point_choices',\n",
    "    'correct_attachment_point_choice',\n",
    "    'correct_node_type_choices',\n",
    "    'original_graph_x',\n",
    "    'correct_first_node_type_choices'\n",
    "])"
   ]
  },
  {
   "cell_type": "code",
   "execution_count": 195,
   "id": "10e877d6",
   "metadata": {},
   "outputs": [],
   "source": [
    "\n",
    "atom_featurisers =dataset._metadata['feature_extractors']\n",
    "motif_vocabulary=dataset._motif_vocabulary\n",
    "\n",
    "\n",
    "for decoder_state in decoder_states:\n",
    "    node_features, node_categorical_features = decoder_state.get_node_features(\n",
    "        atom_featurisers, motif_vocabulary\n",
    "    )\n",
    "    mol_num_nodes = node_features.shape[0]"
   ]
  },
  {
   "cell_type": "code",
   "execution_count": 25,
   "id": "26da3a33",
   "metadata": {},
   "outputs": [
    {
     "data": {
      "text/plain": [
       "4"
      ]
     },
     "execution_count": 25,
     "metadata": {},
     "output_type": "execute_result"
    }
   ],
   "source": [
    "decoder_states[0].prior_focus_atom"
   ]
  },
  {
   "cell_type": "code",
   "execution_count": 178,
   "id": "564939f4",
   "metadata": {},
   "outputs": [],
   "source": [
    "def _to_tensor_moler(decoder_state_features, ignore = []):\n",
    "    for k, v in decoder_state_features.items():\n",
    "        if k in ignore:\n",
    "            continue\n",
    "        decoder_state_features[k] = torch.tensor(decoder_state_features[k])\n",
    "    return decoder_state_features\n",
    "\n",
    "\n",
    "\n",
    "\n",
    "        \n",
    "\n",
    "    \n",
    "def batch_decoder_states(\n",
    "    batch_size,\n",
    "    atom_featurisers, #=dataset._metadata['feature_extractors'] ,\n",
    "    motif_vocabulary,#=dataset._motif_vocabulary , \n",
    "    uses_categorical_features, #= True,\n",
    "    decoder_states,#=decoder_states,\n",
    "#     init_batch_callback=init_atom_choice_batch,\n",
    "    add_state_to_batch_callback,\n",
    "):\n",
    "    current_batch = []\n",
    "    for decoder_state in decoder_states:\n",
    "        node_features, node_categorical_features = decoder_state.get_node_features(\n",
    "            atom_featurisers, motif_vocabulary\n",
    "        )\n",
    "        mol_num_nodes = node_features.shape[0]\n",
    "        \n",
    "        decoder_state_features = {\n",
    "            'latent_representation':decoder_state.molecule_representation, \n",
    "            'x': node_features,\n",
    "            'node_categorical_features': node_categorical_features,\n",
    "        }\n",
    "        \n",
    "        edge_indexes = []\n",
    "        edge_types = []\n",
    "        for edge_type_idx, adj_list in enumerate(decoder_state.adjacency_lists):\n",
    "            if len(adj_list) > 0:\n",
    "                edge_index = np.array(adj_list, dtype=np.int32).T\n",
    "                edge_indexes += [edge_index]\n",
    "                \"\"\" \n",
    "                edge types: \n",
    "                single bond => 0\n",
    "                double bond => 1\n",
    "                triple bond => 2\n",
    "                self loop => 3\n",
    "                \"\"\"\n",
    "                edge_types += [edge_type_idx] * len(adj_list)\n",
    "#         print(edge_indexes)\n",
    "        decoder_state_features[\"edge_index\"] = (\n",
    "            np.concatenate(edge_indexes, 1)\n",
    "            if len(edge_indexes) > 0\n",
    "            else np.array(edge_indexes)\n",
    "        )\n",
    "        decoder_state_features[\"edge_type\"] = np.array(edge_types)\n",
    "        \n",
    "        decoder_state_features = add_state_to_batch_callback(decoder_state_features, decoder_state)\n",
    "        \n",
    "        decoder_state_features = _to_tensor_moler(decoder_state_features, ignore = ['latent_representation'])\n",
    "#         print(decoder_state_features)\n",
    "        current_batch += [(MolerData(**decoder_state_features), decoder_state)]\n",
    "        if len(current_batch) == batch_size:\n",
    "            tmp = current_batch\n",
    "            current_batch = []\n",
    "            yield (Batch.from_data_list([i[0] for i in tmp], follow_batch = [\n",
    "                'correct_edge_choices',\n",
    "                'correct_edge_types',\n",
    "                'valid_edge_choices',\n",
    "                'valid_attachment_point_choices',\n",
    "                'correct_attachment_point_choice',\n",
    "                'correct_node_type_choices',\n",
    "                'original_graph_x',\n",
    "                'correct_first_node_type_choices',\n",
    "                # pick attachment points\n",
    "                'candidate_attachment_points',\n",
    "                # pick edge\n",
    "                'candidate_edge_targets'\n",
    "            ]), [i[1] for i in tmp])\n",
    "    if len(current_batch) > 0:\n",
    "        yield (Batch.from_data_list([i[0] for i in current_batch], follow_batch = [\n",
    "            'correct_edge_choices',\n",
    "            'correct_edge_types',\n",
    "            'valid_edge_choices',\n",
    "            'valid_attachment_point_choices',\n",
    "            'correct_attachment_point_choice',\n",
    "            'correct_node_type_choices',\n",
    "            'original_graph_x',\n",
    "            'correct_first_node_type_choices',\n",
    "            # pick attachment points\n",
    "            'candidate_attachment_points',\n",
    "            # pick edge\n",
    "            'candidate_edge_targets'\n",
    "        ]), [i[1] for i in current_batch])\n",
    "        \n"
   ]
  },
  {
   "cell_type": "code",
   "execution_count": 36,
   "id": "563c83a7",
   "metadata": {},
   "outputs": [],
   "source": [
    "# initial_focus_atom_idx = batch[0].candidate_attachment_points_ptr[:-1]"
   ]
  },
  {
   "cell_type": "code",
   "execution_count": 37,
   "id": "7db862ee",
   "metadata": {},
   "outputs": [
    {
     "data": {
      "text/plain": [
       "tensor([ 0,  1,  2,  3,  4,  5,  6,  7,  8,  9, 10, 11, 12, 13, 14, 15])"
      ]
     },
     "execution_count": 37,
     "metadata": {},
     "output_type": "execute_result"
    }
   ],
   "source": [
    "# batch[0].candidate_attachment_points_batch[initial_focus_atom_idx]"
   ]
  },
  {
   "cell_type": "code",
   "execution_count": 38,
   "id": "3076be91",
   "metadata": {},
   "outputs": [],
   "source": [
    "# initial_focus_atoms = batch[0].candidate_attachment_points[initial_focus_atom_idx]"
   ]
  },
  {
   "cell_type": "code",
   "execution_count": 39,
   "id": "0b858918",
   "metadata": {},
   "outputs": [
    {
     "ename": "IndexError",
     "evalue": "invalid index of a 0-dim tensor. Use `tensor.item()` in Python or `tensor.item<T>()` in C++ to convert a 0-dim tensor to a number",
     "output_type": "error",
     "traceback": [
      "\u001b[0;31m---------------------------------------------------------------------------\u001b[0m",
      "\u001b[0;31mIndexError\u001b[0m                                Traceback (most recent call last)",
      "Cell \u001b[0;32mIn [39], line 2\u001b[0m\n\u001b[1;32m      1\u001b[0m focus_atoms \u001b[38;5;241m=\u001b[39m np\u001b[38;5;241m.\u001b[39marray(\n\u001b[0;32m----> 2\u001b[0m     [attachment_points[\u001b[38;5;241m0\u001b[39m] \u001b[38;5;28;01mfor\u001b[39;00m attachment_points \u001b[38;5;129;01min\u001b[39;00m batch[\u001b[38;5;241m0\u001b[39m]\u001b[38;5;241m.\u001b[39mcandidate_attachment_points]\n\u001b[1;32m      3\u001b[0m )\n",
      "Cell \u001b[0;32mIn [39], line 2\u001b[0m, in \u001b[0;36m<listcomp>\u001b[0;34m(.0)\u001b[0m\n\u001b[1;32m      1\u001b[0m focus_atoms \u001b[38;5;241m=\u001b[39m np\u001b[38;5;241m.\u001b[39marray(\n\u001b[0;32m----> 2\u001b[0m     [\u001b[43mattachment_points\u001b[49m\u001b[43m[\u001b[49m\u001b[38;5;241;43m0\u001b[39;49m\u001b[43m]\u001b[49m \u001b[38;5;28;01mfor\u001b[39;00m attachment_points \u001b[38;5;129;01min\u001b[39;00m batch[\u001b[38;5;241m0\u001b[39m]\u001b[38;5;241m.\u001b[39mcandidate_attachment_points]\n\u001b[1;32m      3\u001b[0m )\n",
      "\u001b[0;31mIndexError\u001b[0m: invalid index of a 0-dim tensor. Use `tensor.item()` in Python or `tensor.item<T>()` in C++ to convert a 0-dim tensor to a number"
     ]
    }
   ],
   "source": [
    "# focus_atoms = np.array(\n",
    "#     [attachment_points[0] for attachment_points in batch[0].candidate_attachment_points]\n",
    "# )"
   ]
  },
  {
   "cell_type": "markdown",
   "id": "886f5a4c",
   "metadata": {},
   "source": [
    "# Design\n",
    "\n",
    "Instead of the decoder housing all these functions, the lightning module will house it instead. All the functions required for actually decoding the latent vector into a molecule will be in the lightning module because further down the road, when we use diffusion, this additional function has to be accessible outside of the decoder since it is agnostic of the decoder\n",
    "\n",
    "# TODO\n",
    "\n",
    "separate out the processing related to picking edges, picking nodes and picking attachment points into different call back functions to reduce time taken for batching"
   ]
  },
  {
   "cell_type": "code",
   "execution_count": 196,
   "id": "a7ebe8fd",
   "metadata": {},
   "outputs": [],
   "source": [
    "def _pick_attachment_points_for_batch(\n",
    "    batch,\n",
    "    decoder_states,\n",
    "    num_samples=1,\n",
    "    sampling_mode='greedy',\n",
    "):\n",
    "    \n",
    "    initial_focus_atom_idx = batch.candidate_attachment_points_ptr[:-1]\n",
    "    \n",
    "    initial_focus_atoms = batch.candidate_attachment_points[initial_focus_atom_idx]\n",
    "    \n",
    "    candidate_attachment_points = batch.candidate_attachment_points\n",
    "    \n",
    "    graph_representations, node_representations = model._partial_graph_encoder(\n",
    "        node_features=batch.x,\n",
    "        partial_graph_node_categorical_features=batch.node_categorical_features,\n",
    "        edge_index=batch.edge_index,\n",
    "        edge_type = batch.edge_type, \n",
    "        # Here we choose an arbitrary attachment point as a focus atom; this does not matter\n",
    "        # since later all candidate attachment points are marked with the in-focus bit.\n",
    "        graph_to_focus_node_map=initial_focus_atoms,\n",
    "        candidate_attachment_points=candidate_attachment_points,\n",
    "        batch_index = batch.batch\n",
    "    )\n",
    "\n",
    "    attachment_point_selection_logits = model.decoder.pick_attachment_point(\n",
    "        input_molecule_representations=batch.latent_representation,\n",
    "        partial_graph_representations=graph_representations,\n",
    "        node_representations=node_representations,\n",
    "        node_to_graph_map=batch.batch,\n",
    "        candidate_attachment_points=candidate_attachment_points,\n",
    "\n",
    "    )  # Shape: [CA]\n",
    "\n",
    "    attachment_point_to_graph_map = batch.batch[candidate_attachment_points]\n",
    "\n",
    "    # TODO(krmaziar): Consider tensorizing the code below. For that, we need some equivalent of\n",
    "    # `unsorted_segment_argmax`.\n",
    "    logits_by_graph = [[] for _ in range(len(decoder_states))]\n",
    "\n",
    "    for logit, graph_id in zip(\n",
    "        attachment_point_selection_logits, attachment_point_to_graph_map\n",
    "    ):\n",
    "        logits_by_graph[graph_id].append(logit)\n",
    "    attachment_point_pick_results  = []\n",
    "    for old_decoder_state, attachment_point_logits in zip(decoder_states, logits_by_graph):\n",
    "        \n",
    "        attachment_point_logprobs = torch.nn.functional.log_softmax(torch.tensor(attachment_point_logits), dim = 0).numpy()\n",
    "        picked_att_point_indices = sample_indices_from_logprobs(\n",
    "            num_samples, sampling_mode, attachment_point_logprobs\n",
    "        )\n",
    "\n",
    "        this_state_results = []\n",
    "        for attachment_point_pick_idx in picked_att_point_indices:\n",
    "            attachment_point_pick = old_decoder_state.candidate_attachment_points[\n",
    "                attachment_point_pick_idx\n",
    "            ]\n",
    "            attachment_point_logprob = attachment_point_logprobs[attachment_point_pick_idx]\n",
    "\n",
    "            this_state_results.append((attachment_point_pick, attachment_point_logprob))\n",
    "        attachment_point_pick_results.append(this_state_results)\n",
    "\n",
    "    return attachment_point_pick_results, logits_by_graph"
   ]
  },
  {
   "cell_type": "code",
   "execution_count": 197,
   "id": "e67fbb72",
   "metadata": {},
   "outputs": [
    {
     "ename": "AttributeError",
     "evalue": "'GlobalStorage' object has no attribute 'candidate_attachment_points_ptr'",
     "output_type": "error",
     "traceback": [
      "\u001b[0;31m---------------------------------------------------------------------------\u001b[0m",
      "\u001b[0;31mKeyError\u001b[0m                                  Traceback (most recent call last)",
      "File \u001b[0;32m/data/ongh0068/anaconda3/envs/l1000/lib/python3.9/site-packages/torch_geometric/data/storage.py:62\u001b[0m, in \u001b[0;36mBaseStorage.__getattr__\u001b[0;34m(self, key)\u001b[0m\n\u001b[1;32m     61\u001b[0m \u001b[38;5;28;01mtry\u001b[39;00m:\n\u001b[0;32m---> 62\u001b[0m     \u001b[38;5;28;01mreturn\u001b[39;00m \u001b[38;5;28;43mself\u001b[39;49m\u001b[43m[\u001b[49m\u001b[43mkey\u001b[49m\u001b[43m]\u001b[49m\n\u001b[1;32m     63\u001b[0m \u001b[38;5;28;01mexcept\u001b[39;00m \u001b[38;5;167;01mKeyError\u001b[39;00m:\n",
      "File \u001b[0;32m/data/ongh0068/anaconda3/envs/l1000/lib/python3.9/site-packages/torch_geometric/data/storage.py:85\u001b[0m, in \u001b[0;36mBaseStorage.__getitem__\u001b[0;34m(self, key)\u001b[0m\n\u001b[1;32m     84\u001b[0m \u001b[38;5;28;01mdef\u001b[39;00m \u001b[38;5;21m__getitem__\u001b[39m(\u001b[38;5;28mself\u001b[39m, key: \u001b[38;5;28mstr\u001b[39m) \u001b[38;5;241m-\u001b[39m\u001b[38;5;241m>\u001b[39m Any:\n\u001b[0;32m---> 85\u001b[0m     \u001b[38;5;28;01mreturn\u001b[39;00m \u001b[38;5;28;43mself\u001b[39;49m\u001b[38;5;241;43m.\u001b[39;49m\u001b[43m_mapping\u001b[49m\u001b[43m[\u001b[49m\u001b[43mkey\u001b[49m\u001b[43m]\u001b[49m\n",
      "\u001b[0;31mKeyError\u001b[0m: 'candidate_attachment_points_ptr'",
      "\nDuring handling of the above exception, another exception occurred:\n",
      "\u001b[0;31mAttributeError\u001b[0m                            Traceback (most recent call last)",
      "Cell \u001b[0;32mIn [197], line 2\u001b[0m\n\u001b[1;32m      1\u001b[0m \u001b[38;5;28;01mwith\u001b[39;00m torch\u001b[38;5;241m.\u001b[39mno_grad():\n\u001b[0;32m----> 2\u001b[0m     results \u001b[38;5;241m=\u001b[39m \u001b[43m_pick_attachment_points_for_batch\u001b[49m\u001b[43m(\u001b[49m\n\u001b[1;32m      3\u001b[0m \u001b[43m        \u001b[49m\u001b[43mbatch\u001b[49m\u001b[43m \u001b[49m\u001b[38;5;241;43m=\u001b[39;49m\u001b[43m \u001b[49m\u001b[43mbatch\u001b[49m\u001b[43m[\u001b[49m\u001b[38;5;241;43m0\u001b[39;49m\u001b[43m]\u001b[49m\u001b[43m,\u001b[49m\n\u001b[1;32m      4\u001b[0m \u001b[43m        \u001b[49m\u001b[43mdecoder_states\u001b[49m\u001b[43m \u001b[49m\u001b[38;5;241;43m=\u001b[39;49m\u001b[43m \u001b[49m\u001b[43mbatch\u001b[49m\u001b[43m[\u001b[49m\u001b[38;5;241;43m1\u001b[39;49m\u001b[43m]\u001b[49m\u001b[43m,\u001b[49m\n\u001b[1;32m      5\u001b[0m \u001b[43m    \u001b[49m\u001b[43m)\u001b[49m\n\u001b[1;32m      6\u001b[0m \u001b[38;5;28mprint\u001b[39m(results[\u001b[38;5;241m0\u001b[39m])\n",
      "Cell \u001b[0;32mIn [196], line 8\u001b[0m, in \u001b[0;36m_pick_attachment_points_for_batch\u001b[0;34m(batch, decoder_states, num_samples, sampling_mode)\u001b[0m\n\u001b[1;32m      1\u001b[0m \u001b[38;5;28;01mdef\u001b[39;00m \u001b[38;5;21m_pick_attachment_points_for_batch\u001b[39m(\n\u001b[1;32m      2\u001b[0m     batch,\n\u001b[1;32m      3\u001b[0m     decoder_states,\n\u001b[1;32m      4\u001b[0m     num_samples\u001b[38;5;241m=\u001b[39m\u001b[38;5;241m1\u001b[39m,\n\u001b[1;32m      5\u001b[0m     sampling_mode\u001b[38;5;241m=\u001b[39m\u001b[38;5;124m'\u001b[39m\u001b[38;5;124mgreedy\u001b[39m\u001b[38;5;124m'\u001b[39m,\n\u001b[1;32m      6\u001b[0m ):\n\u001b[0;32m----> 8\u001b[0m     initial_focus_atom_idx \u001b[38;5;241m=\u001b[39m \u001b[43mbatch\u001b[49m\u001b[38;5;241;43m.\u001b[39;49m\u001b[43mcandidate_attachment_points_ptr\u001b[49m[:\u001b[38;5;241m-\u001b[39m\u001b[38;5;241m1\u001b[39m]\n\u001b[1;32m     10\u001b[0m     initial_focus_atoms \u001b[38;5;241m=\u001b[39m batch\u001b[38;5;241m.\u001b[39mcandidate_attachment_points[initial_focus_atom_idx]\n\u001b[1;32m     12\u001b[0m     candidate_attachment_points \u001b[38;5;241m=\u001b[39m batch\u001b[38;5;241m.\u001b[39mcandidate_attachment_points\n",
      "File \u001b[0;32m/data/ongh0068/anaconda3/envs/l1000/lib/python3.9/site-packages/torch_geometric/data/data.py:428\u001b[0m, in \u001b[0;36mData.__getattr__\u001b[0;34m(self, key)\u001b[0m\n\u001b[1;32m    422\u001b[0m \u001b[38;5;28;01mif\u001b[39;00m \u001b[38;5;124m'\u001b[39m\u001b[38;5;124m_store\u001b[39m\u001b[38;5;124m'\u001b[39m \u001b[38;5;129;01mnot\u001b[39;00m \u001b[38;5;129;01min\u001b[39;00m \u001b[38;5;28mself\u001b[39m\u001b[38;5;241m.\u001b[39m\u001b[38;5;18m__dict__\u001b[39m:\n\u001b[1;32m    423\u001b[0m     \u001b[38;5;28;01mraise\u001b[39;00m \u001b[38;5;167;01mRuntimeError\u001b[39;00m(\n\u001b[1;32m    424\u001b[0m         \u001b[38;5;124m\"\u001b[39m\u001b[38;5;124mThe \u001b[39m\u001b[38;5;124m'\u001b[39m\u001b[38;5;124mdata\u001b[39m\u001b[38;5;124m'\u001b[39m\u001b[38;5;124m object was created by an older version of PyG. \u001b[39m\u001b[38;5;124m\"\u001b[39m\n\u001b[1;32m    425\u001b[0m         \u001b[38;5;124m\"\u001b[39m\u001b[38;5;124mIf this error occurred while loading an already existing \u001b[39m\u001b[38;5;124m\"\u001b[39m\n\u001b[1;32m    426\u001b[0m         \u001b[38;5;124m\"\u001b[39m\u001b[38;5;124mdataset, remove the \u001b[39m\u001b[38;5;124m'\u001b[39m\u001b[38;5;124mprocessed/\u001b[39m\u001b[38;5;124m'\u001b[39m\u001b[38;5;124m directory in the dataset\u001b[39m\u001b[38;5;124m'\u001b[39m\u001b[38;5;124ms \u001b[39m\u001b[38;5;124m\"\u001b[39m\n\u001b[1;32m    427\u001b[0m         \u001b[38;5;124m\"\u001b[39m\u001b[38;5;124mroot folder and try again.\u001b[39m\u001b[38;5;124m\"\u001b[39m)\n\u001b[0;32m--> 428\u001b[0m \u001b[38;5;28;01mreturn\u001b[39;00m \u001b[38;5;28;43mgetattr\u001b[39;49m\u001b[43m(\u001b[49m\u001b[38;5;28;43mself\u001b[39;49m\u001b[38;5;241;43m.\u001b[39;49m\u001b[43m_store\u001b[49m\u001b[43m,\u001b[49m\u001b[43m \u001b[49m\u001b[43mkey\u001b[49m\u001b[43m)\u001b[49m\n",
      "File \u001b[0;32m/data/ongh0068/anaconda3/envs/l1000/lib/python3.9/site-packages/torch_geometric/data/storage.py:64\u001b[0m, in \u001b[0;36mBaseStorage.__getattr__\u001b[0;34m(self, key)\u001b[0m\n\u001b[1;32m     62\u001b[0m     \u001b[38;5;28;01mreturn\u001b[39;00m \u001b[38;5;28mself\u001b[39m[key]\n\u001b[1;32m     63\u001b[0m \u001b[38;5;28;01mexcept\u001b[39;00m \u001b[38;5;167;01mKeyError\u001b[39;00m:\n\u001b[0;32m---> 64\u001b[0m     \u001b[38;5;28;01mraise\u001b[39;00m \u001b[38;5;167;01mAttributeError\u001b[39;00m(\n\u001b[1;32m     65\u001b[0m         \u001b[38;5;124mf\u001b[39m\u001b[38;5;124m\"\u001b[39m\u001b[38;5;124m'\u001b[39m\u001b[38;5;132;01m{\u001b[39;00m\u001b[38;5;28mself\u001b[39m\u001b[38;5;241m.\u001b[39m\u001b[38;5;18m__class__\u001b[39m\u001b[38;5;241m.\u001b[39m\u001b[38;5;18m__name__\u001b[39m\u001b[38;5;132;01m}\u001b[39;00m\u001b[38;5;124m'\u001b[39m\u001b[38;5;124m object has no attribute \u001b[39m\u001b[38;5;124m'\u001b[39m\u001b[38;5;132;01m{\u001b[39;00mkey\u001b[38;5;132;01m}\u001b[39;00m\u001b[38;5;124m'\u001b[39m\u001b[38;5;124m\"\u001b[39m)\n",
      "\u001b[0;31mAttributeError\u001b[0m: 'GlobalStorage' object has no attribute 'candidate_attachment_points_ptr'"
     ]
    }
   ],
   "source": [
    "with torch.no_grad():\n",
    "    results = _pick_attachment_points_for_batch(\n",
    "        batch = batch[0],\n",
    "        decoder_states = batch[1],\n",
    "    )\n",
    "print(results[0])"
   ]
  },
  {
   "cell_type": "code",
   "execution_count": 198,
   "id": "60ce9378",
   "metadata": {},
   "outputs": [],
   "source": [
    "def _decoder_pick_attachment_points(\n",
    "    decoder_states,\n",
    "    sampling_mode = 'greedy',\n",
    "    num_samples = 1\n",
    "):\n",
    "    if len(decoder_states) == 0:\n",
    "        return [], np.zeros(shape=(0,))\n",
    "    \n",
    "    def add_state_to_attachment_point_choice_batch(decoder_state_features, decoder_state):\n",
    "        decoder_state_features['candidate_attachment_points'] = decoder_state.candidate_attachment_points\n",
    "        return decoder_state_features\n",
    "\n",
    "\n",
    "    attachment_point_pick_results = []\n",
    "    logits_by_graph = []\n",
    "\n",
    "    for batch, decoder_states_batch in batch_decoder_states(\n",
    "        decoder_states=decoder_states,\n",
    "        batch_size = 16,\n",
    "        atom_featurisers =dataset._metadata['feature_extractors'] ,\n",
    "        motif_vocabulary=dataset._motif_vocabulary , \n",
    "        uses_categorical_features = True,  \n",
    "        add_state_to_batch_callback = add_state_to_attachment_point_choice_batch\n",
    "    ):\n",
    "\n",
    "        with torch.no_grad():\n",
    "            pick_results_for_batch, logits_for_batch = _pick_attachment_points_for_batch(\n",
    "                batch=batch,\n",
    "                decoder_states=decoder_states_batch,\n",
    "                num_samples=num_samples,\n",
    "                sampling_mode=sampling_mode,\n",
    "            )\n",
    "            attachment_point_pick_results.extend(pick_results_for_batch)\n",
    "            logits_by_graph.extend(logits_for_batch)\n",
    "        \n",
    "    return attachment_point_pick_results, logits_by_graph"
   ]
  },
  {
   "cell_type": "code",
   "execution_count": 199,
   "id": "dfe8df37",
   "metadata": {},
   "outputs": [],
   "source": [
    "# _decoder_pick_attachment_points(decoder_states)"
   ]
  },
  {
   "cell_type": "code",
   "execution_count": 200,
   "id": "1db7daf0",
   "metadata": {},
   "outputs": [],
   "source": [
    "import itertools\n",
    "\n",
    "def _decoder_pick_new_bond_types(\n",
    "    decoder_states,\n",
    "    sampling_mode= 'greedy',\n",
    "    store_generation_traces = False,\n",
    "    num_samples= 1,\n",
    "):\n",
    "    def add_state_to_edge_batch(decoder_state_features, decoder_state):\n",
    "    #     TODO add all these into MolerData to get the right offset.\n",
    "\n",
    "        decoder_state_features[\"focus_atoms\"] = decoder_state.focus_atom\n",
    "        candidate_targets, candidate_bond_type_mask = decoder_state.get_bond_candidate_targets()\n",
    "        num_edge_candidates = len(candidate_targets)\n",
    "        decoder_state_features[\"candidate_edge_targets\"] = candidate_targets\n",
    "        #the following will just be batch.ptr\n",
    "#         decoder_state_features[\"candidate_edge_targets_offset\"] = batch[\"nodes_in_batch\"]\n",
    "        decoder_state_features[\"candidate_edge_type_masks\"] = candidate_bond_type_mask\n",
    "        decoder_state_features[\"candidate_edge_features\"] =  decoder_state.compute_bond_candidate_features(candidate_targets)\n",
    "        decoder_state_features[\"decoder_state_to_num_candidate_edges\"] = num_edge_candidates\n",
    "        return decoder_state_features\n",
    "    \n",
    "    batch_generator = batch_decoder_states(\n",
    "        decoder_states=decoder_states,\n",
    "        batch_size = 16,\n",
    "        atom_featurisers =dataset._metadata['feature_extractors'] ,\n",
    "        motif_vocabulary=dataset._motif_vocabulary , \n",
    "        uses_categorical_features = True,  \n",
    "        add_state_to_batch_callback=add_state_to_edge_batch,\n",
    "    )\n",
    "\n",
    "    picked_edges_generator = (\n",
    "        _pick_edges_for_batch(b, d, num_samples, sampling_mode, store_generation_traces)\n",
    "        for b, d in batch_generator\n",
    "    )\n",
    "    return itertools.chain.from_iterable(picked_edges_generator)"
   ]
  },
  {
   "cell_type": "code",
   "execution_count": 201,
   "id": "ce993abd",
   "metadata": {},
   "outputs": [],
   "source": [
    "BIG_NUMBER = 1e7\n",
    "\n",
    "def _pick_edges_for_batch(\n",
    "    batch,\n",
    "    decoder_states,\n",
    "    num_samples=1,\n",
    "    sampling_mode = 'greedy',\n",
    "    store_generation_traces=False,\n",
    "):\n",
    "    with torch.no_grad():\n",
    "        graph_representations, node_representations = model._partial_graph_encoder(\n",
    "            node_features=batch.x,\n",
    "            partial_graph_node_categorical_features=batch.node_categorical_features,\n",
    "            edge_index=batch.edge_index,\n",
    "            edge_type = batch.edge_type, \n",
    "            # Here we choose an arbitrary attachment point as a focus atom; this does not matter\n",
    "            # since later all candidate attachment points are marked with the in-focus bit.\n",
    "            graph_to_focus_node_map=batch.focus_atoms,\n",
    "            candidate_attachment_points=torch.zeros(size = (0,)),\n",
    "            batch_index = batch.batch\n",
    "        )\n",
    "\n",
    "        batch_candidate_edge_targets = batch.candidate_edge_targets\n",
    "        batch_candidate_edge_type_masks =batch.candidate_edge_type_masks\n",
    "\n",
    "        edge_candidate_logits, edge_type_logits = model.decoder.pick_edge(\n",
    "            input_molecule_representations=batch.latent_representation,\n",
    "            partial_graph_representations=graph_representations,\n",
    "            node_representations=node_representations,\n",
    "            num_graphs_in_batch=len(batch.ptr) - 1,\n",
    "            focus_node_idx_in_batch=batch.focus_atoms,\n",
    "            node_to_graph_map=batch.batch,\n",
    "            candidate_edge_targets=batch_candidate_edge_targets.long(),\n",
    "            candidate_edge_features=batch.candidate_edge_features.float(),\n",
    "        )\n",
    "\n",
    "        # We now need to unpack the results, which is a bit fiddly because the \"no more edges\"\n",
    "        # logits are bunched together at the end for all input graphs...\n",
    "        num_total_edge_candidates = torch.sum(batch.decoder_state_to_num_candidate_edges)\n",
    "        edge_candidate_offset = 0\n",
    "        picked_edges = []\n",
    "\n",
    "        for state_idx, (decoder_state, decoder_state_num_edge_candidates) in enumerate(\n",
    "            zip(decoder_states, batch.decoder_state_to_num_candidate_edges)\n",
    "        ):\n",
    "            # We had no valid candidates -> Easy out:\n",
    "            if decoder_state_num_edge_candidates == 0:\n",
    "                picked_edges.append(([], None))\n",
    "                continue\n",
    "\n",
    "            # Find the edge targets for this decoder state, in the original node index:\n",
    "            edge_targets = batch_candidate_edge_targets[\n",
    "                edge_candidate_offset : edge_candidate_offset + decoder_state_num_edge_candidates\n",
    "            ]\n",
    "            edge_targets_orig_idx = edge_targets - batch.ptr[state_idx]\n",
    "\n",
    "            # Get logits for edge candidates for this decoder state:\n",
    "            decoder_state_edge_candidate_logits = edge_candidate_logits[\n",
    "                edge_candidate_offset : edge_candidate_offset + decoder_state_num_edge_candidates\n",
    "            ]\n",
    "            decoder_state_no_edge_logit = edge_candidate_logits[\n",
    "                num_total_edge_candidates + state_idx\n",
    "            ]\n",
    "\n",
    "            decoder_state_edge_cand_logprobs = torch.nn.functional.log_softmax(\n",
    "                torch.cat(\n",
    "                    [decoder_state_edge_candidate_logits, torch.tensor([decoder_state_no_edge_logit])], dim=0\n",
    "                )\n",
    "            )\n",
    "\n",
    "            # Before we continue, generate the information for the trace visualisation:\n",
    "            molecule_generation_edge_choice_info = None\n",
    "            if store_generation_traces:\n",
    "                # Set up the edge candidate info\n",
    "                candidate_edge_type_logits = edge_type_logits[\n",
    "                    edge_candidate_offset : edge_candidate_offset\n",
    "                    + decoder_state_num_edge_candidates\n",
    "                ]\n",
    "                candidate_edge_type_mask = batch_candidate_edge_type_masks[\n",
    "                    edge_candidate_offset : edge_candidate_offset\n",
    "                    + decoder_state_num_edge_candidates\n",
    "                ]\n",
    "                masked_candidate_edge_type_logits = candidate_edge_type_logits - BIG_NUMBER * (\n",
    "                    1 - candidate_edge_type_mask\n",
    "                )\n",
    "\n",
    "                # Loop over the edge candidates themselves.\n",
    "                molecule_generation_edge_candidate_info = []\n",
    "                for edge_idx, (target, score, logprob) in enumerate(\n",
    "                    zip(\n",
    "                        edge_targets_orig_idx,\n",
    "                        decoder_state_edge_candidate_logits,\n",
    "                        decoder_state_edge_cand_logprobs,\n",
    "                    )\n",
    "                ):\n",
    "                    molecule_generation_edge_candidate_info.append(\n",
    "                        MoleculeGenerationEdgeCandidateInfo(\n",
    "                            target_node_idx=target,\n",
    "                            score=score,\n",
    "                            logprob=logprob,\n",
    "                            correct=None,\n",
    "                            type_idx_to_logprobs=torch.nn.functional.log_softmax(\n",
    "                                masked_candidate_edge_type_logits[edge_idx, :]\n",
    "                            ),\n",
    "                        )\n",
    "                    )\n",
    "                molecule_generation_edge_choice_info = MoleculeGenerationEdgeChoiceInfo(\n",
    "                    focus_node_idx=decoder_state.focus_atom,\n",
    "                    partial_molecule_adjacency_lists=decoder_state.adjacency_lists,\n",
    "                    candidate_edge_infos=molecule_generation_edge_candidate_info,\n",
    "                    no_edge_score=decoder_state_no_edge_logit,\n",
    "                    no_edge_logprob=decoder_state_edge_cand_logprobs[-1],\n",
    "                    no_edge_correct=None,\n",
    "                )\n",
    "\n",
    "            # Collect (sampling) results for this state:\n",
    "            this_state_results = []\n",
    "            picked_edge_cand_indices = sample_indices_from_logprobs(\n",
    "                num_samples, sampling_mode, decoder_state_edge_cand_logprobs\n",
    "            )\n",
    "            for picked_edge_cand_idx in picked_edge_cand_indices:\n",
    "                picked_cand_logprob = decoder_state_edge_cand_logprobs[picked_edge_cand_idx]\n",
    "                # Handle case of having no edge is better:\n",
    "                if picked_edge_cand_idx == len(decoder_state_edge_cand_logprobs) - 1:\n",
    "                    this_state_results.append((None, picked_cand_logprob))\n",
    "                else:\n",
    "                    # Otherwise, we need to find the target of that edge, in the original\n",
    "                    # (unbatched) node index:\n",
    "                    picked_edge_partner = edge_targets_orig_idx[picked_edge_cand_idx]\n",
    "\n",
    "                    # Next, identify the edge type for this choice:\n",
    "                    edge_type_mask = batch_candidate_edge_type_masks[\n",
    "                        edge_candidate_offset + picked_edge_cand_idx\n",
    "                    ]\n",
    "                    cand_edge_type_logprobs = torch.nn.functional.log_softmax(\n",
    "                        edge_type_logits[edge_candidate_offset + picked_edge_cand_idx]\n",
    "                        - BIG_NUMBER * (1 - edge_type_mask)\n",
    "                    )\n",
    "                    picked_edge_types = sample_indices_from_logprobs(\n",
    "                        num_samples, sampling_mode, cand_edge_type_logprobs\n",
    "                    )\n",
    "                    for picked_edge_type in picked_edge_types:\n",
    "                        picked_edge_logprob = (\n",
    "                            picked_cand_logprob + cand_edge_type_logprobs[picked_edge_type]\n",
    "                        )\n",
    "                        this_state_results.append(\n",
    "                            ((picked_edge_partner, picked_edge_type), picked_edge_logprob)\n",
    "                        )\n",
    "            picked_edges.append((this_state_results, molecule_generation_edge_choice_info))\n",
    "            edge_candidate_offset += decoder_state_num_edge_candidates\n",
    "            return picked_edges"
   ]
  },
  {
   "cell_type": "code",
   "execution_count": 202,
   "id": "9b586cb1",
   "metadata": {},
   "outputs": [],
   "source": [
    "def _decoder_pick_new_atom_types(\n",
    "    decoder_states,\n",
    "    sampling_mode = 'greedy',\n",
    "    num_samples= 1,\n",
    "):\n",
    "    def add_state_to_atom_choice_batch(decoder_state_features, decoder_state):\n",
    "    #     TODO add all these into MolerData to get the right offset.\n",
    "\n",
    "        decoder_state_features[\"prior_focus_atoms\"] = decoder_state.prior_focus_atom\n",
    "        return decoder_state_features\n",
    "    \n",
    "    batch_generator = batch_decoder_states(\n",
    "        decoder_states=decoder_states,\n",
    "        batch_size = 16,\n",
    "        atom_featurisers =dataset._metadata['feature_extractors'] ,\n",
    "        motif_vocabulary=dataset._motif_vocabulary , \n",
    "        uses_categorical_features = True,  \n",
    "        add_state_to_batch_callback=add_state_to_atom_choice_batch,\n",
    "        \n",
    "    )\n",
    "    atom_type_pick_generator = (\n",
    "        _pick_new_atom_types_for_batch(batch, num_samples, sampling_mode)\n",
    "        for batch, _ in batch_generator\n",
    "    )\n",
    "    return itertools.chain.from_iterable(atom_type_pick_generator)"
   ]
  },
  {
   "cell_type": "code",
   "execution_count": 203,
   "id": "e1fe5b18",
   "metadata": {},
   "outputs": [],
   "source": [
    "_num_node_types = dataset.num_node_types\n",
    "_index_to_node_type_map = dataset.node_type_index_to_string\n",
    "\n",
    "def _pick_new_atom_types_for_batch(\n",
    "    batch, num_samples=1, sampling_mode= 'greedy'\n",
    "):\n",
    "    with torch.no_grad():\n",
    "        graph_representations, _ = model.partial_graph_encoder(\n",
    "            partial_graph_node_categorical_features = batch.node_categorical_features,\n",
    "            node_features = batch.x,\n",
    "            edge_index = batch.edge_index.long(), \n",
    "            edge_type = batch.edge_type, \n",
    "            # Note: This whole prior_focus_atom is a bit of a hack. During training, we use the\n",
    "            # same graph for predict-no-more-bonds and predict-next-atom-type. Hence, during\n",
    "            # training, we always have at least one in-focus node per graph, and not\n",
    "            # matching that would be confusing to the model. Hence, we simulate this behaviour:\n",
    "            graph_to_focus_node_map = batch.prior_focus_atoms,\n",
    "            candidate_attachment_points = torch.zeros(size = (0,)),\n",
    "            batch_index = batch.batch\n",
    "        )\n",
    "\n",
    "        node_type_logits = model.decoder.pick_node_type(\n",
    "            input_molecule_representations=batch.latent_representation,\n",
    "            graph_representations=graph_representations,\n",
    "            graphs_requiring_node_choices=torch.arange(0, len(batch.ptr)-1),\n",
    "        )  # Shape [G, NT + 1]\n",
    "\n",
    "        # Remove the first column, corresponding to UNK, which we never want to produce, but add it\n",
    "        # back later so that the type lookup indices work out:\n",
    "        atom_type_logprobs = torch.nn.functional.log_softmax(\n",
    "            node_type_logits[:, 1:], dim=1\n",
    "        ).numpy()  # Shape [G, NT]\n",
    "\n",
    "        atom_type_pick_results = []\n",
    "        # Iterate over each of the rows independently, sampling for each input state:\n",
    "        for state_atom_type_logprobs in atom_type_logprobs:\n",
    "            picked_atom_type_indices = sample_indices_from_logprobs(\n",
    "                num_samples, sampling_mode, state_atom_type_logprobs\n",
    "            )\n",
    "\n",
    "            this_state_results = []\n",
    "            for picked_atom_type_idx in picked_atom_type_indices:\n",
    "                pick_logprob = state_atom_type_logprobs[picked_atom_type_idx]\n",
    "                picked_atom_type_idx += 1  # Revert the stripping out of the UNK (index 0) type\n",
    "                # This is the case in which we picked the \"no further nodes\" virtual node type:\n",
    "                if picked_atom_type_idx >= _num_node_types:\n",
    "                    this_state_results.append((None, pick_logprob))\n",
    "                else:\n",
    "                    picked_atom_type = _index_to_node_type_map[picked_atom_type_idx]\n",
    "                    this_state_results.append((picked_atom_type, pick_logprob))\n",
    "            atom_type_pick_results.append((this_state_results, state_atom_type_logprobs))\n",
    "        return atom_type_pick_results"
   ]
  },
  {
   "cell_type": "code",
   "execution_count": 112,
   "id": "6a5f54dd",
   "metadata": {},
   "outputs": [
    {
     "name": "stdout",
     "output_type": "stream",
     "text": [
      "([('C1=NC=NC2=C1N=CN2', -4.698133)], array([-5.0098433, -5.0232954, -4.947558 , -4.9778523, -4.889869 ,\n",
      "       -4.9997354, -5.0253735, -5.0381517, -4.835106 , -4.8808465,\n",
      "       -4.7184167, -4.8440604, -5.028384 , -5.076453 , -4.9813538,\n",
      "       -4.8272567, -4.925544 , -5.075735 , -4.847486 , -4.9636045,\n",
      "       -4.8708143, -4.9611516, -5.020325 , -4.912443 , -4.9543486,\n",
      "       -4.8459063, -4.9480658, -4.990541 , -4.8302035, -4.8621383,\n",
      "       -4.914049 , -5.038717 , -5.0486026, -4.978801 , -4.7206492,\n",
      "       -4.9858303, -4.85891  , -5.0047903, -4.821471 , -5.097654 ,\n",
      "       -4.8918743, -5.0191765, -4.713749 , -4.8845797, -4.981269 ,\n",
      "       -4.92612  , -4.965098 , -5.0393543, -5.0370483, -5.0339947,\n",
      "       -4.84433  , -4.9882016, -5.0667377, -4.805776 , -4.9833107,\n",
      "       -4.868025 , -4.9813666, -5.0652504, -4.9121356, -4.776402 ,\n",
      "       -4.8479595, -5.0265326, -4.9834466, -4.914171 , -4.968319 ,\n",
      "       -4.7200565, -4.8739653, -4.953503 , -5.0228004, -4.8971634,\n",
      "       -4.978508 , -5.0922856, -5.055684 , -4.915529 , -4.9049225,\n",
      "       -4.991794 , -4.9826126, -4.7065372, -5.031975 , -4.851618 ,\n",
      "       -4.981149 , -5.141662 , -5.032523 , -4.972194 , -5.010689 ,\n",
      "       -4.756025 , -4.8213716, -4.864089 , -4.854234 , -4.9740653,\n",
      "       -5.0554366, -4.855029 , -4.9127736, -5.081713 , -4.975816 ,\n",
      "       -4.7466526, -4.8972573, -4.900752 , -4.833459 , -4.833545 ,\n",
      "       -4.90884  , -4.9352965, -5.0883255, -4.9062796, -4.9262214,\n",
      "       -5.0052576, -5.099553 , -4.7987204, -5.0568776, -4.820475 ,\n",
      "       -4.9046044, -5.0280733, -4.9940796, -4.9979095, -4.922407 ,\n",
      "       -5.0254154, -5.1885586, -4.88716  , -5.0835223, -4.841073 ,\n",
      "       -4.8469515, -4.9320765, -4.9330583, -5.0307007, -5.043701 ,\n",
      "       -4.8362184, -4.875732 , -4.881591 , -5.060727 , -4.947736 ,\n",
      "       -5.1180296, -5.075547 , -4.86229  , -4.8840175, -4.985277 ,\n",
      "       -4.698133 , -4.801486 , -4.7505155, -5.041694 ], dtype=float32))\n",
      "([('C1CCOC1', -4.5802956)], array([-4.9457345, -4.963142 , -4.9601803, -5.2579594, -4.8776875,\n",
      "       -5.0904646, -4.9697676, -5.0221777, -4.8904476, -4.951477 ,\n",
      "       -4.6827803, -4.731565 , -5.008122 , -5.0747814, -5.164438 ,\n",
      "       -4.8504124, -4.9065704, -4.963443 , -4.875631 , -5.1364493,\n",
      "       -5.018201 , -5.047504 , -4.8678575, -5.068297 , -5.015827 ,\n",
      "       -4.8495545, -5.0032225, -5.070489 , -4.8107357, -4.850207 ,\n",
      "       -4.8603897, -4.927647 , -4.9533143, -4.9477544, -4.7882705,\n",
      "       -5.084778 , -4.7884364, -4.7715015, -4.814909 , -5.035236 ,\n",
      "       -4.8746405, -5.058129 , -4.5802956, -5.0274587, -4.9526844,\n",
      "       -4.8889604, -5.128062 , -5.1238146, -4.9475384, -4.940488 ,\n",
      "       -4.6750765, -5.0054464, -5.189675 , -4.8245273, -4.8574443,\n",
      "       -4.7938776, -4.978317 , -5.113619 , -4.9771395, -4.7659407,\n",
      "       -4.935174 , -4.8649206, -5.019245 , -4.6812415, -4.999601 ,\n",
      "       -4.8029823, -4.9032664, -4.8112364, -5.1614137, -4.7630053,\n",
      "       -4.9324684, -5.0233097, -5.15467  , -4.8592057, -4.844308 ,\n",
      "       -4.951675 , -4.9818964, -4.73788  , -5.007688 , -4.691895 ,\n",
      "       -5.0601206, -5.2185154, -4.907903 , -4.9393854, -5.122808 ,\n",
      "       -4.695104 , -4.9549932, -5.009841 , -4.667206 , -4.9425836,\n",
      "       -5.029944 , -4.833842 , -4.799013 , -5.079875 , -5.0251164,\n",
      "       -4.888489 , -4.8137746, -4.914445 , -4.807481 , -4.8470106,\n",
      "       -5.089075 , -4.865085 , -5.0693684, -5.0704093, -4.8284864,\n",
      "       -4.949514 , -5.288988 , -4.653308 , -5.2042747, -5.0362654,\n",
      "       -4.892243 , -4.906732 , -5.036597 , -5.2030134, -4.7356906,\n",
      "       -4.9955153, -5.3015194, -4.876381 , -5.098915 , -4.896204 ,\n",
      "       -4.8777285, -4.798023 , -5.1161356, -5.0981727, -5.0151834,\n",
      "       -4.8044105, -4.9438233, -5.0369563, -5.069574 , -4.8342113,\n",
      "       -4.9529114, -5.020292 , -4.7898674, -4.9564247, -5.103574 ,\n",
      "       -4.67905  , -4.8334107, -4.854634 , -5.240981 ], dtype=float32))\n",
      "([('CCN(C)C', -4.666628)], array([-4.8559604, -5.052588 , -4.937571 , -4.9760623, -4.857361 ,\n",
      "       -4.9291   , -4.905867 , -4.946826 , -4.8870955, -4.8084908,\n",
      "       -4.740108 , -4.6982117, -4.953409 , -5.0237617, -4.970159 ,\n",
      "       -4.7335424, -4.8963456, -5.0000734, -4.8986115, -4.9485393,\n",
      "       -4.8659406, -4.969922 , -4.920646 , -4.909646 , -4.9716773,\n",
      "       -4.8725114, -5.079756 , -5.0027885, -4.9712276, -4.9263535,\n",
      "       -4.989296 , -5.1713057, -4.915226 , -5.0914016, -4.804683 ,\n",
      "       -5.018652 , -4.706296 , -5.0647945, -4.744025 , -5.0452375,\n",
      "       -4.790736 , -4.8445444, -4.808229 , -4.788655 , -4.96559  ,\n",
      "       -4.91874  , -5.1553073, -5.0087533, -4.9723115, -4.992392 ,\n",
      "       -4.8397036, -4.944085 , -5.057702 , -4.897598 , -4.9836884,\n",
      "       -4.9233613, -4.9410787, -4.973949 , -4.99981  , -4.8767495,\n",
      "       -4.8932915, -4.8510504, -5.09116  , -4.993429 , -5.057324 ,\n",
      "       -4.7897677, -5.0513897, -4.8409066, -5.1423554, -4.7990007,\n",
      "       -5.069819 , -5.0698166, -5.0651693, -4.894664 , -4.823882 ,\n",
      "       -4.888622 , -5.028354 , -4.8317485, -5.0884337, -4.666628 ,\n",
      "       -5.0252438, -5.2254086, -5.0798764, -4.9813657, -5.061667 ,\n",
      "       -4.756481 , -4.723638 , -4.952185 , -4.9056754, -4.9942427,\n",
      "       -5.1519523, -4.8539777, -4.9105973, -5.007345 , -4.9401526,\n",
      "       -4.8957853, -4.949277 , -4.7796082, -4.8547115, -4.9392624,\n",
      "       -5.0160475, -4.9785047, -4.9779086, -4.8774853, -4.951426 ,\n",
      "       -5.0076056, -5.0002213, -4.853544 , -5.0748706, -4.924657 ,\n",
      "       -4.868158 , -5.032838 , -4.8455205, -5.0939174, -4.9182205,\n",
      "       -5.020287 , -5.12082  , -4.8111634, -5.071653 , -4.7720833,\n",
      "       -4.7858043, -4.789406 , -5.1255436, -5.009901 , -5.0255756,\n",
      "       -4.7392783, -4.9741716, -4.882892 , -5.060069 , -5.0033326,\n",
      "       -5.1369   , -5.0470595, -4.831654 , -4.8961263, -4.8373837,\n",
      "       -4.890501 , -4.866447 , -4.8313694, -5.1556983], dtype=float32))\n",
      "([('CCCC', -4.531568)], array([-5.0187826, -5.190682 , -4.859275 , -5.204853 , -4.902365 ,\n",
      "       -5.002948 , -4.8911653, -5.1086607, -4.8594413, -4.8110294,\n",
      "       -4.7273436, -4.621874 , -4.9185305, -5.0013857, -5.0820985,\n",
      "       -4.835057 , -4.794226 , -5.0919657, -4.8405805, -5.092389 ,\n",
      "       -4.9077125, -5.186078 , -4.828352 , -5.022137 , -5.1048627,\n",
      "       -4.662808 , -5.0062704, -5.130543 , -4.855359 , -4.8541255,\n",
      "       -4.841052 , -5.0437746, -4.9150558, -5.0573344, -4.6713614,\n",
      "       -5.058322 , -4.8178134, -4.8808923, -4.790142 , -5.009011 ,\n",
      "       -4.8716555, -4.931321 , -4.566028 , -4.9997616, -4.9478273,\n",
      "       -5.0837545, -5.020889 , -5.0728545, -5.044401 , -5.0501633,\n",
      "       -4.6214213, -4.9642973, -5.1548204, -4.7192135, -5.036774 ,\n",
      "       -4.8765745, -5.0006843, -5.0853615, -4.8435383, -4.701243 ,\n",
      "       -4.7744536, -4.8602667, -5.1990542, -4.8456755, -5.0476885,\n",
      "       -4.718467 , -5.0972176, -4.8662972, -5.197052 , -4.920227 ,\n",
      "       -5.075664 , -5.1365128, -4.9749975, -4.743268 , -4.8238397,\n",
      "       -4.954439 , -5.080411 , -4.792214 , -5.0496798, -4.6748786,\n",
      "       -5.1874895, -5.2281804, -4.9500203, -4.9198804, -5.104128 ,\n",
      "       -4.7135696, -4.8511777, -4.8433084, -4.7297564, -5.0999894,\n",
      "       -5.1494827, -4.811651 , -4.531568 , -5.056548 , -5.0782366,\n",
      "       -4.7937493, -4.8950768, -4.890913 , -4.8749933, -4.988623 ,\n",
      "       -5.0272217, -4.8810763, -5.042252 , -4.8791313, -4.8742557,\n",
      "       -5.178136 , -5.2108393, -4.582814 , -5.0337715, -4.9780807,\n",
      "       -4.9971223, -5.104293 , -4.889916 , -5.171862 , -4.939061 ,\n",
      "       -5.00577  , -5.2859235, -4.803839 , -5.200238 , -4.92351  ,\n",
      "       -4.691323 , -4.888397 , -5.193076 , -5.209407 , -4.928664 ,\n",
      "       -4.777974 , -4.812742 , -4.8929834, -5.179375 , -4.873827 ,\n",
      "       -5.0816975, -5.0711155, -4.976721 , -4.920009 , -5.0111227,\n",
      "       -4.8052526, -4.759363 , -4.709576 , -5.337499 ], dtype=float32))\n",
      "([('C1=NC=NO1', -4.671901)], array([-4.89759  , -5.0219593, -4.9381433, -5.098537 , -4.910415 ,\n",
      "       -4.9673133, -4.8352485, -5.0592585, -4.9453654, -4.8952556,\n",
      "       -4.7577434, -4.741921 , -5.045167 , -4.9033675, -4.925055 ,\n",
      "       -4.6792755, -4.8730283, -4.860094 , -4.9941964, -5.171989 ,\n",
      "       -4.9149356, -5.088974 , -4.883504 , -5.002842 , -5.1731133,\n",
      "       -4.800925 , -5.118623 , -5.0930305, -5.0397124, -4.875921 ,\n",
      "       -5.036527 , -5.1654644, -4.8260045, -5.1524105, -4.761094 ,\n",
      "       -5.09775  , -4.709331 , -5.0542397, -4.811409 , -5.0169067,\n",
      "       -4.862541 , -4.9080553, -4.6893616, -4.92703  , -5.0134244,\n",
      "       -4.9648104, -5.145347 , -5.0115285, -5.040896 , -4.83321  ,\n",
      "       -4.8372035, -4.942554 , -5.031252 , -4.9987774, -5.0500593,\n",
      "       -5.007311 , -4.847362 , -5.1194134, -4.9501376, -4.8507643,\n",
      "       -4.7948246, -4.6930914, -5.018037 , -4.8447022, -5.0613995,\n",
      "       -4.694089 , -5.028353 , -4.7566886, -5.1808915, -4.8104095,\n",
      "       -5.123725 , -5.061532 , -5.0057383, -4.882918 , -4.9077973,\n",
      "       -4.940315 , -5.042288 , -4.9003773, -5.0427184, -4.72239  ,\n",
      "       -5.072418 , -5.074155 , -5.0028987, -4.864463 , -5.14173  ,\n",
      "       -4.6777444, -4.684231 , -4.843424 , -4.8536   , -5.121664 ,\n",
      "       -5.0918474, -4.784569 , -4.8345413, -5.06649  , -5.0080767,\n",
      "       -4.9589634, -4.8534007, -4.8634   , -4.908218 , -4.8245378,\n",
      "       -5.186186 , -4.9975677, -4.9546976, -4.8787117, -4.78606  ,\n",
      "       -5.0612297, -5.0701413, -4.9120193, -4.884261 , -4.8793936,\n",
      "       -4.984158 , -4.941041 , -4.86816  , -5.092612 , -4.8889017,\n",
      "       -4.9950404, -5.2795997, -4.7927275, -5.2083077, -4.777075 ,\n",
      "       -4.815181 , -4.9274387, -5.1678777, -5.0256147, -4.844784 ,\n",
      "       -4.746287 , -4.8553233, -4.866398 , -4.9634495, -5.041441 ,\n",
      "       -5.1354   , -5.038677 , -4.671901 , -4.887932 , -4.8352556,\n",
      "       -4.863368 , -4.835289 , -4.6832566, -5.3659315], dtype=float32))\n",
      "([('CCN(C)C', -4.5541263)], array([-4.877829 , -5.072613 , -4.844336 , -5.1247287, -5.0067763,\n",
      "       -4.952626 , -4.8377028, -4.92783  , -4.947699 , -4.78085  ,\n",
      "       -4.7586145, -4.736717 , -4.9938   , -5.019411 , -5.0868125,\n",
      "       -4.6723113, -4.9077415, -5.00333  , -4.8338594, -5.1079316,\n",
      "       -4.9528127, -5.0738716, -4.9657454, -5.0446897, -5.1732774,\n",
      "       -4.785825 , -5.2082777, -5.0864153, -4.9935102, -4.915598 ,\n",
      "       -4.9644732, -5.1060543, -4.835808 , -5.100859 , -4.7130823,\n",
      "       -5.2338567, -4.652456 , -5.001358 , -4.77434  , -5.056968 ,\n",
      "       -4.837971 , -4.9576726, -4.717002 , -4.9636846, -5.0592637,\n",
      "       -5.040316 , -5.190687 , -4.943839 , -5.0172353, -5.0010886,\n",
      "       -4.8574877, -4.911131 , -5.0298047, -4.9280205, -5.1005177,\n",
      "       -4.977484 , -4.791032 , -5.0897284, -4.9489717, -4.908011 ,\n",
      "       -4.972015 , -4.7311006, -5.061379 , -4.86014  , -4.865163 ,\n",
      "       -4.7862916, -5.0152445, -4.6342487, -5.154615 , -4.8454084,\n",
      "       -4.9806743, -5.0211987, -4.9347153, -4.942848 , -4.9379277,\n",
      "       -5.021931 , -5.053523 , -4.74132  , -4.997634 , -4.5541263,\n",
      "       -5.103501 , -5.135555 , -4.9816637, -4.7891192, -5.0674872,\n",
      "       -4.734006 , -4.7097263, -4.937205 , -4.715031 , -5.0022264,\n",
      "       -5.0815845, -4.785166 , -4.8172398, -5.162498 , -5.010757 ,\n",
      "       -4.952806 , -4.75914  , -4.901565 , -4.7941546, -4.875246 ,\n",
      "       -5.147669 , -4.878789 , -4.971887 , -4.7960267, -4.7988725,\n",
      "       -4.9474626, -5.0565615, -4.849291 , -4.8860855, -4.949766 ,\n",
      "       -5.0818167, -4.972968 , -4.7778974, -5.0641494, -4.982299 ,\n",
      "       -4.875998 , -5.2912602, -4.7795396, -5.2777066, -4.9215813,\n",
      "       -4.80676  , -4.812251 , -5.184644 , -5.007536 , -4.978706 ,\n",
      "       -4.7583313, -4.976905 , -4.9692416, -5.15391  , -4.994407 ,\n",
      "       -5.0680785, -5.1638036, -4.8271093, -4.916389 , -4.948412 ,\n",
      "       -4.818686 , -4.937691 , -4.5898256, -5.3515615], dtype=float32))\n",
      "([('C1=NC=NC2=C1N=CN2', -4.6946654)], array([-4.9975624, -5.0690637, -5.018752 , -4.957524 , -4.7933884,\n",
      "       -4.92434  , -4.9819765, -5.04337  , -4.7899404, -4.8227477,\n",
      "       -4.723048 , -4.815843 , -4.98213  , -5.075323 , -4.9881015,\n",
      "       -4.846669 , -4.9422336, -5.0324597, -4.82638  , -4.952962 ,\n",
      "       -4.842124 , -4.893013 , -4.9396925, -4.8899965, -4.9668374,\n",
      "       -4.840852 , -4.9204445, -5.002673 , -4.8587923, -4.908568 ,\n",
      "       -4.9490514, -5.0105724, -4.9848704, -5.02755  , -4.7461257,\n",
      "       -4.9672413, -4.8989983, -5.0432363, -4.747796 , -5.0980854,\n",
      "       -4.8269   , -5.008148 , -4.8461475, -4.8434076, -4.9617224,\n",
      "       -4.937196 , -4.9925323, -4.962686 , -4.9047008, -5.061654 ,\n",
      "       -4.821407 , -5.017697 , -5.071675 , -4.7768097, -5.0324306,\n",
      "       -4.910329 , -5.020836 , -5.0938277, -4.9488378, -4.80652  ,\n",
      "       -4.8437023, -4.988386 , -5.0503373, -4.933196 , -4.9356647,\n",
      "       -4.755698 , -5.0014763, -4.8968306, -5.036578 , -4.8648505,\n",
      "       -5.0536966, -5.0716014, -5.0290546, -4.9047394, -4.794264 ,\n",
      "       -4.9196134, -4.989799 , -4.7877355, -5.0474863, -4.7747016,\n",
      "       -5.0011063, -5.2178087, -5.04145  , -4.8284254, -4.98484  ,\n",
      "       -4.791079 , -4.970028 , -4.9161577, -4.8606453, -4.925217 ,\n",
      "       -5.008537 , -4.837767 , -4.8916497, -5.1161494, -4.981685 ,\n",
      "       -4.783468 , -4.968704 , -4.869434 , -4.850494 , -4.9559655,\n",
      "       -4.92816  , -5.004774 , -5.069082 , -4.9396625, -4.9681463,\n",
      "       -4.992427 , -5.0245357, -4.738372 , -5.0962877, -4.9014397,\n",
      "       -4.9612145, -5.0810847, -4.951942 , -5.058655 , -4.870144 ,\n",
      "       -5.083843 , -5.1370454, -4.8708553, -5.0240946, -4.797134 ,\n",
      "       -4.833643 , -4.8854766, -5.01155  , -5.0056014, -5.0282764,\n",
      "       -4.769437 , -4.9355564, -4.825883 , -5.0655107, -4.92525  ,\n",
      "       -5.0543466, -5.0286074, -4.9781475, -4.9061995, -4.978213 ,\n",
      "       -4.6946654, -4.8468065, -4.812213 , -5.081157 ], dtype=float32))\n",
      "([('C1CCOC1', -4.5612106)], array([-4.971598 , -5.1395698, -4.912668 , -5.034087 , -4.9628224,\n",
      "       -5.063952 , -4.8743925, -4.9998198, -4.802376 , -4.9135704,\n",
      "       -4.7838836, -4.786456 , -4.906569 , -5.1477237, -4.876139 ,\n",
      "       -4.855332 , -4.945401 , -4.842494 , -4.8634453, -5.1450286,\n",
      "       -4.989829 , -5.0611954, -4.9492445, -5.084802 , -5.1043816,\n",
      "       -4.759731 , -5.0335026, -5.02211  , -4.94242  , -4.8501186,\n",
      "       -4.8592334, -5.111616 , -4.7623262, -5.0069437, -4.693508 ,\n",
      "       -5.119373 , -4.7572885, -5.0018163, -4.8387365, -4.896633 ,\n",
      "       -4.918906 , -5.058057 , -4.5612106, -5.0222726, -4.994264 ,\n",
      "       -4.9587207, -5.0461802, -4.89758  , -4.9738383, -4.919077 ,\n",
      "       -4.8243675, -4.994434 , -5.0664864, -4.842473 , -5.028711 ,\n",
      "       -4.9200444, -4.944389 , -5.1074963, -4.9433546, -4.767817 ,\n",
      "       -4.8932176, -4.8653426, -5.010509 , -4.944747 , -4.9773226,\n",
      "       -4.72428  , -4.91383  , -5.012282 , -5.0530767, -4.794721 ,\n",
      "       -5.0721407, -4.958644 , -5.092337 , -4.9700155, -4.8719177,\n",
      "       -4.8556404, -5.057788 , -4.912721 , -5.1141396, -4.774784 ,\n",
      "       -4.9777107, -5.1295934, -4.8771925, -4.8860817, -4.996782 ,\n",
      "       -4.648726 , -4.7848396, -4.9661365, -4.696904 , -5.081889 ,\n",
      "       -5.0650916, -4.806587 , -4.8034163, -5.0429077, -4.9776883,\n",
      "       -4.931721 , -4.7820845, -4.906129 , -4.808218 , -4.962123 ,\n",
      "       -4.9826565, -4.912919 , -4.9461384, -4.9718413, -4.9169197,\n",
      "       -5.073865 , -5.1626263, -4.7579885, -5.0632706, -4.971104 ,\n",
      "       -4.8945317, -4.984276 , -4.880714 , -5.029301 , -4.8912096,\n",
      "       -4.810621 , -5.2756157, -4.845586 , -5.186703 , -4.9098587,\n",
      "       -4.8674817, -4.885351 , -4.997762 , -5.0401807, -4.9529047,\n",
      "       -4.8661003, -4.8698764, -4.9886007, -5.0655546, -5.0539975,\n",
      "       -5.07309  , -4.9973836, -4.808774 , -4.904771 , -4.944118 ,\n",
      "       -4.753568 , -4.867543 , -4.7728305, -5.296892 ], dtype=float32))\n",
      "([('C1CCOC1', -4.6544695)], array([-4.9592113, -5.02495  , -4.920656 , -5.0954375, -4.9324703,\n",
      "       -5.0414824, -4.7998343, -5.088516 , -4.978903 , -4.8985343,\n",
      "       -4.743883 , -4.7314935, -4.9196568, -4.939881 , -5.0118856,\n",
      "       -4.6884656, -4.8148937, -4.9169965, -4.8873987, -5.130191 ,\n",
      "       -4.9732304, -5.0645194, -5.0306745, -5.1808233, -5.2197685,\n",
      "       -4.7393146, -5.233097 , -5.0591416, -5.011033 , -4.8463655,\n",
      "       -4.9353957, -5.1154423, -4.7231164, -5.1594896, -4.7241416,\n",
      "       -5.1667733, -4.7399282, -5.028853 , -4.7130494, -5.0343018,\n",
      "       -4.997564 , -4.974613 , -4.6544695, -4.936825 , -5.1070776,\n",
      "       -4.945451 , -5.050781 , -4.898993 , -5.1208563, -4.92039  ,\n",
      "       -4.7628827, -4.8522186, -5.065215 , -4.9400043, -5.0744276,\n",
      "       -4.870543 , -4.8583035, -5.0534215, -4.8899107, -4.8662696,\n",
      "       -4.852645 , -4.743306 , -5.026519 , -4.7868247, -4.9988236,\n",
      "       -4.680447 , -5.0511346, -4.721481 , -5.136389 , -4.8406157,\n",
      "       -5.1206384, -5.02021  , -5.038765 , -5.0085564, -4.9603252,\n",
      "       -5.002196 , -5.0253816, -4.8541574, -5.0378   , -4.6981535,\n",
      "       -5.028029 , -5.0267677, -5.002641 , -4.814858 , -5.078446 ,\n",
      "       -4.7417235, -4.673543 , -4.8729153, -4.6705947, -5.099403 ,\n",
      "       -5.0481067, -4.846606 , -4.911727 , -5.1658297, -5.017219 ,\n",
      "       -4.918437 , -4.7851176, -4.8708773, -4.8177166, -4.8615026,\n",
      "       -5.14521  , -4.92634  , -4.931546 , -4.9916286, -4.7476573,\n",
      "       -5.1197906, -5.1456914, -4.807333 , -4.8783956, -4.835618 ,\n",
      "       -5.0782547, -4.946028 , -4.927539 , -5.0441923, -4.899292 ,\n",
      "       -4.9632983, -5.3618174, -4.7505493, -5.173061 , -4.8616476,\n",
      "       -4.8575864, -4.899059 , -5.1796336, -4.9253364, -4.9414053,\n",
      "       -4.888998 , -4.828292 , -4.944531 , -5.007505 , -4.9474797,\n",
      "       -5.0658092, -5.1688848, -4.7601037, -4.891916 , -4.987445 ,\n",
      "       -4.7961264, -4.820025 , -4.682135 , -5.29167  ], dtype=float32))\n",
      "([('CSCCC(N)C(=O)O', -4.7006826)], array([-4.886294 , -5.0154696, -4.9689436, -4.9709725, -4.8077183,\n",
      "       -4.8887706, -4.9374094, -4.9863567, -4.8443327, -4.867602 ,\n",
      "       -4.724865 , -4.7841916, -4.9512973, -5.0430527, -4.954831 ,\n",
      "       -4.787263 , -4.906761 , -5.022188 , -4.953226 , -4.9614844,\n",
      "       -4.920958 , -4.9620047, -4.959889 , -4.9299626, -4.9897165,\n",
      "       -4.862203 , -4.9799314, -4.968805 , -4.951566 , -4.825119 ,\n",
      "       -4.969964 , -5.0873704, -5.015076 , -5.007402 , -4.8137913,\n",
      "       -4.989048 , -4.7509594, -5.042657 , -4.8265486, -5.052168 ,\n",
      "       -4.827528 , -4.933629 , -4.8044496, -4.9380407, -4.9220853,\n",
      "       -4.94172  , -5.118501 , -5.0303063, -4.96657  , -5.054274 ,\n",
      "       -4.8900075, -4.983013 , -5.0206623, -4.8754306, -4.950338 ,\n",
      "       -4.947376 , -4.9538903, -5.04876  , -4.972321 , -4.8303757,\n",
      "       -4.916468 , -4.90113  , -5.0352116, -5.004231 , -5.056734 ,\n",
      "       -4.7006826, -4.9772468, -4.955252 , -5.0741596, -4.8733225,\n",
      "       -5.05905  , -5.0368667, -5.035404 , -4.9218106, -4.801673 ,\n",
      "       -4.8591   , -5.0327225, -4.8559623, -5.074737 , -4.841213 ,\n",
      "       -5.0311193, -5.191479 , -4.9959707, -4.905773 , -5.104662 ,\n",
      "       -4.740488 , -4.792349 , -4.9702497, -4.883471 , -5.0409756,\n",
      "       -5.137461 , -4.802292 , -4.8276496, -5.035554 , -4.9752116,\n",
      "       -4.8240876, -4.9293375, -4.9490604, -4.836106 , -4.8593993,\n",
      "       -4.997267 , -4.904055 , -4.9775624, -4.98501  , -4.9647303,\n",
      "       -4.9969773, -5.013034 , -4.77392  , -4.974971 , -4.9216924,\n",
      "       -4.818978 , -5.0407653, -4.86877  , -5.0214663, -4.888872 ,\n",
      "       -4.9856186, -5.1036806, -4.8480434, -5.1084104, -4.7818184,\n",
      "       -4.8382077, -4.806079 , -5.0848494, -5.0407085, -5.0001283,\n",
      "       -4.7679462, -4.941867 , -4.9551177, -5.0041885, -4.9728613,\n",
      "       -5.032514 , -5.0290294, -4.7772765, -4.8940406, -4.8621397,\n",
      "       -4.812958 , -4.818719 , -4.7864738, -5.151588 ], dtype=float32))\n",
      "([('C1=CC=CC=C1', -4.7216353)], array([-4.9549255, -5.0216727, -5.015994 , -4.881292 , -4.8340497,\n",
      "       -4.9518757, -4.989315 , -4.9989667, -4.8462887, -4.79707  ,\n",
      "       -4.7216353, -4.8188047, -4.921113 , -5.053847 , -4.990743 ,\n",
      "       -4.853895 , -4.950137 , -5.057234 , -4.819736 , -4.9497385,\n",
      "       -4.9037213, -4.9741464, -4.8802257, -4.8845224, -4.967892 ,\n",
      "       -4.901979 , -4.9865713, -4.957644 , -4.86346  , -4.914893 ,\n",
      "       -4.9883957, -5.026462 , -5.02304  , -5.041071 , -4.783863 ,\n",
      "       -5.020797 , -4.7721796, -5.035609 , -4.7934337, -5.057469 ,\n",
      "       -4.7890825, -5.0200953, -4.8328795, -4.8435984, -4.9573016,\n",
      "       -4.98885  , -5.0823264, -4.981851 , -4.9763017, -5.0552487,\n",
      "       -4.847541 , -4.971143 , -5.064806 , -4.8854666, -5.0050898,\n",
      "       -4.961755 , -4.985598 , -5.054575 , -4.9709907, -4.779135 ,\n",
      "       -4.8937936, -4.941378 , -5.0405536, -4.92525  , -4.970642 ,\n",
      "       -4.7826233, -4.94703  , -4.9304414, -5.067589 , -4.826161 ,\n",
      "       -4.965816 , -5.0473967, -5.110697 , -4.9457517, -4.7788424,\n",
      "       -4.8236094, -4.9640646, -4.78667  , -4.985138 , -4.809286 ,\n",
      "       -5.060739 , -5.2016973, -5.0243692, -4.882048 , -5.030741 ,\n",
      "       -4.771281 , -4.865374 , -4.9886785, -4.8780103, -4.961579 ,\n",
      "       -5.0840573, -4.825651 , -4.857718 , -5.0508485, -4.984086 ,\n",
      "       -4.854173 , -4.9754477, -4.894087 , -4.8966584, -4.9413366,\n",
      "       -4.9620543, -4.9121056, -4.9944954, -5.018912 , -5.021307 ,\n",
      "       -4.947194 , -5.0148916, -4.7337036, -5.080482 , -4.896113 ,\n",
      "       -4.8990645, -5.00263  , -4.9474835, -5.101395 , -4.8394017,\n",
      "       -5.0003676, -5.0897064, -4.8505716, -5.0674243, -4.8045545,\n",
      "       -4.8124995, -4.826501 , -5.046946 , -5.0636873, -5.0024157,\n",
      "       -4.7218275, -4.933049 , -4.9378986, -5.076763 , -4.9688683,\n",
      "       -4.9866695, -5.046671 , -4.868567 , -4.86804  , -4.8854876,\n",
      "       -4.756679 , -4.8423553, -4.8276134, -5.0664377], dtype=float32))\n",
      "([('CCC(N)=O', -4.5403867)], array([-4.88914  , -5.045664 , -4.9973683, -5.057086 , -4.83993  ,\n",
      "       -4.98296  , -4.977328 , -5.0616503, -4.9467115, -4.796086 ,\n",
      "       -4.669197 , -4.734094 , -4.938022 , -5.046918 , -5.0538106,\n",
      "       -4.698494 , -4.9418983, -5.0527563, -4.8737936, -4.9392023,\n",
      "       -4.861323 , -5.05509  , -4.9614377, -5.023065 , -4.9669833,\n",
      "       -4.9149003, -5.0544066, -5.1047325, -4.866723 , -4.8196807,\n",
      "       -5.0366535, -5.0832477, -5.03292  , -5.1628356, -4.66259  ,\n",
      "       -4.961558 , -4.9070134, -4.8929048, -4.5403867, -5.14732  ,\n",
      "       -4.9080825, -4.880804 , -4.8203235, -4.839439 , -4.9183803,\n",
      "       -4.806045 , -5.1450386, -5.073877 , -5.0275764, -5.127517 ,\n",
      "       -4.8119116, -5.0112476, -5.1613035, -4.8514447, -4.943299 ,\n",
      "       -4.741806 , -5.031858 , -4.988406 , -5.08584  , -4.8217216,\n",
      "       -4.8364906, -4.7996936, -5.022788 , -4.862728 , -5.0524273,\n",
      "       -4.6306605, -4.9028487, -4.877649 , -5.1846523, -4.7981243,\n",
      "       -5.1589437, -5.0962934, -5.161869 , -5.001548 , -4.855343 ,\n",
      "       -4.944428 , -5.0661135, -4.6422577, -4.9661107, -4.7652082,\n",
      "       -5.0208898, -5.1832285, -5.0113235, -4.9018984, -5.013234 ,\n",
      "       -4.6750937, -4.8419595, -5.0343924, -4.8932533, -4.929364 ,\n",
      "       -5.173299 , -4.8606834, -4.896712 , -5.1621757, -4.9551105,\n",
      "       -4.6997747, -4.9034877, -4.9254236, -4.844364 , -4.908853 ,\n",
      "       -5.0262275, -4.938589 , -4.9464765, -4.9246597, -4.8283463,\n",
      "       -5.0296984, -5.102789 , -4.8121023, -5.030447 , -4.829709 ,\n",
      "       -4.9614463, -4.96792  , -5.026503 , -4.9586244, -4.9035087,\n",
      "       -5.178688 , -5.210673 , -4.911648 , -5.1330886, -4.781454 ,\n",
      "       -4.843011 , -4.7199826, -5.0036016, -5.0693026, -5.0151653,\n",
      "       -4.753232 , -4.8639026, -4.9259477, -5.07899  , -4.841424 ,\n",
      "       -5.194779 , -5.184471 , -4.837332 , -5.0022855, -4.9660926,\n",
      "       -4.740402 , -4.773057 , -4.6703196, -5.2336698], dtype=float32))\n",
      "([('CCCCCCCO', -4.7095585)], array([-4.961981 , -5.087761 , -5.0675526, -4.902372 , -4.9444447,\n",
      "       -4.9626956, -4.9465933, -4.993012 , -4.8759656, -4.808467 ,\n",
      "       -4.7530613, -4.844817 , -4.9663486, -4.985304 , -4.928517 ,\n",
      "       -4.8623104, -4.8582463, -4.995677 , -4.888034 , -5.0000787,\n",
      "       -4.8283663, -5.0277834, -4.885481 , -4.872661 , -4.9572315,\n",
      "       -4.905726 , -5.028649 , -4.9497995, -4.9611883, -4.873203 ,\n",
      "       -5.0886855, -5.077042 , -5.0109324, -5.0835304, -4.763705 ,\n",
      "       -5.077632 , -4.787303 , -4.949843 , -4.86072  , -4.986617 ,\n",
      "       -4.8260527, -4.9535794, -4.7702003, -4.9111495, -4.8872166,\n",
      "       -4.9349422, -5.1273866, -4.8715878, -4.9949374, -4.957137 ,\n",
      "       -4.8668647, -4.950476 , -4.9639263, -4.9655676, -5.0611453,\n",
      "       -4.936417 , -4.9252744, -5.0916495, -4.9858704, -4.8329597,\n",
      "       -4.900112 , -4.961065 , -5.01057  , -4.9020915, -5.005812 ,\n",
      "       -4.730536 , -4.868735 , -4.906474 , -5.051612 , -4.8593016,\n",
      "       -5.05898  , -5.09131  , -5.054405 , -4.908248 , -4.9039073,\n",
      "       -4.838859 , -5.0213566, -4.859796 , -5.0288334, -4.816717 ,\n",
      "       -4.9971523, -5.0477114, -4.9947004, -4.9210825, -5.071772 ,\n",
      "       -4.7095585, -4.916559 , -4.888006 , -4.9455433, -5.0380516,\n",
      "       -5.0731497, -4.771961 , -4.8725743, -5.016708 , -4.945576 ,\n",
      "       -4.8389974, -4.912906 , -4.8946476, -4.869502 , -4.849068 ,\n",
      "       -4.996909 , -5.007155 , -4.938098 , -4.8936267, -4.954945 ,\n",
      "       -4.973456 , -5.0145836, -4.8482785, -5.02517  , -4.926584 ,\n",
      "       -4.868044 , -4.920231 , -4.8991737, -5.0839357, -4.8866706,\n",
      "       -5.0701175, -5.0704994, -4.9616785, -5.08665  , -4.7981043,\n",
      "       -4.866895 , -4.831935 , -5.041801 , -5.13046  , -4.862969 ,\n",
      "       -4.749822 , -4.9155297, -4.885777 , -4.9172125, -5.0661016,\n",
      "       -5.109732 , -5.0317163, -4.7632976, -4.924743 , -4.802388 ,\n",
      "       -4.829136 , -4.906809 , -4.761366 , -5.1281657], dtype=float32))\n",
      "([('CCCCCCCO', -4.5632906)], array([-4.934079 , -4.9715624, -4.876003 , -5.041649 , -4.922391 ,\n",
      "       -5.1411724, -4.9863634, -5.001779 , -5.01662  , -4.8241014,\n",
      "       -4.7522407, -4.749016 , -4.9996333, -5.1341963, -5.0301466,\n",
      "       -4.7246156, -5.0144796, -4.9870133, -4.7690077, -4.9718885,\n",
      "       -4.969526 , -4.9328985, -4.958685 , -5.02867  , -4.973181 ,\n",
      "       -4.8796835, -5.0050306, -5.099612 , -4.828169 , -4.887219 ,\n",
      "       -5.031765 , -5.2109375, -5.0106597, -5.12339  , -4.6319857,\n",
      "       -5.030574 , -4.7551103, -4.9323215, -4.5781536, -5.191235 ,\n",
      "       -4.908532 , -4.966416 , -4.668645 , -4.8073697, -4.8982434,\n",
      "       -4.8318243, -5.030723 , -5.1343255, -5.008331 , -5.0953217,\n",
      "       -4.8558965, -4.876928 , -5.0708055, -4.8591533, -5.0549455,\n",
      "       -4.733345 , -5.079791 , -5.189747 , -5.0545244, -4.7852893,\n",
      "       -4.917983 , -4.972826 , -4.966589 , -4.893645 , -4.993439 ,\n",
      "       -4.6942196, -4.8075676, -4.878009 , -5.201048 , -4.8001213,\n",
      "       -5.017453 , -5.0901375, -5.161879 , -4.9850035, -4.960647 ,\n",
      "       -4.858181 , -4.9916363, -4.6691604, -4.930076 , -4.8133006,\n",
      "       -4.940198 , -5.217204 , -4.9161983, -4.921022 , -4.9377146,\n",
      "       -4.5632906, -4.7682214, -4.9544435, -4.772544 , -4.975697 ,\n",
      "       -5.1618943, -4.869821 , -4.901441 , -5.114272 , -4.9545326,\n",
      "       -4.7977057, -4.9937215, -4.9082284, -4.7903647, -4.780226 ,\n",
      "       -4.961651 , -5.0188727, -4.9973607, -4.8729334, -4.921568 ,\n",
      "       -5.025882 , -5.102894 , -4.7845745, -5.0251226, -4.878255 ,\n",
      "       -4.9291596, -4.914735 , -5.066783 , -5.056245 , -4.943018 ,\n",
      "       -5.0862293, -5.2714086, -4.9495   , -5.1592436, -4.7637763,\n",
      "       -4.8665667, -4.8766994, -4.944185 , -5.0249476, -5.1634216,\n",
      "       -4.8624964, -4.8232636, -4.953407 , -5.041324 , -4.857357 ,\n",
      "       -5.2386417, -5.0841026, -4.7827406, -5.0030346, -4.977175 ,\n",
      "       -4.6352057, -4.8084483, -4.796005 , -5.134589 ], dtype=float32))\n",
      "([('CSCCC(N)C(=O)O', -4.6712985)], array([-4.8655252, -4.999981 , -4.93465  , -5.030611 , -4.8423295,\n",
      "       -4.8627796, -4.965775 , -4.9290752, -4.9224734, -4.7620807,\n",
      "       -4.752457 , -4.7297444, -4.967566 , -5.125402 , -5.0452538,\n",
      "       -4.685899 , -4.9770055, -5.0037313, -4.924165 , -4.9170146,\n",
      "       -4.8968782, -4.949869 , -4.920299 , -4.979714 , -4.976661 ,\n",
      "       -4.8848014, -5.030669 , -4.990485 , -4.8963647, -4.799784 ,\n",
      "       -5.002324 , -5.126134 , -5.0083194, -5.0983863, -4.7772126,\n",
      "       -5.0020347, -4.7369   , -4.9786196, -4.679827 , -5.101276 ,\n",
      "       -4.876475 , -4.902205 , -4.7923055, -4.9245687, -4.9361525,\n",
      "       -4.9173307, -5.173962 , -5.0065465, -4.9654098, -5.1322966,\n",
      "       -4.883786 , -4.946767 , -5.0571394, -4.8650427, -4.938565 ,\n",
      "       -4.901564 , -4.9586344, -5.048475 , -5.103027 , -4.9041696,\n",
      "       -4.9978733, -4.8435593, -5.02417  , -4.993614 , -5.0459414,\n",
      "       -4.6712985, -4.893476 , -4.8652163, -5.138615 , -4.892534 ,\n",
      "       -5.0087256, -5.0220995, -5.016893 , -5.021306 , -4.8265266,\n",
      "       -4.937063 , -5.0380287, -4.7581367, -4.992344 , -4.7526264,\n",
      "       -4.9986343, -5.2413216, -4.9534116, -4.903555 , -5.0540957,\n",
      "       -4.7197766, -4.7834744, -5.0726314, -4.8445635, -5.0164824,\n",
      "       -5.211545 , -4.8281364, -4.8989387, -5.0807233, -4.944872 ,\n",
      "       -4.816881 , -4.9815183, -4.939121 , -4.80655  , -4.894978 ,\n",
      "       -5.050646 , -4.879199 , -4.988756 , -4.945867 , -4.9372125,\n",
      "       -4.9248714, -5.056796 , -4.788101 , -4.96087  , -4.953724 ,\n",
      "       -4.8550353, -5.0192084, -4.8705993, -4.9133134, -4.9282002,\n",
      "       -4.9920964, -5.0813646, -4.8860016, -5.1261225, -4.793932 ,\n",
      "       -4.8631644, -4.7015915, -5.090735 , -5.0332274, -5.0758953,\n",
      "       -4.7038817, -4.9304795, -5.0220003, -5.043883 , -4.927772 ,\n",
      "       -5.0951867, -5.126038 , -4.764168 , -4.9790745, -4.9019756,\n",
      "       -4.821025 , -4.8508615, -4.754346 , -5.163062 ], dtype=float32))\n",
      "([('CCCCCCCO', -4.677611)], array([-4.903247 , -5.0976534, -4.968728 , -5.035566 , -4.768356 ,\n",
      "       -5.046225 , -4.8406115, -5.143231 , -4.785324 , -4.974663 ,\n",
      "       -4.7089257, -4.692292 , -4.9013414, -5.0167427, -5.073517 ,\n",
      "       -4.8429875, -4.8352647, -5.0117397, -4.828696 , -5.1350865,\n",
      "       -5.0335803, -5.0540752, -4.8776927, -5.0030785, -4.9941735,\n",
      "       -4.756724 , -4.961768 , -5.061593 , -5.040832 , -4.853237 ,\n",
      "       -4.871069 , -5.020474 , -4.951169 , -5.0674267, -4.705667 ,\n",
      "       -5.0400224, -4.8314724, -4.982889 , -4.7995796, -4.9132395,\n",
      "       -4.841409 , -5.015714 , -4.729924 , -4.9286246, -5.0590844,\n",
      "       -4.9298754, -5.081162 , -4.966737 , -5.048975 , -4.9938297,\n",
      "       -4.710816 , -5.0330462, -5.0978055, -4.8907447, -5.00386  ,\n",
      "       -4.8785286, -5.042631 , -5.136648 , -4.852251 , -4.776622 ,\n",
      "       -4.7666745, -4.8283134, -5.082422 , -4.8738637, -4.9895535,\n",
      "       -4.725989 , -5.0541224, -4.937529 , -5.0217433, -4.8062444,\n",
      "       -5.208311 , -5.123589 , -5.061826 , -4.823108 , -4.7770085,\n",
      "       -4.8771753, -5.033757 , -4.866187 , -5.2157755, -4.718947 ,\n",
      "       -5.001541 , -5.20027  , -5.0023975, -4.8241296, -5.0478296,\n",
      "       -4.677611 , -4.7805805, -4.822058 , -4.7385674, -5.1233172,\n",
      "       -5.0675964, -4.8504386, -4.6895294, -5.0771184, -5.0261693,\n",
      "       -4.8569007, -4.8329644, -4.9437795, -4.8177876, -4.87816  ,\n",
      "       -5.06521  , -4.9419274, -4.9541864, -4.960505 , -4.8239155,\n",
      "       -5.172038 , -5.128204 , -4.730667 , -5.119384 , -4.973822 ,\n",
      "       -4.9303365, -5.023039 , -4.8382893, -5.1273203, -4.829642 ,\n",
      "       -5.042474 , -5.295607 , -4.8405166, -5.080789 , -4.916041 ,\n",
      "       -4.749067 , -4.895783 , -5.111491 , -5.1108704, -4.9694653,\n",
      "       -4.870685 , -4.9012065, -4.8735366, -5.0523195, -4.9413834,\n",
      "       -5.0130353, -5.01218  , -4.87208  , -4.9099708, -5.0072927,\n",
      "       -4.762085 , -4.7935123, -4.726414 , -5.3081946], dtype=float32))\n"
     ]
    }
   ],
   "source": [
    "for i in _decoder_pick_new_atom_types(decoder_states):\n",
    "    print(i)"
   ]
  },
  {
   "cell_type": "code",
   "execution_count": 204,
   "id": "69ea1944",
   "metadata": {},
   "outputs": [
    {
     "name": "stderr",
     "output_type": "stream",
     "text": [
      "RDKit runtime error on base molecule, with message:\n",
      "unsupported operand type(s) for -: '_vectSt6vectorIiSaIiEE' and '_vectSt6vectorIiSaIiEE'\n",
      "RDKit runtime error on base molecule, with message:\n",
      "unsupported operand type(s) for -: '_vectSt6vectorIiSaIiEE' and '_vectSt6vectorIiSaIiEE'\n",
      "RDKit runtime error on base molecule, with message:\n",
      "unsupported operand type(s) for -: '_vectSt6vectorIiSaIiEE' and '_vectSt6vectorIiSaIiEE'\n",
      "RDKit runtime error on base molecule, with message:\n",
      "unsupported operand type(s) for -: '_vectSt6vectorIiSaIiEE' and '_vectSt6vectorIiSaIiEE'\n",
      "RDKit runtime error on base molecule, with message:\n",
      "unsupported operand type(s) for -: '_vectSt6vectorIiSaIiEE' and '_vectSt6vectorIiSaIiEE'\n",
      "RDKit runtime error on base molecule, with message:\n",
      "unsupported operand type(s) for -: '_vectSt6vectorIiSaIiEE' and '_vectSt6vectorIiSaIiEE'\n",
      "RDKit runtime error on base molecule, with message:\n",
      "unsupported operand type(s) for -: '_vectSt6vectorIiSaIiEE' and '_vectSt6vectorIiSaIiEE'\n",
      "RDKit runtime error on base molecule, with message:\n",
      "unsupported operand type(s) for -: '_vectSt6vectorIiSaIiEE' and '_vectSt6vectorIiSaIiEE'\n",
      "RDKit runtime error on base molecule, with message:\n",
      "unsupported operand type(s) for -: '_vectSt6vectorIiSaIiEE' and '_vectSt6vectorIiSaIiEE'\n",
      "RDKit runtime error on base molecule, with message:\n",
      "unsupported operand type(s) for -: '_vectSt6vectorIiSaIiEE' and '_vectSt6vectorIiSaIiEE'\n",
      "RDKit runtime error on base molecule, with message:\n",
      "unsupported operand type(s) for -: '_vectSt6vectorIiSaIiEE' and '_vectSt6vectorIiSaIiEE'\n",
      "RDKit runtime error on base molecule, with message:\n",
      "unsupported operand type(s) for -: '_vectSt6vectorIiSaIiEE' and '_vectSt6vectorIiSaIiEE'\n",
      "RDKit runtime error on base molecule, with message:\n",
      "unsupported operand type(s) for -: '_vectSt6vectorIiSaIiEE' and '_vectSt6vectorIiSaIiEE'\n",
      "RDKit runtime error on base molecule, with message:\n",
      "unsupported operand type(s) for -: '_vectSt6vectorIiSaIiEE' and '_vectSt6vectorIiSaIiEE'\n",
      "RDKit runtime error on base molecule, with message:\n",
      "unsupported operand type(s) for -: '_vectSt6vectorIiSaIiEE' and '_vectSt6vectorIiSaIiEE'\n",
      "RDKit runtime error on base molecule, with message:\n",
      "unsupported operand type(s) for -: '_vectSt6vectorIiSaIiEE' and '_vectSt6vectorIiSaIiEE'\n",
      "/tmp/ipykernel_2659405/3526690738.py:65: UserWarning: Implicit dimension choice for log_softmax has been deprecated. Change the call to include dim=X as an argument.\n",
      "  decoder_state_edge_cand_logprobs = torch.nn.functional.log_softmax(\n",
      "RDKit runtime error on base molecule, with message:\n",
      "unsupported operand type(s) for -: '_vectSt6vectorIiSaIiEE' and '_vectSt6vectorIiSaIiEE'\n",
      "RDKit runtime error on base molecule, with message:\n",
      "unsupported operand type(s) for -: '_vectSt6vectorIiSaIiEE' and '_vectSt6vectorIiSaIiEE'\n"
     ]
    },
    {
     "name": "stdout",
     "output_type": "stream",
     "text": [
      "num decoder states 16\n",
      "5\n",
      "4\n",
      "5\n",
      "7\n",
      "9\n",
      "7\n",
      "7\n",
      "4\n",
      "9\n",
      "4\n",
      "4\n",
      "19\n",
      "4\n",
      "31\n",
      "4\n",
      "11\n",
      "num decoder states 1\n",
      "16\n",
      "num decoder states 1\n",
      "21\n"
     ]
    },
    {
     "name": "stderr",
     "output_type": "stream",
     "text": [
      "RDKit runtime error on base molecule, with message:\n",
      "unsupported operand type(s) for -: '_vectSt6vectorIiSaIiEE' and '_vectSt6vectorIiSaIiEE'\n",
      "RDKit runtime error on base molecule, with message:\n",
      "unsupported operand type(s) for -: '_vectSt6vectorIiSaIiEE' and '_vectSt6vectorIiSaIiEE'\n",
      "RDKit runtime error on base molecule, with message:\n",
      "unsupported operand type(s) for -: '_vectSt6vectorIiSaIiEE' and '_vectSt6vectorIiSaIiEE'\n",
      "RDKit runtime error on base molecule, with message:\n",
      "unsupported operand type(s) for -: '_vectSt6vectorIiSaIiEE' and '_vectSt6vectorIiSaIiEE'\n",
      "RDKit runtime error on base molecule, with message:\n",
      "unsupported operand type(s) for -: '_vectSt6vectorIiSaIiEE' and '_vectSt6vectorIiSaIiEE'\n"
     ]
    },
    {
     "name": "stdout",
     "output_type": "stream",
     "text": [
      "num decoder states 1\n",
      "26\n",
      "num decoder states 1\n",
      "31\n",
      "num decoder states 1\n",
      "36\n",
      "num decoder states 1\n",
      "41\n",
      "num decoder states 1\n",
      "46\n",
      "num decoder states 1\n"
     ]
    },
    {
     "name": "stderr",
     "output_type": "stream",
     "text": [
      "RDKit runtime error on base molecule, with message:\n",
      "unsupported operand type(s) for -: '_vectSt6vectorIiSaIiEE' and '_vectSt6vectorIiSaIiEE'\n",
      "RDKit runtime error on base molecule, with message:\n",
      "unsupported operand type(s) for -: '_vectSt6vectorIiSaIiEE' and '_vectSt6vectorIiSaIiEE'\n",
      "RDKit runtime error on base molecule, with message:\n",
      "unsupported operand type(s) for -: '_vectSt6vectorIiSaIiEE' and '_vectSt6vectorIiSaIiEE'\n",
      "RDKit runtime error on base molecule, with message:\n",
      "unsupported operand type(s) for -: '_vectSt6vectorIiSaIiEE' and '_vectSt6vectorIiSaIiEE'\n",
      "RDKit runtime error on base molecule, with message:\n",
      "unsupported operand type(s) for -: '_vectSt6vectorIiSaIiEE' and '_vectSt6vectorIiSaIiEE'\n"
     ]
    },
    {
     "name": "stdout",
     "output_type": "stream",
     "text": [
      "51\n",
      "num decoder states 1\n",
      "56\n",
      "num decoder states 1\n",
      "61\n",
      "num decoder states 1\n",
      "66\n",
      "num decoder states 1\n",
      "71\n",
      "num decoder states 1\n"
     ]
    },
    {
     "name": "stderr",
     "output_type": "stream",
     "text": [
      "RDKit runtime error on base molecule, with message:\n",
      "unsupported operand type(s) for -: '_vectSt6vectorIiSaIiEE' and '_vectSt6vectorIiSaIiEE'\n",
      "RDKit runtime error on base molecule, with message:\n",
      "unsupported operand type(s) for -: '_vectSt6vectorIiSaIiEE' and '_vectSt6vectorIiSaIiEE'\n",
      "RDKit runtime error on base molecule, with message:\n",
      "unsupported operand type(s) for -: '_vectSt6vectorIiSaIiEE' and '_vectSt6vectorIiSaIiEE'\n",
      "RDKit runtime error on base molecule, with message:\n",
      "unsupported operand type(s) for -: '_vectSt6vectorIiSaIiEE' and '_vectSt6vectorIiSaIiEE'\n"
     ]
    },
    {
     "name": "stdout",
     "output_type": "stream",
     "text": [
      "76\n",
      "num decoder states 1\n",
      "81\n",
      "num decoder states 1\n",
      "86\n",
      "num decoder states 1\n",
      "91\n",
      "num decoder states 1\n"
     ]
    },
    {
     "name": "stderr",
     "output_type": "stream",
     "text": [
      "RDKit runtime error on base molecule, with message:\n",
      "unsupported operand type(s) for -: '_vectSt6vectorIiSaIiEE' and '_vectSt6vectorIiSaIiEE'\n",
      "RDKit runtime error on base molecule, with message:\n",
      "unsupported operand type(s) for -: '_vectSt6vectorIiSaIiEE' and '_vectSt6vectorIiSaIiEE'\n",
      "RDKit runtime error on base molecule, with message:\n",
      "unsupported operand type(s) for -: '_vectSt6vectorIiSaIiEE' and '_vectSt6vectorIiSaIiEE'\n",
      "RDKit runtime error on base molecule, with message:\n",
      "unsupported operand type(s) for -: '_vectSt6vectorIiSaIiEE' and '_vectSt6vectorIiSaIiEE'\n"
     ]
    },
    {
     "name": "stdout",
     "output_type": "stream",
     "text": [
      "96\n",
      "num decoder states 1\n",
      "101\n",
      "num decoder states 1\n",
      "106\n",
      "num decoder states 1\n",
      "111\n",
      "num decoder states 1\n"
     ]
    },
    {
     "name": "stderr",
     "output_type": "stream",
     "text": [
      "RDKit runtime error on base molecule, with message:\n",
      "unsupported operand type(s) for -: '_vectSt6vectorIiSaIiEE' and '_vectSt6vectorIiSaIiEE'\n",
      "RDKit runtime error on base molecule, with message:\n",
      "unsupported operand type(s) for -: '_vectSt6vectorIiSaIiEE' and '_vectSt6vectorIiSaIiEE'\n",
      "RDKit runtime error on base molecule, with message:\n",
      "unsupported operand type(s) for -: '_vectSt6vectorIiSaIiEE' and '_vectSt6vectorIiSaIiEE'\n",
      "RDKit runtime error on base molecule, with message:\n",
      "unsupported operand type(s) for -: '_vectSt6vectorIiSaIiEE' and '_vectSt6vectorIiSaIiEE'\n"
     ]
    },
    {
     "name": "stdout",
     "output_type": "stream",
     "text": [
      "116\n",
      "num decoder states 1\n",
      "121\n",
      "num decoder states 1\n",
      "126\n",
      "num decoder states 1\n",
      "131\n",
      "num decoder states 1\n"
     ]
    },
    {
     "name": "stderr",
     "output_type": "stream",
     "text": [
      "RDKit runtime error on base molecule, with message:\n",
      "unsupported operand type(s) for -: '_vectSt6vectorIiSaIiEE' and '_vectSt6vectorIiSaIiEE'\n",
      "RDKit runtime error on base molecule, with message:\n",
      "unsupported operand type(s) for -: '_vectSt6vectorIiSaIiEE' and '_vectSt6vectorIiSaIiEE'\n",
      "RDKit runtime error on base molecule, with message:\n",
      "unsupported operand type(s) for -: '_vectSt6vectorIiSaIiEE' and '_vectSt6vectorIiSaIiEE'\n",
      "RDKit runtime error on base molecule, with message:\n",
      "unsupported operand type(s) for -: '_vectSt6vectorIiSaIiEE' and '_vectSt6vectorIiSaIiEE'\n"
     ]
    },
    {
     "name": "stdout",
     "output_type": "stream",
     "text": [
      "136\n",
      "num decoder states 1\n",
      "141\n",
      "num decoder states 1\n",
      "146\n",
      "num decoder states 1\n",
      "151\n"
     ]
    },
    {
     "name": "stderr",
     "output_type": "stream",
     "text": [
      "RDKit runtime error on base molecule, with message:\n",
      "unsupported operand type(s) for -: '_vectSt6vectorIiSaIiEE' and '_vectSt6vectorIiSaIiEE'\n",
      "RDKit runtime error on base molecule, with message:\n",
      "unsupported operand type(s) for -: '_vectSt6vectorIiSaIiEE' and '_vectSt6vectorIiSaIiEE'\n",
      "RDKit runtime error on base molecule, with message:\n",
      "unsupported operand type(s) for -: '_vectSt6vectorIiSaIiEE' and '_vectSt6vectorIiSaIiEE'\n"
     ]
    },
    {
     "name": "stdout",
     "output_type": "stream",
     "text": [
      "num decoder states 1\n",
      "156\n",
      "num decoder states 1\n",
      "161\n",
      "num decoder states 1\n",
      "166\n"
     ]
    },
    {
     "name": "stderr",
     "output_type": "stream",
     "text": [
      "RDKit runtime error on base molecule, with message:\n",
      "unsupported operand type(s) for -: '_vectSt6vectorIiSaIiEE' and '_vectSt6vectorIiSaIiEE'\n",
      "RDKit runtime error on base molecule, with message:\n",
      "unsupported operand type(s) for -: '_vectSt6vectorIiSaIiEE' and '_vectSt6vectorIiSaIiEE'\n",
      "RDKit runtime error on base molecule, with message:\n",
      "unsupported operand type(s) for -: '_vectSt6vectorIiSaIiEE' and '_vectSt6vectorIiSaIiEE'\n"
     ]
    },
    {
     "name": "stdout",
     "output_type": "stream",
     "text": [
      "num decoder states 1\n",
      "171\n",
      "num decoder states 1\n",
      "176\n",
      "num decoder states 1\n",
      "181\n"
     ]
    },
    {
     "name": "stderr",
     "output_type": "stream",
     "text": [
      "RDKit runtime error on base molecule, with message:\n",
      "unsupported operand type(s) for -: '_vectSt6vectorIiSaIiEE' and '_vectSt6vectorIiSaIiEE'\n",
      "RDKit runtime error on base molecule, with message:\n",
      "unsupported operand type(s) for -: '_vectSt6vectorIiSaIiEE' and '_vectSt6vectorIiSaIiEE'\n"
     ]
    },
    {
     "name": "stdout",
     "output_type": "stream",
     "text": [
      "num decoder states 1\n",
      "186\n",
      "num decoder states 1\n",
      "191\n",
      "num decoder states 1\n",
      "196\n"
     ]
    },
    {
     "name": "stderr",
     "output_type": "stream",
     "text": [
      "RDKit runtime error on base molecule, with message:\n",
      "unsupported operand type(s) for -: '_vectSt6vectorIiSaIiEE' and '_vectSt6vectorIiSaIiEE'\n",
      "RDKit runtime error on base molecule, with message:\n",
      "unsupported operand type(s) for -: '_vectSt6vectorIiSaIiEE' and '_vectSt6vectorIiSaIiEE'\n",
      "RDKit runtime error on base molecule, with message:\n",
      "unsupported operand type(s) for -: '_vectSt6vectorIiSaIiEE' and '_vectSt6vectorIiSaIiEE'\n"
     ]
    },
    {
     "name": "stdout",
     "output_type": "stream",
     "text": [
      "num decoder states 1\n",
      "201\n",
      "num decoder states 1\n",
      "206\n",
      "num decoder states 1\n"
     ]
    },
    {
     "name": "stderr",
     "output_type": "stream",
     "text": [
      "RDKit runtime error on base molecule, with message:\n",
      "unsupported operand type(s) for -: '_vectSt6vectorIiSaIiEE' and '_vectSt6vectorIiSaIiEE'\n",
      "RDKit runtime error on base molecule, with message:\n",
      "unsupported operand type(s) for -: '_vectSt6vectorIiSaIiEE' and '_vectSt6vectorIiSaIiEE'\n",
      "RDKit runtime error on base molecule, with message:\n",
      "unsupported operand type(s) for -: '_vectSt6vectorIiSaIiEE' and '_vectSt6vectorIiSaIiEE'\n"
     ]
    },
    {
     "name": "stdout",
     "output_type": "stream",
     "text": [
      "211\n",
      "num decoder states 1\n",
      "216\n",
      "num decoder states 1\n",
      "219\n",
      "num decoder states 1\n"
     ]
    },
    {
     "name": "stderr",
     "output_type": "stream",
     "text": [
      "RDKit runtime error on base molecule, with message:\n",
      "unsupported operand type(s) for -: '_vectSt6vectorIiSaIiEE' and '_vectSt6vectorIiSaIiEE'\n",
      "RDKit runtime error on base molecule, with message:\n",
      "unsupported operand type(s) for -: '_vectSt6vectorIiSaIiEE' and '_vectSt6vectorIiSaIiEE'\n",
      "RDKit runtime error on base molecule, with message:\n",
      "unsupported operand type(s) for -: '_vectSt6vectorIiSaIiEE' and '_vectSt6vectorIiSaIiEE'\n"
     ]
    },
    {
     "name": "stdout",
     "output_type": "stream",
     "text": [
      "227\n",
      "num decoder states 1\n",
      "232\n",
      "num decoder states 1\n",
      "237\n",
      "num decoder states 1\n"
     ]
    },
    {
     "name": "stderr",
     "output_type": "stream",
     "text": [
      "RDKit runtime error on base molecule, with message:\n",
      "unsupported operand type(s) for -: '_vectSt6vectorIiSaIiEE' and '_vectSt6vectorIiSaIiEE'\n",
      "RDKit runtime error on base molecule, with message:\n",
      "unsupported operand type(s) for -: '_vectSt6vectorIiSaIiEE' and '_vectSt6vectorIiSaIiEE'\n",
      "RDKit runtime error on base molecule, with message:\n",
      "unsupported operand type(s) for -: '_vectSt6vectorIiSaIiEE' and '_vectSt6vectorIiSaIiEE'\n"
     ]
    },
    {
     "name": "stdout",
     "output_type": "stream",
     "text": [
      "242\n",
      "num decoder states 1\n",
      "247\n",
      "num decoder states 1\n",
      "252\n",
      "num decoder states 1\n"
     ]
    },
    {
     "name": "stderr",
     "output_type": "stream",
     "text": [
      "RDKit runtime error on base molecule, with message:\n",
      "unsupported operand type(s) for -: '_vectSt6vectorIiSaIiEE' and '_vectSt6vectorIiSaIiEE'\n",
      "RDKit runtime error on base molecule, with message:\n",
      "unsupported operand type(s) for -: '_vectSt6vectorIiSaIiEE' and '_vectSt6vectorIiSaIiEE'\n",
      "RDKit runtime error on base molecule, with message:\n",
      "unsupported operand type(s) for -: '_vectSt6vectorIiSaIiEE' and '_vectSt6vectorIiSaIiEE'\n"
     ]
    },
    {
     "name": "stdout",
     "output_type": "stream",
     "text": [
      "257\n",
      "num decoder states 1\n",
      "262\n",
      "num decoder states 1\n",
      "267\n",
      "num decoder states 1\n"
     ]
    },
    {
     "name": "stderr",
     "output_type": "stream",
     "text": [
      "RDKit runtime error on base molecule, with message:\n",
      "unsupported operand type(s) for -: '_vectSt6vectorIiSaIiEE' and '_vectSt6vectorIiSaIiEE'\n",
      "RDKit runtime error on base molecule, with message:\n",
      "unsupported operand type(s) for -: '_vectSt6vectorIiSaIiEE' and '_vectSt6vectorIiSaIiEE'\n",
      "RDKit runtime error on base molecule, with message:\n",
      "unsupported operand type(s) for -: '_vectSt6vectorIiSaIiEE' and '_vectSt6vectorIiSaIiEE'\n"
     ]
    },
    {
     "name": "stdout",
     "output_type": "stream",
     "text": [
      "272\n",
      "num decoder states 1\n",
      "277\n",
      "num decoder states 1\n",
      "282\n"
     ]
    },
    {
     "name": "stderr",
     "output_type": "stream",
     "text": [
      "RDKit runtime error on base molecule, with message:\n",
      "unsupported operand type(s) for -: '_vectSt6vectorIiSaIiEE' and '_vectSt6vectorIiSaIiEE'\n",
      "RDKit runtime error on base molecule, with message:\n",
      "unsupported operand type(s) for -: '_vectSt6vectorIiSaIiEE' and '_vectSt6vectorIiSaIiEE'\n"
     ]
    },
    {
     "name": "stdout",
     "output_type": "stream",
     "text": [
      "num decoder states 1\n",
      "287\n",
      "num decoder states 1\n",
      "292\n",
      "num decoder states 1\n"
     ]
    },
    {
     "name": "stderr",
     "output_type": "stream",
     "text": [
      "RDKit runtime error on base molecule, with message:\n",
      "unsupported operand type(s) for -: '_vectSt6vectorIiSaIiEE' and '_vectSt6vectorIiSaIiEE'\n",
      "RDKit runtime error on base molecule, with message:\n",
      "unsupported operand type(s) for -: '_vectSt6vectorIiSaIiEE' and '_vectSt6vectorIiSaIiEE'\n",
      "RDKit runtime error on base molecule, with message:\n",
      "unsupported operand type(s) for -: '_vectSt6vectorIiSaIiEE' and '_vectSt6vectorIiSaIiEE'\n"
     ]
    },
    {
     "name": "stdout",
     "output_type": "stream",
     "text": [
      "297\n",
      "num decoder states 1\n",
      "302\n",
      "num decoder states 1\n",
      "307\n"
     ]
    },
    {
     "name": "stderr",
     "output_type": "stream",
     "text": [
      "RDKit runtime error on base molecule, with message:\n",
      "unsupported operand type(s) for -: '_vectSt6vectorIiSaIiEE' and '_vectSt6vectorIiSaIiEE'\n",
      "RDKit runtime error on base molecule, with message:\n",
      "unsupported operand type(s) for -: '_vectSt6vectorIiSaIiEE' and '_vectSt6vectorIiSaIiEE'\n"
     ]
    },
    {
     "name": "stdout",
     "output_type": "stream",
     "text": [
      "num decoder states 1\n",
      "312\n",
      "num decoder states 1\n",
      "315\n",
      "num decoder states 1\n"
     ]
    },
    {
     "name": "stderr",
     "output_type": "stream",
     "text": [
      "RDKit runtime error on base molecule, with message:\n",
      "unsupported operand type(s) for -: '_vectSt6vectorIiSaIiEE' and '_vectSt6vectorIiSaIiEE'\n",
      "RDKit runtime error on base molecule, with message:\n",
      "unsupported operand type(s) for -: '_vectSt6vectorIiSaIiEE' and '_vectSt6vectorIiSaIiEE'\n"
     ]
    },
    {
     "name": "stdout",
     "output_type": "stream",
     "text": [
      "323\n",
      "num decoder states 1\n",
      "328\n",
      "num decoder states 1\n",
      "333\n"
     ]
    },
    {
     "name": "stderr",
     "output_type": "stream",
     "text": [
      "RDKit runtime error on base molecule, with message:\n",
      "unsupported operand type(s) for -: '_vectSt6vectorIiSaIiEE' and '_vectSt6vectorIiSaIiEE'\n",
      "RDKit runtime error on base molecule, with message:\n",
      "unsupported operand type(s) for -: '_vectSt6vectorIiSaIiEE' and '_vectSt6vectorIiSaIiEE'\n",
      "RDKit runtime error on base molecule, with message:\n",
      "unsupported operand type(s) for -: '_vectSt6vectorIiSaIiEE' and '_vectSt6vectorIiSaIiEE'\n"
     ]
    },
    {
     "name": "stdout",
     "output_type": "stream",
     "text": [
      "num decoder states 1\n",
      "338\n",
      "num decoder states 1\n",
      "343\n"
     ]
    },
    {
     "name": "stderr",
     "output_type": "stream",
     "text": [
      "RDKit runtime error on base molecule, with message:\n",
      "unsupported operand type(s) for -: '_vectSt6vectorIiSaIiEE' and '_vectSt6vectorIiSaIiEE'\n",
      "RDKit runtime error on base molecule, with message:\n",
      "unsupported operand type(s) for -: '_vectSt6vectorIiSaIiEE' and '_vectSt6vectorIiSaIiEE'\n"
     ]
    },
    {
     "name": "stdout",
     "output_type": "stream",
     "text": [
      "num decoder states 1\n",
      "348\n",
      "num decoder states 1\n",
      "353\n"
     ]
    },
    {
     "name": "stderr",
     "output_type": "stream",
     "text": [
      "RDKit runtime error on base molecule, with message:\n",
      "unsupported operand type(s) for -: '_vectSt6vectorIiSaIiEE' and '_vectSt6vectorIiSaIiEE'\n",
      "RDKit runtime error on base molecule, with message:\n",
      "unsupported operand type(s) for -: '_vectSt6vectorIiSaIiEE' and '_vectSt6vectorIiSaIiEE'\n"
     ]
    },
    {
     "name": "stdout",
     "output_type": "stream",
     "text": [
      "num decoder states 1\n",
      "358\n",
      "num decoder states 1\n",
      "363\n"
     ]
    },
    {
     "name": "stderr",
     "output_type": "stream",
     "text": [
      "RDKit runtime error on base molecule, with message:\n",
      "unsupported operand type(s) for -: '_vectSt6vectorIiSaIiEE' and '_vectSt6vectorIiSaIiEE'\n",
      "RDKit runtime error on base molecule, with message:\n",
      "unsupported operand type(s) for -: '_vectSt6vectorIiSaIiEE' and '_vectSt6vectorIiSaIiEE'\n"
     ]
    },
    {
     "name": "stdout",
     "output_type": "stream",
     "text": [
      "num decoder states 1\n",
      "368\n",
      "num decoder states 1\n",
      "373\n"
     ]
    },
    {
     "name": "stderr",
     "output_type": "stream",
     "text": [
      "RDKit runtime error on base molecule, with message:\n",
      "unsupported operand type(s) for -: '_vectSt6vectorIiSaIiEE' and '_vectSt6vectorIiSaIiEE'\n",
      "RDKit runtime error on base molecule, with message:\n",
      "unsupported operand type(s) for -: '_vectSt6vectorIiSaIiEE' and '_vectSt6vectorIiSaIiEE'\n"
     ]
    },
    {
     "name": "stdout",
     "output_type": "stream",
     "text": [
      "num decoder states 1\n",
      "378\n",
      "num decoder states 1\n",
      "383\n"
     ]
    },
    {
     "name": "stderr",
     "output_type": "stream",
     "text": [
      "RDKit runtime error on base molecule, with message:\n",
      "unsupported operand type(s) for -: '_vectSt6vectorIiSaIiEE' and '_vectSt6vectorIiSaIiEE'\n",
      "RDKit runtime error on base molecule, with message:\n",
      "unsupported operand type(s) for -: '_vectSt6vectorIiSaIiEE' and '_vectSt6vectorIiSaIiEE'\n"
     ]
    },
    {
     "name": "stdout",
     "output_type": "stream",
     "text": [
      "num decoder states 1\n",
      "388\n",
      "num decoder states 1\n",
      "393\n"
     ]
    },
    {
     "name": "stderr",
     "output_type": "stream",
     "text": [
      "RDKit runtime error on base molecule, with message:\n",
      "unsupported operand type(s) for -: '_vectSt6vectorIiSaIiEE' and '_vectSt6vectorIiSaIiEE'\n"
     ]
    },
    {
     "name": "stdout",
     "output_type": "stream",
     "text": [
      "num decoder states 1\n",
      "398\n",
      "num decoder states 1\n",
      "403\n"
     ]
    },
    {
     "name": "stderr",
     "output_type": "stream",
     "text": [
      "RDKit runtime error on base molecule, with message:\n",
      "unsupported operand type(s) for -: '_vectSt6vectorIiSaIiEE' and '_vectSt6vectorIiSaIiEE'\n",
      "RDKit runtime error on base molecule, with message:\n",
      "unsupported operand type(s) for -: '_vectSt6vectorIiSaIiEE' and '_vectSt6vectorIiSaIiEE'\n"
     ]
    },
    {
     "name": "stdout",
     "output_type": "stream",
     "text": [
      "num decoder states 1\n",
      "406\n",
      "num decoder states 1\n"
     ]
    },
    {
     "name": "stderr",
     "output_type": "stream",
     "text": [
      "RDKit runtime error on base molecule, with message:\n",
      "unsupported operand type(s) for -: '_vectSt6vectorIiSaIiEE' and '_vectSt6vectorIiSaIiEE'\n",
      "RDKit runtime error on base molecule, with message:\n",
      "unsupported operand type(s) for -: '_vectSt6vectorIiSaIiEE' and '_vectSt6vectorIiSaIiEE'\n"
     ]
    },
    {
     "name": "stdout",
     "output_type": "stream",
     "text": [
      "414\n",
      "num decoder states 1\n",
      "419\n",
      "num decoder states 1\n"
     ]
    },
    {
     "name": "stderr",
     "output_type": "stream",
     "text": [
      "RDKit runtime error on base molecule, with message:\n",
      "unsupported operand type(s) for -: '_vectSt6vectorIiSaIiEE' and '_vectSt6vectorIiSaIiEE'\n",
      "RDKit runtime error on base molecule, with message:\n",
      "unsupported operand type(s) for -: '_vectSt6vectorIiSaIiEE' and '_vectSt6vectorIiSaIiEE'\n"
     ]
    },
    {
     "name": "stdout",
     "output_type": "stream",
     "text": [
      "424\n",
      "num decoder states 1\n",
      "429\n",
      "num decoder states 1\n"
     ]
    },
    {
     "name": "stderr",
     "output_type": "stream",
     "text": [
      "RDKit runtime error on base molecule, with message:\n",
      "unsupported operand type(s) for -: '_vectSt6vectorIiSaIiEE' and '_vectSt6vectorIiSaIiEE'\n",
      "RDKit runtime error on base molecule, with message:\n",
      "unsupported operand type(s) for -: '_vectSt6vectorIiSaIiEE' and '_vectSt6vectorIiSaIiEE'\n"
     ]
    },
    {
     "name": "stdout",
     "output_type": "stream",
     "text": [
      "434\n",
      "num decoder states 1\n",
      "439\n",
      "num decoder states 1\n"
     ]
    },
    {
     "name": "stderr",
     "output_type": "stream",
     "text": [
      "RDKit runtime error on base molecule, with message:\n",
      "unsupported operand type(s) for -: '_vectSt6vectorIiSaIiEE' and '_vectSt6vectorIiSaIiEE'\n",
      "RDKit runtime error on base molecule, with message:\n",
      "unsupported operand type(s) for -: '_vectSt6vectorIiSaIiEE' and '_vectSt6vectorIiSaIiEE'\n"
     ]
    },
    {
     "name": "stdout",
     "output_type": "stream",
     "text": [
      "444\n",
      "num decoder states 1\n",
      "449\n",
      "num decoder states 1\n"
     ]
    },
    {
     "name": "stderr",
     "output_type": "stream",
     "text": [
      "RDKit runtime error on base molecule, with message:\n",
      "unsupported operand type(s) for -: '_vectSt6vectorIiSaIiEE' and '_vectSt6vectorIiSaIiEE'\n",
      "RDKit runtime error on base molecule, with message:\n",
      "unsupported operand type(s) for -: '_vectSt6vectorIiSaIiEE' and '_vectSt6vectorIiSaIiEE'\n"
     ]
    },
    {
     "name": "stdout",
     "output_type": "stream",
     "text": [
      "454\n",
      "num decoder states 1\n",
      "459\n",
      "num decoder states 1\n"
     ]
    },
    {
     "name": "stderr",
     "output_type": "stream",
     "text": [
      "RDKit runtime error on base molecule, with message:\n",
      "unsupported operand type(s) for -: '_vectSt6vectorIiSaIiEE' and '_vectSt6vectorIiSaIiEE'\n",
      "RDKit runtime error on base molecule, with message:\n",
      "unsupported operand type(s) for -: '_vectSt6vectorIiSaIiEE' and '_vectSt6vectorIiSaIiEE'\n"
     ]
    },
    {
     "name": "stdout",
     "output_type": "stream",
     "text": [
      "464\n",
      "num decoder states 1\n",
      "469\n",
      "num decoder states 1\n"
     ]
    },
    {
     "name": "stderr",
     "output_type": "stream",
     "text": [
      "RDKit runtime error on base molecule, with message:\n",
      "unsupported operand type(s) for -: '_vectSt6vectorIiSaIiEE' and '_vectSt6vectorIiSaIiEE'\n",
      "RDKit runtime error on base molecule, with message:\n",
      "unsupported operand type(s) for -: '_vectSt6vectorIiSaIiEE' and '_vectSt6vectorIiSaIiEE'\n"
     ]
    },
    {
     "name": "stdout",
     "output_type": "stream",
     "text": [
      "474\n",
      "num decoder states 1\n",
      "479\n",
      "num decoder states 1\n"
     ]
    },
    {
     "name": "stderr",
     "output_type": "stream",
     "text": [
      "RDKit runtime error on base molecule, with message:\n",
      "unsupported operand type(s) for -: '_vectSt6vectorIiSaIiEE' and '_vectSt6vectorIiSaIiEE'\n",
      "RDKit runtime error on base molecule, with message:\n",
      "unsupported operand type(s) for -: '_vectSt6vectorIiSaIiEE' and '_vectSt6vectorIiSaIiEE'\n"
     ]
    },
    {
     "name": "stdout",
     "output_type": "stream",
     "text": [
      "484\n",
      "num decoder states 1\n",
      "489\n",
      "num decoder states 1\n"
     ]
    },
    {
     "name": "stderr",
     "output_type": "stream",
     "text": [
      "RDKit runtime error on base molecule, with message:\n",
      "unsupported operand type(s) for -: '_vectSt6vectorIiSaIiEE' and '_vectSt6vectorIiSaIiEE'\n",
      "RDKit runtime error on base molecule, with message:\n",
      "unsupported operand type(s) for -: '_vectSt6vectorIiSaIiEE' and '_vectSt6vectorIiSaIiEE'\n"
     ]
    },
    {
     "name": "stdout",
     "output_type": "stream",
     "text": [
      "494\n",
      "num decoder states 1\n",
      "499\n",
      "num decoder states 1\n"
     ]
    },
    {
     "name": "stderr",
     "output_type": "stream",
     "text": [
      "RDKit runtime error on base molecule, with message:\n",
      "unsupported operand type(s) for -: '_vectSt6vectorIiSaIiEE' and '_vectSt6vectorIiSaIiEE'\n",
      "RDKit runtime error on base molecule, with message:\n",
      "unsupported operand type(s) for -: '_vectSt6vectorIiSaIiEE' and '_vectSt6vectorIiSaIiEE'\n"
     ]
    },
    {
     "name": "stdout",
     "output_type": "stream",
     "text": [
      "504\n",
      "num decoder states 1\n",
      "507\n"
     ]
    }
   ],
   "source": [
    "max_num_steps = 100\n",
    "beam_size = 1\n",
    "\n",
    "\n",
    "\n",
    "num_steps = 0\n",
    "while num_steps < max_num_steps:\n",
    "    print('num decoder states',len(decoder_states))\n",
    "    # This will hold the results after this decoding step, grouped by input mol id:\n",
    "    new_decoder_states= []\n",
    "    num_steps += 1\n",
    "    # Step 1: Split decoder states into subsets, dependent on what they need next:\n",
    "    require_atom_states, require_bond_states, require_attachment_point_states = [], [], []\n",
    "    for decoder_state in decoder_states:\n",
    "        # No focus atom => needs a new atom\n",
    "        if decoder_state.focus_atom is None:\n",
    "            require_atom_states.append(decoder_state)\n",
    "        # Focus atom has invalid index => decoding finished, just push forward unchanged:\n",
    "        elif decoder_state.focus_atom < 0:\n",
    "            new_decoder_states.append(decoder_state)\n",
    "        else:\n",
    "            require_bond_states.append(decoder_state)\n",
    "\n",
    "    # Check if we are done:\n",
    "    if (len(require_atom_states) + len(require_bond_states)) == 0:\n",
    "        # print(\"I: Decoding finished\")\n",
    "        break\n",
    "\n",
    "    # Step 2: For states that require a new atom, try to pick one:\n",
    "    node_pick_results = _decoder_pick_new_atom_types(\n",
    "        decoder_states=require_atom_states,\n",
    "        num_samples=beam_size,\n",
    "        sampling_mode=sampling_mode,\n",
    "    )\n",
    "\n",
    "    for decoder_state, (node_type_picks, node_type_logprobs) in zip(\n",
    "        require_atom_states, node_pick_results\n",
    "    ):\n",
    "        for node_type_pick, node_type_logprob in node_type_picks:\n",
    "            # Set up generation trace storing variables, populating if needed.\n",
    "            atom_choice_info = None\n",
    "            if store_generation_traces:\n",
    "                atom_choice_info = MoleculeGenerationAtomChoiceInfo(\n",
    "                    node_idx=decoder_state.prior_focus_atom + 1,\n",
    "                    true_type_idx=None,\n",
    "                    type_idx_to_prob=np.exp(node_type_logprobs),\n",
    "                )\n",
    "\n",
    "            # If the decoder says we need no new atoms anymore, we are finished. Otherwise,\n",
    "            # start adding more bonds:\n",
    "            if node_type_pick is None:\n",
    "                # print(I {decoder_state.molecule_id} {decoder_state.logprob:12f}: Finished decoding - p={node_type_logprob:5f}\")\n",
    "                new_decoder_states.append(\n",
    "                    MoLeRDecoderState.new_for_finished_decoding(\n",
    "                        old_state=decoder_state,\n",
    "                        finish_logprob=node_type_logprob,\n",
    "                        atom_choice_info=atom_choice_info,\n",
    "                    )\n",
    "                )\n",
    "            else:\n",
    "                new_decoder_state, added_motif = _add_atom_or_motif(\n",
    "                    decoder_state,\n",
    "                    node_type_pick,\n",
    "                    logprob=node_type_logprob,\n",
    "                    choice_info=atom_choice_info,\n",
    "                )\n",
    "\n",
    "                if added_motif:\n",
    "                    require_attachment_point_states.append(new_decoder_state)\n",
    "                else:\n",
    "                    require_bond_states.append(new_decoder_state)\n",
    "\n",
    "    if uses_motifs:\n",
    "        # Step 2': For states that require picking an attachment point, pick one:\n",
    "        require_attachment_point_states = restrict_to_beam_size_per_mol(\n",
    "            require_attachment_point_states, beam_size\n",
    "        )\n",
    "        (\n",
    "            attachment_pick_results,\n",
    "            attachment_pick_logits,\n",
    "        ) = _decoder_pick_attachment_points(\n",
    "            decoder_states=require_attachment_point_states, sampling_mode=sampling_mode\n",
    "        )\n",
    "\n",
    "        for decoder_state, attachment_point_picks, attachment_point_logits in zip(\n",
    "            require_attachment_point_states,\n",
    "            attachment_pick_results,\n",
    "            attachment_pick_logits,\n",
    "        ):\n",
    "            for (attachment_point_pick, attachment_point_logprob) in attachment_point_picks:\n",
    "                attachment_point_choice_info = None\n",
    "                if store_generation_traces:\n",
    "                    attachment_point_choice_info = MoleculeGenerationAttachmentPointChoiceInfo(\n",
    "                        partial_molecule_adjacency_lists=decoder_state.adjacency_lists,\n",
    "                        motif_nodes=decoder_state.atoms_to_mark_as_visited,\n",
    "                        candidate_attachment_points=decoder_state.candidate_attachment_points,\n",
    "                        candidate_idx_to_prob= torch.nn.functional.log_softmax(attachment_point_logits),\n",
    "                        correct_attachment_point_idx=None,\n",
    "                    )\n",
    "\n",
    "                # print(I {decoder_state.molecule_id} {decoder_state.logprob:12f}: Picked attachment point {attachment_point_pick} - p={attachment_point_logprob:5f}\")\n",
    "                require_bond_states.append(\n",
    "                    MoLeRDecoderState.new_with_focus_on_attachment_point(\n",
    "                        decoder_state,\n",
    "                        attachment_point_pick,\n",
    "                        focus_atom_logprob=attachment_point_logprob,\n",
    "                        attachment_point_choice_info=attachment_point_choice_info,\n",
    "                    )\n",
    "                )\n",
    "    else:\n",
    "        assert not require_attachment_point_states\n",
    "\n",
    "    # Step 3: Pick fresh bonds and populate the next round of decoding steps:\n",
    "    require_bond_states = restrict_to_beam_size_per_mol(require_bond_states, beam_size)\n",
    "    bond_pick_results = _decoder_pick_new_bond_types(\n",
    "        decoder_states=require_bond_states,\n",
    "        store_generation_traces=store_generation_traces,\n",
    "        sampling_mode=sampling_mode,\n",
    "    )\n",
    "    for (decoder_state, (bond_picks, edge_choice_info)) in zip(\n",
    "        require_bond_states, bond_pick_results\n",
    "    ):\n",
    "        if len(bond_picks) == 0:\n",
    "            # There were no valid options for this bonds, so we treat this as if\n",
    "            # predicting no more bonds with probability 1.0:\n",
    "            # print(I {decoder_state.molecule_id} {decoder_state.logprob:12f}: No more allowed bonds to node {decoder_state.focus_atom}\")\n",
    "            new_decoder_states.append(\n",
    "                MoLeRDecoderState.new_with_focus_marked_as_visited(\n",
    "                    decoder_state,\n",
    "                    focus_node_finished_logprob=0,\n",
    "                    edge_choice_info=edge_choice_info,\n",
    "                )\n",
    "            )\n",
    "            continue\n",
    "\n",
    "        for (bond_pick, bond_pick_logprob) in bond_picks:\n",
    "            # If the decoder says we need no more bonds for the current focus node,\n",
    "            # we mark this and put the decoder state back for the next expansion round:\n",
    "            if bond_pick is None:\n",
    "                # print(I {decoder_state.molecule_id} {decoder_state.logprob:12f}: Finished connecting bonds to node {decoder_state.focus_atom} - p={bond_pick_logprob:5f}\")\n",
    "                new_decoder_states.append(\n",
    "                    MoLeRDecoderState.new_with_focus_marked_as_visited(\n",
    "                        decoder_state,\n",
    "                        focus_node_finished_logprob=bond_pick_logprob,\n",
    "                        edge_choice_info=edge_choice_info,\n",
    "                    )\n",
    "                )\n",
    "            else:\n",
    "                (picked_bond_target, picked_bond_type) = bond_pick\n",
    "\n",
    "                # print(I {decoder_state.molecule_id} {decoder_state.logprob:12f}: Adding {decoder_state.focus_atom}-{picked_bond_type}->{picked_bond_target} - p={bond_pick_logprob:5f}\")\n",
    "                new_decoder_states.append(\n",
    "                    MoLeRDecoderState.new_with_added_bond(\n",
    "                        old_state=decoder_state,\n",
    "                        target_atom_idx=int(\n",
    "                            picked_bond_target\n",
    "                        ),  # Go from np.int32 to pyInt\n",
    "                        bond_type_idx=picked_bond_type,\n",
    "                        bond_logprob=bond_pick_logprob,\n",
    "                        edge_choice_info=edge_choice_info,\n",
    "                    )\n",
    "                )\n",
    "\n",
    "    # Everything is done, restrict to the beam width, and go back to the loop start:\n",
    "    decoder_states = restrict_to_beam_size_per_mol(new_decoder_states, beam_size)"
   ]
  },
  {
   "cell_type": "code",
   "execution_count": 157,
   "id": "591095d9",
   "metadata": {},
   "outputs": [
    {
     "data": {
      "image/png": "[encoded data removed]",
      "text/plain": [
       "<rdkit.Chem.rdchem.RWMol at 0x7f9f741e7d60>"
      ]
     },
     "execution_count": 157,
     "metadata": {},
     "output_type": "execute_result"
    }
   ],
   "source": [
    "decoder_states[0].molecule"
   ]
  },
  {
   "cell_type": "code",
   "execution_count": 159,
   "id": "7e1d58f6",
   "metadata": {},
   "outputs": [
    {
     "data": {
      "text/plain": [
       "([<molecule_generation.utils.moler_decoding_utils.MoLeRDecoderState at 0x7f9f74216880>],\n",
       " [<molecule_generation.utils.moler_decoding_utils.MoLeRDecoderState at 0x7f9f742132e0>],\n",
       " [<molecule_generation.utils.moler_decoding_utils.MoLeRDecoderState at 0x7f9f74213040>])"
      ]
     },
     "execution_count": 159,
     "metadata": {},
     "output_type": "execute_result"
    }
   ],
   "source": [
    "require_atom_states, require_bond_states, require_attachment_point_states"
   ]
  },
  {
   "cell_type": "code",
   "execution_count": 163,
   "id": "0316acb1",
   "metadata": {},
   "outputs": [
    {
     "data": {
      "image/png": "[encoded data removed]",
      "text/plain": [
       "<rdkit.Chem.rdchem.RWMol at 0x7f9f741e7d60>"
      ]
     },
     "execution_count": 163,
     "metadata": {},
     "output_type": "execute_result"
    }
   ],
   "source": [
    "require_attachment_point_states[0].molecule"
   ]
  },
  {
   "cell_type": "code",
   "execution_count": null,
   "id": "5bb0865f",
   "metadata": {},
   "outputs": [],
   "source": []
  }
 ],
 "metadata": {
  "kernelspec": {
   "display_name": "Python 3 (ipykernel)",
   "language": "python",
   "name": "python3"
  },
  "language_info": {
   "codemirror_mode": {
    "name": "ipython",
    "version": 3
   },
   "file_extension": ".py",
   "mimetype": "text/x-python",
   "name": "python",
   "nbconvert_exporter": "python",
   "pygments_lexer": "ipython3",
   "version": "3.9.15"
  }
 },
 "nbformat": 4,
 "nbformat_minor": 5
}
