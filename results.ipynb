{
 "cells": [
  {
   "cell_type": "markdown",
   "id": "370dab88",
   "metadata": {},
   "source": [
    "# SA score\n",
    "\n",
    "Take all generated molecules from guacamol benchmark => run through SA score"
   ]
  },
  {
   "cell_type": "code",
   "execution_count": null,
   "id": "afd27fb1",
   "metadata": {},
   "outputs": [],
   "source": []
  },
  {
   "cell_type": "code",
   "execution_count": null,
   "id": "b18f5275",
   "metadata": {},
   "outputs": [],
   "source": []
  },
  {
   "cell_type": "code",
   "execution_count": null,
   "id": "d06dc73a",
   "metadata": {},
   "outputs": [],
   "source": []
  },
  {
   "cell_type": "markdown",
   "id": "dda4945b",
   "metadata": {},
   "source": [
    "# Test set rediscovery/Similarity search\n",
    "\n",
    "1. Take L1000 test set's gene expressions \n",
    "2. For each pair of tumour and control gene expressions => compute a difference vector \n",
    "3. Use euclidean distance and cosine distance between difference vector and every other difference vector in train set\n",
    "4. Choose the one with smallest distance (2 candidates per test set molecule)\n",
    "5. Generate 10 * num_possible_difference_vectors molecules in total for the set of possible pairs in test set using gene expression (Model will get 10 tries per difference vector)\n",
    "6. Compute max structural similarity between the generated molecules and their respective test set molecules \n",
    "7. Plot the distribution of max structural similarity for the similarity search and the max structural similarity for generated molecules (probability density plot)\n",
    "\n",
    "### train validation test split must be such that test set doesn't have molecules in the train set: this is so that during similarity search, we don't want to get the exact same molecule\n",
    "\n",
    "\n",
    "# Protein target (as per original paper)\n",
    "1. Given a protein target, we want to find the known molecules that inhibit it AND also appear in the l1000 dataset (so that we have gene expressions for them) \n",
    "2. Given these gene expressions we can similarity search within the training set\n",
    "3. Then we can compare these found molecules with ALL the known inhibitors for that protein\n",
    "\n",
    "### train validation test split will be based on which of the molecules are in the Excape database => all those belonging to the protein targets will have to be in the test set and not in the train set"
   ]
  },
  {
   "cell_type": "code",
   "execution_count": null,
   "id": "ae7d7a9e",
   "metadata": {},
   "outputs": [],
   "source": []
  },
  {
   "cell_type": "code",
   "execution_count": null,
   "id": "b0d7a3ce",
   "metadata": {},
   "outputs": [],
   "source": []
  }
 ],
 "metadata": {
  "kernelspec": {
   "display_name": "Python 3 (ipykernel)",
   "language": "python",
   "name": "python3"
  },
  "language_info": {
   "codemirror_mode": {
    "name": "ipython",
    "version": 3
   },
   "file_extension": ".py",
   "mimetype": "text/x-python",
   "name": "python",
   "nbconvert_exporter": "python",
   "pygments_lexer": "ipython3",
   "version": "3.9.15"
  }
 },
 "nbformat": 4,
 "nbformat_minor": 5
}
